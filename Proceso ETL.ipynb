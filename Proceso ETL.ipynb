{
 "cells": [
  {
   "cell_type": "code",
   "execution_count": 2,
   "metadata": {},
   "outputs": [],
   "source": [
    "import polars as pl\n",
    "from polars import Config"
   ]
  },
  {
   "cell_type": "code",
   "execution_count": 3,
   "metadata": {},
   "outputs": [
    {
     "data": {
      "text/plain": [
       "polars.config.Config"
      ]
     },
     "execution_count": 3,
     "metadata": {},
     "output_type": "execute_result"
    }
   ],
   "source": [
    "# Configurar el tamaño de los string\n",
    "Config.set_fmt_str_lengths(100)"
   ]
  },
  {
   "cell_type": "markdown",
   "metadata": {},
   "source": [
    "##### Leyendo un archivo txt sin encabezados"
   ]
  },
  {
   "cell_type": "code",
   "execution_count": 4,
   "metadata": {},
   "outputs": [
    {
     "data": {
      "text/html": [
       "<div><style>\n",
       ".dataframe > thead > tr,\n",
       ".dataframe > tbody > tr {\n",
       "  text-align: right;\n",
       "  white-space: pre-wrap;\n",
       "}\n",
       "</style>\n",
       "<small>shape: (10, 4)</small><table border=\"1\" class=\"dataframe\"><thead><tr><th>Numero Ticket</th><th>Estado</th><th>Fecha Creacion</th><th>Clasificacion</th></tr><tr><td>str</td><td>str</td><td>date</td><td>i64</td></tr></thead><tbody><tr><td>&quot;WO0000004122687&quot;</td><td>&quot;Cerrado&quot;</td><td>2022-06-01</td><td>3</td></tr><tr><td>&quot;WO0000004122649&quot;</td><td>&quot;Cerrado&quot;</td><td>2022-06-01</td><td>3</td></tr><tr><td>&quot;WO0000004122502&quot;</td><td>&quot;Cerrado&quot;</td><td>2022-06-01</td><td>3</td></tr><tr><td>&quot;WO0000004122513&quot;</td><td>&quot;Cerrado&quot;</td><td>2022-06-01</td><td>3</td></tr><tr><td>&quot;WO0000004122741&quot;</td><td>&quot;Cerrado&quot;</td><td>2022-06-01</td><td>3</td></tr><tr><td>&quot;WO0000004122511&quot;</td><td>&quot;Cerrado&quot;</td><td>2022-06-01</td><td>3</td></tr><tr><td>&quot;WO0000004122522&quot;</td><td>&quot;Cerrado&quot;</td><td>2022-06-01</td><td>3</td></tr><tr><td>&quot;WO0000004122302&quot;</td><td>&quot;Cerrado&quot;</td><td>2022-06-01</td><td>3</td></tr><tr><td>&quot;WO0000004122360&quot;</td><td>&quot;Cerrado&quot;</td><td>2022-06-01</td><td>3</td></tr><tr><td>&quot;WO0000004122688&quot;</td><td>&quot;Cerrado&quot;</td><td>2022-06-01</td><td>3</td></tr></tbody></table></div>"
      ],
      "text/plain": [
       "shape: (10, 4)\n",
       "┌─────────────────┬─────────┬────────────────┬───────────────┐\n",
       "│ Numero Ticket   ┆ Estado  ┆ Fecha Creacion ┆ Clasificacion │\n",
       "│ ---             ┆ ---     ┆ ---            ┆ ---           │\n",
       "│ str             ┆ str     ┆ date           ┆ i64           │\n",
       "╞═════════════════╪═════════╪════════════════╪═══════════════╡\n",
       "│ WO0000004122687 ┆ Cerrado ┆ 2022-06-01     ┆ 3             │\n",
       "│ WO0000004122649 ┆ Cerrado ┆ 2022-06-01     ┆ 3             │\n",
       "│ WO0000004122502 ┆ Cerrado ┆ 2022-06-01     ┆ 3             │\n",
       "│ WO0000004122513 ┆ Cerrado ┆ 2022-06-01     ┆ 3             │\n",
       "│ WO0000004122741 ┆ Cerrado ┆ 2022-06-01     ┆ 3             │\n",
       "│ WO0000004122511 ┆ Cerrado ┆ 2022-06-01     ┆ 3             │\n",
       "│ WO0000004122522 ┆ Cerrado ┆ 2022-06-01     ┆ 3             │\n",
       "│ WO0000004122302 ┆ Cerrado ┆ 2022-06-01     ┆ 3             │\n",
       "│ WO0000004122360 ┆ Cerrado ┆ 2022-06-01     ┆ 3             │\n",
       "│ WO0000004122688 ┆ Cerrado ┆ 2022-06-01     ┆ 3             │\n",
       "└─────────────────┴─────────┴────────────────┴───────────────┘"
      ]
     },
     "execution_count": 4,
     "metadata": {},
     "output_type": "execute_result"
    }
   ],
   "source": [
    "df = pl.read_csv(\n",
    "    source='./Tickets/SinEncabezado.txt', separator=';', has_header= False,\n",
    "    schema={\n",
    "        \"Numero Ticket\": pl.Utf8,\n",
    "        \"Estado\": pl.Utf8,\n",
    "        \"Fecha Creacion\": pl.Date,\n",
    "        \"Clasificacion\": pl.Int64\n",
    "    },\n",
    "    ignore_errors=True # ayuda a castear los valores errados a valores nulos\n",
    ")\n",
    "\n",
    "df.head(10)"
   ]
  },
  {
   "cell_type": "markdown",
   "metadata": {},
   "source": [
    "##### Leyendo un archivo txt con Encabezados (Histórico)"
   ]
  },
  {
   "cell_type": "code",
   "execution_count": 5,
   "metadata": {},
   "outputs": [
    {
     "data": {
      "text/html": [
       "<div><style>\n",
       ".dataframe > thead > tr,\n",
       ".dataframe > tbody > tr {\n",
       "  text-align: right;\n",
       "  white-space: pre-wrap;\n",
       "}\n",
       "</style>\n",
       "<small>shape: (10, 7)</small><table border=\"1\" class=\"dataframe\"><thead><tr><th>TicketID</th><th>Ubicacion</th><th>Service Desk</th><th>Estado</th><th>Fecha Creacion</th><th>Fecha Termino</th><th>Fecha Cierre</th></tr><tr><td>str</td><td>str</td><td>str</td><td>str</td><td>date</td><td>date</td><td>date</td></tr></thead><tbody><tr><td>&quot;WO0000004122687&quot;</td><td>&quot;AREQUIPA - 215000&quot;</td><td>&quot;Zona Norte&quot;</td><td>&quot;Cerrado&quot;</td><td>2022-06-01</td><td>2022-06-14</td><td>2022-06-14</td></tr><tr><td>&quot;WO0000004122649&quot;</td><td>&quot;METRO AV. WIESSE - 191106&quot;</td><td>&quot;Zona Centro&quot;</td><td>&quot;Cerrado&quot;</td><td>2022-06-01</td><td>2022-06-17</td><td>2022-06-17</td></tr><tr><td>&quot;WO0000004122502&quot;</td><td>&quot;NICOLAS AYLLON - 191027&quot;</td><td>&quot;Zona Centro&quot;</td><td>&quot;Cerrado&quot;</td><td>2022-06-01</td><td>2022-06-08</td><td>2022-06-08</td></tr><tr><td>&quot;WO0000004122513&quot;</td><td>&quot;JAUREGUI - 405005&quot;</td><td>&quot;Zona Norte&quot;</td><td>&quot;Cerrado&quot;</td><td>2022-06-01</td><td>2022-06-18</td><td>2022-06-18</td></tr><tr><td>&quot;WO0000004122741&quot;</td><td>&quot;CANTO GRANDE - 191096&quot;</td><td>&quot;Zona Centro&quot;</td><td>&quot;Cerrado&quot;</td><td>2022-06-01</td><td>2022-06-08</td><td>2022-06-08</td></tr><tr><td>&quot;WO0000004122511&quot;</td><td>&quot;CHIMPU OCLLO - 191113&quot;</td><td>&quot;Zona Centro&quot;</td><td>&quot;Cerrado&quot;</td><td>2022-06-01</td><td>2022-06-03</td><td>2022-06-03</td></tr><tr><td>&quot;WO0000004122522&quot;</td><td>&quot;MINI AGENCIA BCP SALAMANCA - 191090&quot;</td><td>&quot;Zona Centro&quot;</td><td>&quot;Cerrado&quot;</td><td>2022-06-01</td><td>2022-06-07</td><td>2022-06-07</td></tr><tr><td>&quot;WO0000004122302&quot;</td><td>&quot;IMPERIAL - 255001&quot;</td><td>&quot;Zona Norte&quot;</td><td>&quot;Cerrado&quot;</td><td>2022-06-01</td><td>2022-06-10</td><td>2022-06-10</td></tr><tr><td>&quot;WO0000004122360&quot;</td><td>&quot;AREQUIPA - 215000&quot;</td><td>&quot;Zona Norte&quot;</td><td>&quot;Cerrado&quot;</td><td>2022-06-01</td><td>2022-06-13</td><td>2022-06-13</td></tr><tr><td>&quot;WO0000004122688&quot;</td><td>&quot;AREQUIPA - 215000&quot;</td><td>&quot;Zona Norte&quot;</td><td>&quot;Cerrado&quot;</td><td>2022-06-01</td><td>2022-06-17</td><td>2022-06-17</td></tr></tbody></table></div>"
      ],
      "text/plain": [
       "shape: (10, 7)\n",
       "┌──────────────┬──────────────┬──────────────┬─────────┬──────────────┬──────────────┬─────────────┐\n",
       "│ TicketID     ┆ Ubicacion    ┆ Service Desk ┆ Estado  ┆ Fecha        ┆ Fecha        ┆ Fecha       │\n",
       "│ ---          ┆ ---          ┆ ---          ┆ ---     ┆ Creacion     ┆ Termino      ┆ Cierre      │\n",
       "│ str          ┆ str          ┆ str          ┆ str     ┆ ---          ┆ ---          ┆ ---         │\n",
       "│              ┆              ┆              ┆         ┆ date         ┆ date         ┆ date        │\n",
       "╞══════════════╪══════════════╪══════════════╪═════════╪══════════════╪══════════════╪═════════════╡\n",
       "│ WO0000004122 ┆ AREQUIPA -   ┆ Zona Norte   ┆ Cerrado ┆ 2022-06-01   ┆ 2022-06-14   ┆ 2022-06-14  │\n",
       "│ 687          ┆ 215000       ┆              ┆         ┆              ┆              ┆             │\n",
       "│ WO0000004122 ┆ METRO AV.    ┆ Zona Centro  ┆ Cerrado ┆ 2022-06-01   ┆ 2022-06-17   ┆ 2022-06-17  │\n",
       "│ 649          ┆ WIESSE -     ┆              ┆         ┆              ┆              ┆             │\n",
       "│              ┆ 191106       ┆              ┆         ┆              ┆              ┆             │\n",
       "│ WO0000004122 ┆ NICOLAS      ┆ Zona Centro  ┆ Cerrado ┆ 2022-06-01   ┆ 2022-06-08   ┆ 2022-06-08  │\n",
       "│ 502          ┆ AYLLON -     ┆              ┆         ┆              ┆              ┆             │\n",
       "│              ┆ 191027       ┆              ┆         ┆              ┆              ┆             │\n",
       "│ WO0000004122 ┆ JAUREGUI -   ┆ Zona Norte   ┆ Cerrado ┆ 2022-06-01   ┆ 2022-06-18   ┆ 2022-06-18  │\n",
       "│ 513          ┆ 405005       ┆              ┆         ┆              ┆              ┆             │\n",
       "│ WO0000004122 ┆ CANTO GRANDE ┆ Zona Centro  ┆ Cerrado ┆ 2022-06-01   ┆ 2022-06-08   ┆ 2022-06-08  │\n",
       "│ 741          ┆ - 191096     ┆              ┆         ┆              ┆              ┆             │\n",
       "│ WO0000004122 ┆ CHIMPU OCLLO ┆ Zona Centro  ┆ Cerrado ┆ 2022-06-01   ┆ 2022-06-03   ┆ 2022-06-03  │\n",
       "│ 511          ┆ - 191113     ┆              ┆         ┆              ┆              ┆             │\n",
       "│ WO0000004122 ┆ MINI AGENCIA ┆ Zona Centro  ┆ Cerrado ┆ 2022-06-01   ┆ 2022-06-07   ┆ 2022-06-07  │\n",
       "│ 522          ┆ BCP          ┆              ┆         ┆              ┆              ┆             │\n",
       "│              ┆ SALAMANCA -  ┆              ┆         ┆              ┆              ┆             │\n",
       "│              ┆ 191090       ┆              ┆         ┆              ┆              ┆             │\n",
       "│ WO0000004122 ┆ IMPERIAL -   ┆ Zona Norte   ┆ Cerrado ┆ 2022-06-01   ┆ 2022-06-10   ┆ 2022-06-10  │\n",
       "│ 302          ┆ 255001       ┆              ┆         ┆              ┆              ┆             │\n",
       "│ WO0000004122 ┆ AREQUIPA -   ┆ Zona Norte   ┆ Cerrado ┆ 2022-06-01   ┆ 2022-06-13   ┆ 2022-06-13  │\n",
       "│ 360          ┆ 215000       ┆              ┆         ┆              ┆              ┆             │\n",
       "│ WO0000004122 ┆ AREQUIPA -   ┆ Zona Norte   ┆ Cerrado ┆ 2022-06-01   ┆ 2022-06-17   ┆ 2022-06-17  │\n",
       "│ 688          ┆ 215000       ┆              ┆         ┆              ┆              ┆             │\n",
       "└──────────────┴──────────────┴──────────────┴─────────┴──────────────┴──────────────┴─────────────┘"
      ]
     },
     "execution_count": 5,
     "metadata": {},
     "output_type": "execute_result"
    }
   ],
   "source": [
    "historico = pl.read_csv(\n",
    "    source='./Tickets/Tickets Historico.txt',\n",
    "    separator=';',\n",
    "    columns = ['Numero Ticket', 'Ubicacion', 'Service Desk', 'Estado', 'Fecha Creacion', 'Fecha Termino' , 'Fecha Cierre'],\n",
    "    try_parse_dates = True, # yyyy-MM-dd\n",
    "    ignore_errors = True\n",
    ").rename({'Numero Ticket': 'TicketID'})\n",
    "\n",
    "historico.head(10)"
   ]
  },
  {
   "cell_type": "markdown",
   "metadata": {},
   "source": [
    "##### Leyendo un archivo txt con Encabezados (Actual)"
   ]
  },
  {
   "cell_type": "code",
   "execution_count": 6,
   "metadata": {},
   "outputs": [],
   "source": [
    "actual = pl.read_csv(\n",
    "    source='./Tickets/Tickets Actual.csv',\n",
    "    separator='|',\n",
    "    columns=['Numero Ticket', 'Ubicacion', 'Service Desk', 'Estado', 'Fecha Creacion', 'Fecha Termino' , 'Fecha Cierre']\n",
    ")"
   ]
  },
  {
   "cell_type": "code",
   "execution_count": 7,
   "metadata": {},
   "outputs": [
    {
     "data": {
      "text/html": [
       "<div><style>\n",
       ".dataframe > thead > tr,\n",
       ".dataframe > tbody > tr {\n",
       "  text-align: right;\n",
       "  white-space: pre-wrap;\n",
       "}\n",
       "</style>\n",
       "<small>shape: (5, 7)</small><table border=\"1\" class=\"dataframe\"><thead><tr><th>Numero Ticket</th><th>Ubicacion</th><th>Service Desk</th><th>Estado</th><th>Fecha Creacion</th><th>Fecha Termino</th><th>Fecha Cierre</th></tr><tr><td>str</td><td>str</td><td>str</td><td>str</td><td>str</td><td>str</td><td>str</td></tr></thead><tbody><tr><td>&quot;WO0000004853311&quot;</td><td>&quot;TUPAC AMARU - 191038&quot;</td><td>&quot;Zona Centro&quot;</td><td>&quot;Cerrado&quot;</td><td>&quot;2023-01-02&quot;</td><td>&quot;10/01/2023&quot;</td><td>&quot;13/01/2023&quot;</td></tr><tr><td>&quot;WO0000004852942&quot;</td><td>&quot;SAN JUAN DE LURIGANCHO - 191017&quot;</td><td>&quot;Zona Centro&quot;</td><td>&quot;Cerrado&quot;</td><td>&quot;2023-01-02&quot;</td><td>&quot;2/01/2023&quot;</td><td>&quot;5/01/2023&quot;</td></tr><tr><td>&quot;WO0000004852621&quot;</td><td>&quot;MARIANO MELGAR - 215014&quot;</td><td>&quot;Zona Norte&quot;</td><td>&quot;Cerrado&quot;</td><td>&quot;2023-01-02&quot;</td><td>&quot;6/01/2023&quot;</td><td>&quot;9/01/2023&quot;</td></tr><tr><td>&quot;SA0000004853328&quot;</td><td>&quot;ANDAHUAYLAS - 205000&quot;</td><td>&quot;Zona Norte&quot;</td><td>&quot;Cerrado&quot;</td><td>&quot;2023-01-02&quot;</td><td>&quot;7/01/2023&quot;</td><td>&quot;10/01/2023&quot;</td></tr><tr><td>&quot;SA0000004853160&quot;</td><td>&quot;COLLIQUE - 191065&quot;</td><td>&quot;Zona Centro&quot;</td><td>&quot;Cerrado&quot;</td><td>&quot;2023-01-02&quot;</td><td>&quot;4/01/2023&quot;</td><td>&quot;7/01/2023&quot;</td></tr></tbody></table></div>"
      ],
      "text/plain": [
       "shape: (5, 7)\n",
       "┌──────────────┬──────────────┬──────────────┬─────────┬──────────────┬──────────────┬─────────────┐\n",
       "│ Numero       ┆ Ubicacion    ┆ Service Desk ┆ Estado  ┆ Fecha        ┆ Fecha        ┆ Fecha       │\n",
       "│ Ticket       ┆ ---          ┆ ---          ┆ ---     ┆ Creacion     ┆ Termino      ┆ Cierre      │\n",
       "│ ---          ┆ str          ┆ str          ┆ str     ┆ ---          ┆ ---          ┆ ---         │\n",
       "│ str          ┆              ┆              ┆         ┆ str          ┆ str          ┆ str         │\n",
       "╞══════════════╪══════════════╪══════════════╪═════════╪══════════════╪══════════════╪═════════════╡\n",
       "│ WO0000004853 ┆ TUPAC AMARU  ┆ Zona Centro  ┆ Cerrado ┆ 2023-01-02   ┆ 10/01/2023   ┆ 13/01/2023  │\n",
       "│ 311          ┆ - 191038     ┆              ┆         ┆              ┆              ┆             │\n",
       "│ WO0000004852 ┆ SAN JUAN DE  ┆ Zona Centro  ┆ Cerrado ┆ 2023-01-02   ┆ 2/01/2023    ┆ 5/01/2023   │\n",
       "│ 942          ┆ LURIGANCHO - ┆              ┆         ┆              ┆              ┆             │\n",
       "│              ┆ 191017       ┆              ┆         ┆              ┆              ┆             │\n",
       "│ WO0000004852 ┆ MARIANO      ┆ Zona Norte   ┆ Cerrado ┆ 2023-01-02   ┆ 6/01/2023    ┆ 9/01/2023   │\n",
       "│ 621          ┆ MELGAR -     ┆              ┆         ┆              ┆              ┆             │\n",
       "│              ┆ 215014       ┆              ┆         ┆              ┆              ┆             │\n",
       "│ SA0000004853 ┆ ANDAHUAYLAS  ┆ Zona Norte   ┆ Cerrado ┆ 2023-01-02   ┆ 7/01/2023    ┆ 10/01/2023  │\n",
       "│ 328          ┆ - 205000     ┆              ┆         ┆              ┆              ┆             │\n",
       "│ SA0000004853 ┆ COLLIQUE -   ┆ Zona Centro  ┆ Cerrado ┆ 2023-01-02   ┆ 4/01/2023    ┆ 7/01/2023   │\n",
       "│ 160          ┆ 191065       ┆              ┆         ┆              ┆              ┆             │\n",
       "└──────────────┴──────────────┴──────────────┴─────────┴──────────────┴──────────────┴─────────────┘"
      ]
     },
     "execution_count": 7,
     "metadata": {},
     "output_type": "execute_result"
    }
   ],
   "source": [
    "actual.head()"
   ]
  },
  {
   "cell_type": "markdown",
   "metadata": {},
   "source": [
    "##### Proceso de Limpieza y transformacion"
   ]
  },
  {
   "cell_type": "code",
   "execution_count": 8,
   "metadata": {},
   "outputs": [
    {
     "data": {
      "text/html": [
       "<div><style>\n",
       ".dataframe > thead > tr,\n",
       ".dataframe > tbody > tr {\n",
       "  text-align: right;\n",
       "  white-space: pre-wrap;\n",
       "}\n",
       "</style>\n",
       "<small>shape: (13_050, 7)</small><table border=\"1\" class=\"dataframe\"><thead><tr><th>Numero Ticket</th><th>Ubicacion</th><th>Service Desk</th><th>Estado</th><th>Fecha Creacion</th><th>Fecha Termino</th><th>Fecha Cierre</th></tr><tr><td>str</td><td>str</td><td>str</td><td>str</td><td>date</td><td>str</td><td>str</td></tr></thead><tbody><tr><td>&quot;WO0000004853311&quot;</td><td>&quot;TUPAC AMARU - 191038&quot;</td><td>&quot;Zona Centro&quot;</td><td>&quot;Cerrado&quot;</td><td>2023-01-02</td><td>&quot;10/01/2023&quot;</td><td>&quot;13/01/2023&quot;</td></tr><tr><td>&quot;WO0000004852942&quot;</td><td>&quot;SAN JUAN DE LURIGANCHO - 191017&quot;</td><td>&quot;Zona Centro&quot;</td><td>&quot;Cerrado&quot;</td><td>2023-01-02</td><td>&quot;2/01/2023&quot;</td><td>&quot;5/01/2023&quot;</td></tr><tr><td>&quot;WO0000004852621&quot;</td><td>&quot;MARIANO MELGAR - 215014&quot;</td><td>&quot;Zona Norte&quot;</td><td>&quot;Cerrado&quot;</td><td>2023-01-02</td><td>&quot;6/01/2023&quot;</td><td>&quot;9/01/2023&quot;</td></tr><tr><td>&quot;SA0000004853328&quot;</td><td>&quot;ANDAHUAYLAS - 205000&quot;</td><td>&quot;Zona Norte&quot;</td><td>&quot;Cerrado&quot;</td><td>2023-01-02</td><td>&quot;7/01/2023&quot;</td><td>&quot;10/01/2023&quot;</td></tr><tr><td>&quot;SA0000004853160&quot;</td><td>&quot;COLLIQUE - 191065&quot;</td><td>&quot;Zona Centro&quot;</td><td>&quot;Cerrado&quot;</td><td>2023-01-02</td><td>&quot;4/01/2023&quot;</td><td>&quot;7/01/2023&quot;</td></tr><tr><td>&quot;SA0000004853158&quot;</td><td>&quot;COLLIQUE - 191065&quot;</td><td>&quot;Zona Centro&quot;</td><td>&quot;Cerrado&quot;</td><td>2023-01-02</td><td>&quot;6/01/2023&quot;</td><td>&quot;9/01/2023&quot;</td></tr><tr><td>&quot;SA0000004853157&quot;</td><td>&quot;COLLIQUE - 191065&quot;</td><td>&quot;Zona Centro&quot;</td><td>&quot;Cerrado&quot;</td><td>2023-01-02</td><td>&quot;4/01/2023&quot;</td><td>&quot;7/01/2023&quot;</td></tr><tr><td>&quot;SA0000004853156&quot;</td><td>&quot;COLLIQUE - 191065&quot;</td><td>&quot;Zona Centro&quot;</td><td>&quot;Cerrado&quot;</td><td>2023-01-02</td><td>&quot;15/01/2023&quot;</td><td>&quot;18/01/2023&quot;</td></tr><tr><td>&quot;WO0000004853328&quot;</td><td>&quot;ANDAHUAYLAS - 205000&quot;</td><td>&quot;Zona Norte&quot;</td><td>&quot;Cerrado&quot;</td><td>2023-01-02</td><td>&quot;7/01/2023&quot;</td><td>&quot;10/01/2023&quot;</td></tr><tr><td>&quot;WO0000004853160&quot;</td><td>&quot;COLLIQUE - 191065&quot;</td><td>&quot;Zona Centro&quot;</td><td>&quot;Cerrado&quot;</td><td>2023-01-02</td><td>&quot;4/01/2023&quot;</td><td>&quot;7/01/2023&quot;</td></tr><tr><td>&quot;WO0000004853158&quot;</td><td>&quot;COLLIQUE - 191065&quot;</td><td>&quot;Zona Centro&quot;</td><td>&quot;Cerrado&quot;</td><td>2023-01-02</td><td>&quot;6/01/2023&quot;</td><td>&quot;9/01/2023&quot;</td></tr><tr><td>&quot;WO0000004853157&quot;</td><td>&quot;COLLIQUE - 191065&quot;</td><td>&quot;Zona Centro&quot;</td><td>&quot;Cerrado&quot;</td><td>2023-01-02</td><td>&quot;4/01/2023&quot;</td><td>&quot;7/01/2023&quot;</td></tr><tr><td>&hellip;</td><td>&hellip;</td><td>&hellip;</td><td>&hellip;</td><td>&hellip;</td><td>&hellip;</td><td>&hellip;</td></tr><tr><td>&quot;OT0000005737139&quot;</td><td>&quot;CANTO GRANDE - 191096&quot;</td><td>&quot;Zona Centro&quot;</td><td>&quot;En curso&quot;</td><td>2023-10-29</td><td>null</td><td>null</td></tr><tr><td>&quot;OT0000005736853&quot;</td><td>&quot;NARANJAL - 191141&quot;</td><td>&quot;Zona Centro&quot;</td><td>&quot;En curso&quot;</td><td>2023-10-29</td><td>null</td><td>null</td></tr><tr><td>&quot;OT0000005736847&quot;</td><td>&quot;NARANJAL - 191141&quot;</td><td>&quot;Zona Centro&quot;</td><td>&quot;En curso&quot;</td><td>2023-10-29</td><td>null</td><td>null</td></tr><tr><td>&quot;OT0000005736845&quot;</td><td>&quot;NARANJAL - 191141&quot;</td><td>&quot;Zona Centro&quot;</td><td>&quot;En curso&quot;</td><td>2023-10-29</td><td>null</td><td>null</td></tr><tr><td>&quot;OT0000005736387&quot;</td><td>&quot;TARAPACA - 191030&quot;</td><td>&quot;Zona Centro&quot;</td><td>&quot;En curso&quot;</td><td>2023-10-29</td><td>null</td><td>null</td></tr><tr><td>&quot;WO0000005737826&quot;</td><td>&quot;EDUARDO DE HABICH - 191023&quot;</td><td>&quot;Zona Centro&quot;</td><td>&quot;En curso&quot;</td><td>2023-10-29</td><td>null</td><td>null</td></tr><tr><td>&quot;WO0000005736855&quot;</td><td>&quot;NARANJAL - 191141&quot;</td><td>&quot;Zona Centro&quot;</td><td>&quot;En curso&quot;</td><td>2023-10-29</td><td>null</td><td>null</td></tr><tr><td>&quot;WO0000005737139&quot;</td><td>&quot;CANTO GRANDE - 191096&quot;</td><td>&quot;Zona Centro&quot;</td><td>&quot;En curso&quot;</td><td>2023-10-29</td><td>null</td><td>null</td></tr><tr><td>&quot;WO0000005736853&quot;</td><td>&quot;NARANJAL - 191141&quot;</td><td>&quot;Zona Centro&quot;</td><td>&quot;En curso&quot;</td><td>2023-10-29</td><td>null</td><td>null</td></tr><tr><td>&quot;WO0000005736847&quot;</td><td>&quot;NARANJAL - 191141&quot;</td><td>&quot;Zona Centro&quot;</td><td>&quot;En curso&quot;</td><td>2023-10-29</td><td>null</td><td>null</td></tr><tr><td>&quot;WO0000005736845&quot;</td><td>&quot;NARANJAL - 191141&quot;</td><td>&quot;Zona Centro&quot;</td><td>&quot;En curso&quot;</td><td>2023-10-29</td><td>null</td><td>null</td></tr><tr><td>&quot;WO0000005736387&quot;</td><td>&quot;TARAPACA - 191030&quot;</td><td>&quot;Zona Centro&quot;</td><td>&quot;En curso&quot;</td><td>2023-10-29</td><td>null</td><td>null</td></tr></tbody></table></div>"
      ],
      "text/plain": [
       "shape: (13_050, 7)\n",
       "┌──────────────┬──────────────┬──────────────┬──────────┬──────────────┬─────────────┬─────────────┐\n",
       "│ Numero       ┆ Ubicacion    ┆ Service Desk ┆ Estado   ┆ Fecha        ┆ Fecha       ┆ Fecha       │\n",
       "│ Ticket       ┆ ---          ┆ ---          ┆ ---      ┆ Creacion     ┆ Termino     ┆ Cierre      │\n",
       "│ ---          ┆ str          ┆ str          ┆ str      ┆ ---          ┆ ---         ┆ ---         │\n",
       "│ str          ┆              ┆              ┆          ┆ date         ┆ str         ┆ str         │\n",
       "╞══════════════╪══════════════╪══════════════╪══════════╪══════════════╪═════════════╪═════════════╡\n",
       "│ WO0000004853 ┆ TUPAC AMARU  ┆ Zona Centro  ┆ Cerrado  ┆ 2023-01-02   ┆ 10/01/2023  ┆ 13/01/2023  │\n",
       "│ 311          ┆ - 191038     ┆              ┆          ┆              ┆             ┆             │\n",
       "│ WO0000004852 ┆ SAN JUAN DE  ┆ Zona Centro  ┆ Cerrado  ┆ 2023-01-02   ┆ 2/01/2023   ┆ 5/01/2023   │\n",
       "│ 942          ┆ LURIGANCHO - ┆              ┆          ┆              ┆             ┆             │\n",
       "│              ┆ 191017       ┆              ┆          ┆              ┆             ┆             │\n",
       "│ WO0000004852 ┆ MARIANO      ┆ Zona Norte   ┆ Cerrado  ┆ 2023-01-02   ┆ 6/01/2023   ┆ 9/01/2023   │\n",
       "│ 621          ┆ MELGAR -     ┆              ┆          ┆              ┆             ┆             │\n",
       "│              ┆ 215014       ┆              ┆          ┆              ┆             ┆             │\n",
       "│ SA0000004853 ┆ ANDAHUAYLAS  ┆ Zona Norte   ┆ Cerrado  ┆ 2023-01-02   ┆ 7/01/2023   ┆ 10/01/2023  │\n",
       "│ 328          ┆ - 205000     ┆              ┆          ┆              ┆             ┆             │\n",
       "│ SA0000004853 ┆ COLLIQUE -   ┆ Zona Centro  ┆ Cerrado  ┆ 2023-01-02   ┆ 4/01/2023   ┆ 7/01/2023   │\n",
       "│ 160          ┆ 191065       ┆              ┆          ┆              ┆             ┆             │\n",
       "│ …            ┆ …            ┆ …            ┆ …        ┆ …            ┆ …           ┆ …           │\n",
       "│ WO0000005737 ┆ CANTO GRANDE ┆ Zona Centro  ┆ En curso ┆ 2023-10-29   ┆ null        ┆ null        │\n",
       "│ 139          ┆ - 191096     ┆              ┆          ┆              ┆             ┆             │\n",
       "│ WO0000005736 ┆ NARANJAL -   ┆ Zona Centro  ┆ En curso ┆ 2023-10-29   ┆ null        ┆ null        │\n",
       "│ 853          ┆ 191141       ┆              ┆          ┆              ┆             ┆             │\n",
       "│ WO0000005736 ┆ NARANJAL -   ┆ Zona Centro  ┆ En curso ┆ 2023-10-29   ┆ null        ┆ null        │\n",
       "│ 847          ┆ 191141       ┆              ┆          ┆              ┆             ┆             │\n",
       "│ WO0000005736 ┆ NARANJAL -   ┆ Zona Centro  ┆ En curso ┆ 2023-10-29   ┆ null        ┆ null        │\n",
       "│ 845          ┆ 191141       ┆              ┆          ┆              ┆             ┆             │\n",
       "│ WO0000005736 ┆ TARAPACA -   ┆ Zona Centro  ┆ En curso ┆ 2023-10-29   ┆ null        ┆ null        │\n",
       "│ 387          ┆ 191030       ┆              ┆          ┆              ┆             ┆             │\n",
       "└──────────────┴──────────────┴──────────────┴──────────┴──────────────┴─────────────┴─────────────┘"
      ]
     },
     "execution_count": 8,
     "metadata": {},
     "output_type": "execute_result"
    }
   ],
   "source": [
    "actual.cast({'Fecha Creacion': pl.Date})"
   ]
  },
  {
   "cell_type": "code",
   "execution_count": 9,
   "metadata": {},
   "outputs": [
    {
     "data": {
      "text/plain": [
       "['Numero Ticket',\n",
       " 'Ubicacion',\n",
       " 'Service Desk',\n",
       " 'Estado',\n",
       " 'Fecha Creacion',\n",
       " 'Fecha Termino',\n",
       " 'Fecha Cierre']"
      ]
     },
     "execution_count": 9,
     "metadata": {},
     "output_type": "execute_result"
    }
   ],
   "source": [
    "actual.columns"
   ]
  },
  {
   "cell_type": "code",
   "execution_count": 10,
   "metadata": {},
   "outputs": [],
   "source": [
    "actual = actual.select(\n",
    "    'Numero Ticket',\n",
    "    'Ubicacion',\n",
    "    'Service Desk',\n",
    "    'Estado',\n",
    "    pl.col('Fecha Creacion').cast(pl.Date),\n",
    "    pl.col('Fecha Termino').str.to_date(format='%d/%m/%Y'),\n",
    "    pl.col('Fecha Cierre').str.to_date(format='%d/%m/%Y')\n",
    ")"
   ]
  },
  {
   "cell_type": "code",
   "execution_count": 11,
   "metadata": {},
   "outputs": [
    {
     "data": {
      "text/html": [
       "<div><style>\n",
       ".dataframe > thead > tr,\n",
       ".dataframe > tbody > tr {\n",
       "  text-align: right;\n",
       "  white-space: pre-wrap;\n",
       "}\n",
       "</style>\n",
       "<small>shape: (5, 7)</small><table border=\"1\" class=\"dataframe\"><thead><tr><th>Numero Ticket</th><th>Ubicacion</th><th>Service Desk</th><th>Estado</th><th>Fecha Creacion</th><th>Fecha Termino</th><th>Fecha Cierre</th></tr><tr><td>str</td><td>str</td><td>str</td><td>str</td><td>date</td><td>date</td><td>date</td></tr></thead><tbody><tr><td>&quot;WO0000004853311&quot;</td><td>&quot;TUPAC AMARU - 191038&quot;</td><td>&quot;Zona Centro&quot;</td><td>&quot;Cerrado&quot;</td><td>2023-01-02</td><td>2023-01-10</td><td>2023-01-13</td></tr><tr><td>&quot;WO0000004852942&quot;</td><td>&quot;SAN JUAN DE LURIGANCHO - 191017&quot;</td><td>&quot;Zona Centro&quot;</td><td>&quot;Cerrado&quot;</td><td>2023-01-02</td><td>2023-01-02</td><td>2023-01-05</td></tr><tr><td>&quot;WO0000004852621&quot;</td><td>&quot;MARIANO MELGAR - 215014&quot;</td><td>&quot;Zona Norte&quot;</td><td>&quot;Cerrado&quot;</td><td>2023-01-02</td><td>2023-01-06</td><td>2023-01-09</td></tr><tr><td>&quot;SA0000004853328&quot;</td><td>&quot;ANDAHUAYLAS - 205000&quot;</td><td>&quot;Zona Norte&quot;</td><td>&quot;Cerrado&quot;</td><td>2023-01-02</td><td>2023-01-07</td><td>2023-01-10</td></tr><tr><td>&quot;SA0000004853160&quot;</td><td>&quot;COLLIQUE - 191065&quot;</td><td>&quot;Zona Centro&quot;</td><td>&quot;Cerrado&quot;</td><td>2023-01-02</td><td>2023-01-04</td><td>2023-01-07</td></tr></tbody></table></div>"
      ],
      "text/plain": [
       "shape: (5, 7)\n",
       "┌──────────────┬──────────────┬──────────────┬─────────┬──────────────┬──────────────┬─────────────┐\n",
       "│ Numero       ┆ Ubicacion    ┆ Service Desk ┆ Estado  ┆ Fecha        ┆ Fecha        ┆ Fecha       │\n",
       "│ Ticket       ┆ ---          ┆ ---          ┆ ---     ┆ Creacion     ┆ Termino      ┆ Cierre      │\n",
       "│ ---          ┆ str          ┆ str          ┆ str     ┆ ---          ┆ ---          ┆ ---         │\n",
       "│ str          ┆              ┆              ┆         ┆ date         ┆ date         ┆ date        │\n",
       "╞══════════════╪══════════════╪══════════════╪═════════╪══════════════╪══════════════╪═════════════╡\n",
       "│ WO0000004853 ┆ TUPAC AMARU  ┆ Zona Centro  ┆ Cerrado ┆ 2023-01-02   ┆ 2023-01-10   ┆ 2023-01-13  │\n",
       "│ 311          ┆ - 191038     ┆              ┆         ┆              ┆              ┆             │\n",
       "│ WO0000004852 ┆ SAN JUAN DE  ┆ Zona Centro  ┆ Cerrado ┆ 2023-01-02   ┆ 2023-01-02   ┆ 2023-01-05  │\n",
       "│ 942          ┆ LURIGANCHO - ┆              ┆         ┆              ┆              ┆             │\n",
       "│              ┆ 191017       ┆              ┆         ┆              ┆              ┆             │\n",
       "│ WO0000004852 ┆ MARIANO      ┆ Zona Norte   ┆ Cerrado ┆ 2023-01-02   ┆ 2023-01-06   ┆ 2023-01-09  │\n",
       "│ 621          ┆ MELGAR -     ┆              ┆         ┆              ┆              ┆             │\n",
       "│              ┆ 215014       ┆              ┆         ┆              ┆              ┆             │\n",
       "│ SA0000004853 ┆ ANDAHUAYLAS  ┆ Zona Norte   ┆ Cerrado ┆ 2023-01-02   ┆ 2023-01-07   ┆ 2023-01-10  │\n",
       "│ 328          ┆ - 205000     ┆              ┆         ┆              ┆              ┆             │\n",
       "│ SA0000004853 ┆ COLLIQUE -   ┆ Zona Centro  ┆ Cerrado ┆ 2023-01-02   ┆ 2023-01-04   ┆ 2023-01-07  │\n",
       "│ 160          ┆ 191065       ┆              ┆         ┆              ┆              ┆             │\n",
       "└──────────────┴──────────────┴──────────────┴─────────┴──────────────┴──────────────┴─────────────┘"
      ]
     },
     "execution_count": 11,
     "metadata": {},
     "output_type": "execute_result"
    }
   ],
   "source": [
    "actual.head()"
   ]
  },
  {
   "cell_type": "markdown",
   "metadata": {},
   "source": [
    "#### Filtrando aquellos tickets que comiencen con WO"
   ]
  },
  {
   "cell_type": "code",
   "execution_count": 12,
   "metadata": {},
   "outputs": [
    {
     "data": {
      "text/html": [
       "<div><style>\n",
       ".dataframe > thead > tr,\n",
       ".dataframe > tbody > tr {\n",
       "  text-align: right;\n",
       "  white-space: pre-wrap;\n",
       "}\n",
       "</style>\n",
       "<small>shape: (5, 7)</small><table border=\"1\" class=\"dataframe\"><thead><tr><th>Numero Ticket</th><th>Ubicacion</th><th>Service Desk</th><th>Estado</th><th>Fecha Creacion</th><th>Fecha Termino</th><th>Fecha Cierre</th></tr><tr><td>str</td><td>str</td><td>str</td><td>str</td><td>date</td><td>date</td><td>date</td></tr></thead><tbody><tr><td>&quot;WO0000004853311&quot;</td><td>&quot;TUPAC AMARU - 191038&quot;</td><td>&quot;Zona Centro&quot;</td><td>&quot;Cerrado&quot;</td><td>2023-01-02</td><td>2023-01-10</td><td>2023-01-13</td></tr><tr><td>&quot;WO0000004852942&quot;</td><td>&quot;SAN JUAN DE LURIGANCHO - 191017&quot;</td><td>&quot;Zona Centro&quot;</td><td>&quot;Cerrado&quot;</td><td>2023-01-02</td><td>2023-01-02</td><td>2023-01-05</td></tr><tr><td>&quot;WO0000004852621&quot;</td><td>&quot;MARIANO MELGAR - 215014&quot;</td><td>&quot;Zona Norte&quot;</td><td>&quot;Cerrado&quot;</td><td>2023-01-02</td><td>2023-01-06</td><td>2023-01-09</td></tr><tr><td>&quot;WO0000004853328&quot;</td><td>&quot;ANDAHUAYLAS - 205000&quot;</td><td>&quot;Zona Norte&quot;</td><td>&quot;Cerrado&quot;</td><td>2023-01-02</td><td>2023-01-07</td><td>2023-01-10</td></tr><tr><td>&quot;WO0000004853160&quot;</td><td>&quot;COLLIQUE - 191065&quot;</td><td>&quot;Zona Centro&quot;</td><td>&quot;Cerrado&quot;</td><td>2023-01-02</td><td>2023-01-04</td><td>2023-01-07</td></tr></tbody></table></div>"
      ],
      "text/plain": [
       "shape: (5, 7)\n",
       "┌──────────────┬──────────────┬──────────────┬─────────┬──────────────┬──────────────┬─────────────┐\n",
       "│ Numero       ┆ Ubicacion    ┆ Service Desk ┆ Estado  ┆ Fecha        ┆ Fecha        ┆ Fecha       │\n",
       "│ Ticket       ┆ ---          ┆ ---          ┆ ---     ┆ Creacion     ┆ Termino      ┆ Cierre      │\n",
       "│ ---          ┆ str          ┆ str          ┆ str     ┆ ---          ┆ ---          ┆ ---         │\n",
       "│ str          ┆              ┆              ┆         ┆ date         ┆ date         ┆ date        │\n",
       "╞══════════════╪══════════════╪══════════════╪═════════╪══════════════╪══════════════╪═════════════╡\n",
       "│ WO0000004853 ┆ TUPAC AMARU  ┆ Zona Centro  ┆ Cerrado ┆ 2023-01-02   ┆ 2023-01-10   ┆ 2023-01-13  │\n",
       "│ 311          ┆ - 191038     ┆              ┆         ┆              ┆              ┆             │\n",
       "│ WO0000004852 ┆ SAN JUAN DE  ┆ Zona Centro  ┆ Cerrado ┆ 2023-01-02   ┆ 2023-01-02   ┆ 2023-01-05  │\n",
       "│ 942          ┆ LURIGANCHO - ┆              ┆         ┆              ┆              ┆             │\n",
       "│              ┆ 191017       ┆              ┆         ┆              ┆              ┆             │\n",
       "│ WO0000004852 ┆ MARIANO      ┆ Zona Norte   ┆ Cerrado ┆ 2023-01-02   ┆ 2023-01-06   ┆ 2023-01-09  │\n",
       "│ 621          ┆ MELGAR -     ┆              ┆         ┆              ┆              ┆             │\n",
       "│              ┆ 215014       ┆              ┆         ┆              ┆              ┆             │\n",
       "│ WO0000004853 ┆ ANDAHUAYLAS  ┆ Zona Norte   ┆ Cerrado ┆ 2023-01-02   ┆ 2023-01-07   ┆ 2023-01-10  │\n",
       "│ 328          ┆ - 205000     ┆              ┆         ┆              ┆              ┆             │\n",
       "│ WO0000004853 ┆ COLLIQUE -   ┆ Zona Centro  ┆ Cerrado ┆ 2023-01-02   ┆ 2023-01-04   ┆ 2023-01-07  │\n",
       "│ 160          ┆ 191065       ┆              ┆         ┆              ┆              ┆             │\n",
       "└──────────────┴──────────────┴──────────────┴─────────┴──────────────┴──────────────┴─────────────┘"
      ]
     },
     "execution_count": 12,
     "metadata": {},
     "output_type": "execute_result"
    }
   ],
   "source": [
    "actual = actual.filter(\n",
    "    pl.col('Numero Ticket').str.starts_with('WO') \n",
    ")\n",
    "\n",
    "actual.head()"
   ]
  },
  {
   "cell_type": "code",
   "execution_count": 13,
   "metadata": {},
   "outputs": [],
   "source": [
    "actual = actual.rename({'Numero Ticket': 'TicketID'})"
   ]
  },
  {
   "cell_type": "code",
   "execution_count": 14,
   "metadata": {},
   "outputs": [
    {
     "data": {
      "text/html": [
       "<div><style>\n",
       ".dataframe > thead > tr,\n",
       ".dataframe > tbody > tr {\n",
       "  text-align: right;\n",
       "  white-space: pre-wrap;\n",
       "}\n",
       "</style>\n",
       "<small>shape: (5, 7)</small><table border=\"1\" class=\"dataframe\"><thead><tr><th>TicketID</th><th>Ubicacion</th><th>Service Desk</th><th>Estado</th><th>Fecha Creacion</th><th>Fecha Termino</th><th>Fecha Cierre</th></tr><tr><td>str</td><td>str</td><td>str</td><td>str</td><td>date</td><td>date</td><td>date</td></tr></thead><tbody><tr><td>&quot;WO0000004853311&quot;</td><td>&quot;TUPAC AMARU - 191038&quot;</td><td>&quot;Zona Centro&quot;</td><td>&quot;Cerrado&quot;</td><td>2023-01-02</td><td>2023-01-10</td><td>2023-01-13</td></tr><tr><td>&quot;WO0000004852942&quot;</td><td>&quot;SAN JUAN DE LURIGANCHO - 191017&quot;</td><td>&quot;Zona Centro&quot;</td><td>&quot;Cerrado&quot;</td><td>2023-01-02</td><td>2023-01-02</td><td>2023-01-05</td></tr><tr><td>&quot;WO0000004852621&quot;</td><td>&quot;MARIANO MELGAR - 215014&quot;</td><td>&quot;Zona Norte&quot;</td><td>&quot;Cerrado&quot;</td><td>2023-01-02</td><td>2023-01-06</td><td>2023-01-09</td></tr><tr><td>&quot;WO0000004853328&quot;</td><td>&quot;ANDAHUAYLAS - 205000&quot;</td><td>&quot;Zona Norte&quot;</td><td>&quot;Cerrado&quot;</td><td>2023-01-02</td><td>2023-01-07</td><td>2023-01-10</td></tr><tr><td>&quot;WO0000004853160&quot;</td><td>&quot;COLLIQUE - 191065&quot;</td><td>&quot;Zona Centro&quot;</td><td>&quot;Cerrado&quot;</td><td>2023-01-02</td><td>2023-01-04</td><td>2023-01-07</td></tr></tbody></table></div>"
      ],
      "text/plain": [
       "shape: (5, 7)\n",
       "┌──────────────┬──────────────┬──────────────┬─────────┬──────────────┬──────────────┬─────────────┐\n",
       "│ TicketID     ┆ Ubicacion    ┆ Service Desk ┆ Estado  ┆ Fecha        ┆ Fecha        ┆ Fecha       │\n",
       "│ ---          ┆ ---          ┆ ---          ┆ ---     ┆ Creacion     ┆ Termino      ┆ Cierre      │\n",
       "│ str          ┆ str          ┆ str          ┆ str     ┆ ---          ┆ ---          ┆ ---         │\n",
       "│              ┆              ┆              ┆         ┆ date         ┆ date         ┆ date        │\n",
       "╞══════════════╪══════════════╪══════════════╪═════════╪══════════════╪══════════════╪═════════════╡\n",
       "│ WO0000004853 ┆ TUPAC AMARU  ┆ Zona Centro  ┆ Cerrado ┆ 2023-01-02   ┆ 2023-01-10   ┆ 2023-01-13  │\n",
       "│ 311          ┆ - 191038     ┆              ┆         ┆              ┆              ┆             │\n",
       "│ WO0000004852 ┆ SAN JUAN DE  ┆ Zona Centro  ┆ Cerrado ┆ 2023-01-02   ┆ 2023-01-02   ┆ 2023-01-05  │\n",
       "│ 942          ┆ LURIGANCHO - ┆              ┆         ┆              ┆              ┆             │\n",
       "│              ┆ 191017       ┆              ┆         ┆              ┆              ┆             │\n",
       "│ WO0000004852 ┆ MARIANO      ┆ Zona Norte   ┆ Cerrado ┆ 2023-01-02   ┆ 2023-01-06   ┆ 2023-01-09  │\n",
       "│ 621          ┆ MELGAR -     ┆              ┆         ┆              ┆              ┆             │\n",
       "│              ┆ 215014       ┆              ┆         ┆              ┆              ┆             │\n",
       "│ WO0000004853 ┆ ANDAHUAYLAS  ┆ Zona Norte   ┆ Cerrado ┆ 2023-01-02   ┆ 2023-01-07   ┆ 2023-01-10  │\n",
       "│ 328          ┆ - 205000     ┆              ┆         ┆              ┆              ┆             │\n",
       "│ WO0000004853 ┆ COLLIQUE -   ┆ Zona Centro  ┆ Cerrado ┆ 2023-01-02   ┆ 2023-01-04   ┆ 2023-01-07  │\n",
       "│ 160          ┆ 191065       ┆              ┆         ┆              ┆              ┆             │\n",
       "└──────────────┴──────────────┴──────────────┴─────────┴──────────────┴──────────────┴─────────────┘"
      ]
     },
     "execution_count": 14,
     "metadata": {},
     "output_type": "execute_result"
    }
   ],
   "source": [
    "actual.head()"
   ]
  },
  {
   "cell_type": "code",
   "execution_count": 15,
   "metadata": {},
   "outputs": [
    {
     "data": {
      "text/html": [
       "<div><style>\n",
       ".dataframe > thead > tr,\n",
       ".dataframe > tbody > tr {\n",
       "  text-align: right;\n",
       "  white-space: pre-wrap;\n",
       "}\n",
       "</style>\n",
       "<small>shape: (5, 7)</small><table border=\"1\" class=\"dataframe\"><thead><tr><th>TicketID</th><th>Ubicacion</th><th>Service Desk</th><th>Estado</th><th>Fecha Creacion</th><th>Fecha Termino</th><th>Fecha Cierre</th></tr><tr><td>str</td><td>str</td><td>str</td><td>str</td><td>date</td><td>date</td><td>date</td></tr></thead><tbody><tr><td>&quot;WO0000004122687&quot;</td><td>&quot;AREQUIPA - 215000&quot;</td><td>&quot;Zona Norte&quot;</td><td>&quot;Cerrado&quot;</td><td>2022-06-01</td><td>2022-06-14</td><td>2022-06-14</td></tr><tr><td>&quot;WO0000004122649&quot;</td><td>&quot;METRO AV. WIESSE - 191106&quot;</td><td>&quot;Zona Centro&quot;</td><td>&quot;Cerrado&quot;</td><td>2022-06-01</td><td>2022-06-17</td><td>2022-06-17</td></tr><tr><td>&quot;WO0000004122502&quot;</td><td>&quot;NICOLAS AYLLON - 191027&quot;</td><td>&quot;Zona Centro&quot;</td><td>&quot;Cerrado&quot;</td><td>2022-06-01</td><td>2022-06-08</td><td>2022-06-08</td></tr><tr><td>&quot;WO0000004122513&quot;</td><td>&quot;JAUREGUI - 405005&quot;</td><td>&quot;Zona Norte&quot;</td><td>&quot;Cerrado&quot;</td><td>2022-06-01</td><td>2022-06-18</td><td>2022-06-18</td></tr><tr><td>&quot;WO0000004122741&quot;</td><td>&quot;CANTO GRANDE - 191096&quot;</td><td>&quot;Zona Centro&quot;</td><td>&quot;Cerrado&quot;</td><td>2022-06-01</td><td>2022-06-08</td><td>2022-06-08</td></tr></tbody></table></div>"
      ],
      "text/plain": [
       "shape: (5, 7)\n",
       "┌──────────────┬──────────────┬──────────────┬─────────┬──────────────┬──────────────┬─────────────┐\n",
       "│ TicketID     ┆ Ubicacion    ┆ Service Desk ┆ Estado  ┆ Fecha        ┆ Fecha        ┆ Fecha       │\n",
       "│ ---          ┆ ---          ┆ ---          ┆ ---     ┆ Creacion     ┆ Termino      ┆ Cierre      │\n",
       "│ str          ┆ str          ┆ str          ┆ str     ┆ ---          ┆ ---          ┆ ---         │\n",
       "│              ┆              ┆              ┆         ┆ date         ┆ date         ┆ date        │\n",
       "╞══════════════╪══════════════╪══════════════╪═════════╪══════════════╪══════════════╪═════════════╡\n",
       "│ WO0000004122 ┆ AREQUIPA -   ┆ Zona Norte   ┆ Cerrado ┆ 2022-06-01   ┆ 2022-06-14   ┆ 2022-06-14  │\n",
       "│ 687          ┆ 215000       ┆              ┆         ┆              ┆              ┆             │\n",
       "│ WO0000004122 ┆ METRO AV.    ┆ Zona Centro  ┆ Cerrado ┆ 2022-06-01   ┆ 2022-06-17   ┆ 2022-06-17  │\n",
       "│ 649          ┆ WIESSE -     ┆              ┆         ┆              ┆              ┆             │\n",
       "│              ┆ 191106       ┆              ┆         ┆              ┆              ┆             │\n",
       "│ WO0000004122 ┆ NICOLAS      ┆ Zona Centro  ┆ Cerrado ┆ 2022-06-01   ┆ 2022-06-08   ┆ 2022-06-08  │\n",
       "│ 502          ┆ AYLLON -     ┆              ┆         ┆              ┆              ┆             │\n",
       "│              ┆ 191027       ┆              ┆         ┆              ┆              ┆             │\n",
       "│ WO0000004122 ┆ JAUREGUI -   ┆ Zona Norte   ┆ Cerrado ┆ 2022-06-01   ┆ 2022-06-18   ┆ 2022-06-18  │\n",
       "│ 513          ┆ 405005       ┆              ┆         ┆              ┆              ┆             │\n",
       "│ WO0000004122 ┆ CANTO GRANDE ┆ Zona Centro  ┆ Cerrado ┆ 2022-06-01   ┆ 2022-06-08   ┆ 2022-06-08  │\n",
       "│ 741          ┆ - 191096     ┆              ┆         ┆              ┆              ┆             │\n",
       "└──────────────┴──────────────┴──────────────┴─────────┴──────────────┴──────────────┴─────────────┘"
      ]
     },
     "execution_count": 15,
     "metadata": {},
     "output_type": "execute_result"
    }
   ],
   "source": [
    "historico.head()"
   ]
  },
  {
   "cell_type": "code",
   "execution_count": 16,
   "metadata": {},
   "outputs": [
    {
     "data": {
      "text/html": [
       "<div><style>\n",
       ".dataframe > thead > tr,\n",
       ".dataframe > tbody > tr {\n",
       "  text-align: right;\n",
       "  white-space: pre-wrap;\n",
       "}\n",
       "</style>\n",
       "<small>shape: (5, 7)</small><table border=\"1\" class=\"dataframe\"><thead><tr><th>TicketID</th><th>Ubicacion</th><th>Service Desk</th><th>Estado</th><th>Fecha Creacion</th><th>Fecha Termino</th><th>Fecha Cierre</th></tr><tr><td>str</td><td>str</td><td>str</td><td>str</td><td>date</td><td>date</td><td>date</td></tr></thead><tbody><tr><td>&quot;WO0000004122687&quot;</td><td>&quot;AREQUIPA - 215000&quot;</td><td>&quot;Zona Norte&quot;</td><td>&quot;Cerrado&quot;</td><td>2022-06-01</td><td>2022-06-14</td><td>2022-06-14</td></tr><tr><td>&quot;WO0000004122649&quot;</td><td>&quot;METRO AV. WIESSE - 191106&quot;</td><td>&quot;Zona Centro&quot;</td><td>&quot;Cerrado&quot;</td><td>2022-06-01</td><td>2022-06-17</td><td>2022-06-17</td></tr><tr><td>&quot;WO0000004122502&quot;</td><td>&quot;NICOLAS AYLLON - 191027&quot;</td><td>&quot;Zona Centro&quot;</td><td>&quot;Cerrado&quot;</td><td>2022-06-01</td><td>2022-06-08</td><td>2022-06-08</td></tr><tr><td>&quot;WO0000004122513&quot;</td><td>&quot;JAUREGUI - 405005&quot;</td><td>&quot;Zona Norte&quot;</td><td>&quot;Cerrado&quot;</td><td>2022-06-01</td><td>2022-06-18</td><td>2022-06-18</td></tr><tr><td>&quot;WO0000004122741&quot;</td><td>&quot;CANTO GRANDE - 191096&quot;</td><td>&quot;Zona Centro&quot;</td><td>&quot;Cerrado&quot;</td><td>2022-06-01</td><td>2022-06-08</td><td>2022-06-08</td></tr></tbody></table></div>"
      ],
      "text/plain": [
       "shape: (5, 7)\n",
       "┌──────────────┬──────────────┬──────────────┬─────────┬──────────────┬──────────────┬─────────────┐\n",
       "│ TicketID     ┆ Ubicacion    ┆ Service Desk ┆ Estado  ┆ Fecha        ┆ Fecha        ┆ Fecha       │\n",
       "│ ---          ┆ ---          ┆ ---          ┆ ---     ┆ Creacion     ┆ Termino      ┆ Cierre      │\n",
       "│ str          ┆ str          ┆ str          ┆ str     ┆ ---          ┆ ---          ┆ ---         │\n",
       "│              ┆              ┆              ┆         ┆ date         ┆ date         ┆ date        │\n",
       "╞══════════════╪══════════════╪══════════════╪═════════╪══════════════╪══════════════╪═════════════╡\n",
       "│ WO0000004122 ┆ AREQUIPA -   ┆ Zona Norte   ┆ Cerrado ┆ 2022-06-01   ┆ 2022-06-14   ┆ 2022-06-14  │\n",
       "│ 687          ┆ 215000       ┆              ┆         ┆              ┆              ┆             │\n",
       "│ WO0000004122 ┆ METRO AV.    ┆ Zona Centro  ┆ Cerrado ┆ 2022-06-01   ┆ 2022-06-17   ┆ 2022-06-17  │\n",
       "│ 649          ┆ WIESSE -     ┆              ┆         ┆              ┆              ┆             │\n",
       "│              ┆ 191106       ┆              ┆         ┆              ┆              ┆             │\n",
       "│ WO0000004122 ┆ NICOLAS      ┆ Zona Centro  ┆ Cerrado ┆ 2022-06-01   ┆ 2022-06-08   ┆ 2022-06-08  │\n",
       "│ 502          ┆ AYLLON -     ┆              ┆         ┆              ┆              ┆             │\n",
       "│              ┆ 191027       ┆              ┆         ┆              ┆              ┆             │\n",
       "│ WO0000004122 ┆ JAUREGUI -   ┆ Zona Norte   ┆ Cerrado ┆ 2022-06-01   ┆ 2022-06-18   ┆ 2022-06-18  │\n",
       "│ 513          ┆ 405005       ┆              ┆         ┆              ┆              ┆             │\n",
       "│ WO0000004122 ┆ CANTO GRANDE ┆ Zona Centro  ┆ Cerrado ┆ 2022-06-01   ┆ 2022-06-08   ┆ 2022-06-08  │\n",
       "│ 741          ┆ - 191096     ┆              ┆         ┆              ┆              ┆             │\n",
       "└──────────────┴──────────────┴──────────────┴─────────┴──────────────┴──────────────┴─────────────┘"
      ]
     },
     "execution_count": 16,
     "metadata": {},
     "output_type": "execute_result"
    }
   ],
   "source": [
    "# Consolidando dos dataFrames (Historico y Actual)\n",
    "\n",
    "tickets = pl.concat([historico, actual])\n",
    "tickets.head()"
   ]
  },
  {
   "cell_type": "code",
   "execution_count": 17,
   "metadata": {},
   "outputs": [
    {
     "data": {
      "text/plain": [
       "\"\\nOtra Forma\\n\\ntickets.with_columns(\\n    pl.col('Ubicacion')\\n    .str.split_exact(' - ', 1).alias('Agencia')\\n).unnest('Agencia').rename({'field_0': 'Agencia', 'field_1': 'AgenciaID'})\\n\""
      ]
     },
     "execution_count": 17,
     "metadata": {},
     "output_type": "execute_result"
    }
   ],
   "source": [
    "\"\"\"\n",
    "Otra Forma\n",
    "\n",
    "tickets.with_columns(\n",
    "    pl.col('Ubicacion')\n",
    "    .str.split_exact(' - ', 1).alias('Agencia')\n",
    ").unnest('Agencia').rename({'field_0': 'Agencia', 'field_1': 'AgenciaID'})\n",
    "\"\"\""
   ]
  },
  {
   "cell_type": "code",
   "execution_count": 18,
   "metadata": {},
   "outputs": [],
   "source": [
    "tickets = tickets.with_columns(\n",
    "    pl.col('Ubicacion')\n",
    "    .str.split_exact(' - ', 1)\n",
    "    .struct.rename_fields(['Agencia', 'AgenciaID'])\n",
    "    .alias('Agencia')\n",
    ").unnest('Agencia')"
   ]
  },
  {
   "cell_type": "code",
   "execution_count": 19,
   "metadata": {},
   "outputs": [
    {
     "data": {
      "text/html": [
       "<div><style>\n",
       ".dataframe > thead > tr,\n",
       ".dataframe > tbody > tr {\n",
       "  text-align: right;\n",
       "  white-space: pre-wrap;\n",
       "}\n",
       "</style>\n",
       "<small>shape: (5, 9)</small><table border=\"1\" class=\"dataframe\"><thead><tr><th>TicketID</th><th>Ubicacion</th><th>Service Desk</th><th>Estado</th><th>Fecha Creacion</th><th>Fecha Termino</th><th>Fecha Cierre</th><th>Agencia</th><th>AgenciaID</th></tr><tr><td>str</td><td>str</td><td>str</td><td>str</td><td>date</td><td>date</td><td>date</td><td>str</td><td>str</td></tr></thead><tbody><tr><td>&quot;WO0000004122687&quot;</td><td>&quot;AREQUIPA - 215000&quot;</td><td>&quot;Zona Norte&quot;</td><td>&quot;Cerrado&quot;</td><td>2022-06-01</td><td>2022-06-14</td><td>2022-06-14</td><td>&quot;AREQUIPA&quot;</td><td>&quot;215000&quot;</td></tr><tr><td>&quot;WO0000004122649&quot;</td><td>&quot;METRO AV. WIESSE - 191106&quot;</td><td>&quot;Zona Centro&quot;</td><td>&quot;Cerrado&quot;</td><td>2022-06-01</td><td>2022-06-17</td><td>2022-06-17</td><td>&quot;METRO AV. WIESSE&quot;</td><td>&quot;191106&quot;</td></tr><tr><td>&quot;WO0000004122502&quot;</td><td>&quot;NICOLAS AYLLON - 191027&quot;</td><td>&quot;Zona Centro&quot;</td><td>&quot;Cerrado&quot;</td><td>2022-06-01</td><td>2022-06-08</td><td>2022-06-08</td><td>&quot;NICOLAS AYLLON&quot;</td><td>&quot;191027&quot;</td></tr><tr><td>&quot;WO0000004122513&quot;</td><td>&quot;JAUREGUI - 405005&quot;</td><td>&quot;Zona Norte&quot;</td><td>&quot;Cerrado&quot;</td><td>2022-06-01</td><td>2022-06-18</td><td>2022-06-18</td><td>&quot;JAUREGUI&quot;</td><td>&quot;405005&quot;</td></tr><tr><td>&quot;WO0000004122741&quot;</td><td>&quot;CANTO GRANDE - 191096&quot;</td><td>&quot;Zona Centro&quot;</td><td>&quot;Cerrado&quot;</td><td>2022-06-01</td><td>2022-06-08</td><td>2022-06-08</td><td>&quot;CANTO GRANDE&quot;</td><td>&quot;191096&quot;</td></tr></tbody></table></div>"
      ],
      "text/plain": [
       "shape: (5, 9)\n",
       "┌────────────┬───────────┬───────────┬─────────┬───┬───────────┬───────────┬───────────┬───────────┐\n",
       "│ TicketID   ┆ Ubicacion ┆ Service   ┆ Estado  ┆ … ┆ Fecha     ┆ Fecha     ┆ Agencia   ┆ AgenciaID │\n",
       "│ ---        ┆ ---       ┆ Desk      ┆ ---     ┆   ┆ Termino   ┆ Cierre    ┆ ---       ┆ ---       │\n",
       "│ str        ┆ str       ┆ ---       ┆ str     ┆   ┆ ---       ┆ ---       ┆ str       ┆ str       │\n",
       "│            ┆           ┆ str       ┆         ┆   ┆ date      ┆ date      ┆           ┆           │\n",
       "╞════════════╪═══════════╪═══════════╪═════════╪═══╪═══════════╪═══════════╪═══════════╪═══════════╡\n",
       "│ WO00000041 ┆ AREQUIPA  ┆ Zona      ┆ Cerrado ┆ … ┆ 2022-06-1 ┆ 2022-06-1 ┆ AREQUIPA  ┆ 215000    │\n",
       "│ 22687      ┆ - 215000  ┆ Norte     ┆         ┆   ┆ 4         ┆ 4         ┆           ┆           │\n",
       "│ WO00000041 ┆ METRO AV. ┆ Zona      ┆ Cerrado ┆ … ┆ 2022-06-1 ┆ 2022-06-1 ┆ METRO AV. ┆ 191106    │\n",
       "│ 22649      ┆ WIESSE -  ┆ Centro    ┆         ┆   ┆ 7         ┆ 7         ┆ WIESSE    ┆           │\n",
       "│            ┆ 191106    ┆           ┆         ┆   ┆           ┆           ┆           ┆           │\n",
       "│ WO00000041 ┆ NICOLAS   ┆ Zona      ┆ Cerrado ┆ … ┆ 2022-06-0 ┆ 2022-06-0 ┆ NICOLAS   ┆ 191027    │\n",
       "│ 22502      ┆ AYLLON -  ┆ Centro    ┆         ┆   ┆ 8         ┆ 8         ┆ AYLLON    ┆           │\n",
       "│            ┆ 191027    ┆           ┆         ┆   ┆           ┆           ┆           ┆           │\n",
       "│ WO00000041 ┆ JAUREGUI  ┆ Zona      ┆ Cerrado ┆ … ┆ 2022-06-1 ┆ 2022-06-1 ┆ JAUREGUI  ┆ 405005    │\n",
       "│ 22513      ┆ - 405005  ┆ Norte     ┆         ┆   ┆ 8         ┆ 8         ┆           ┆           │\n",
       "│ WO00000041 ┆ CANTO     ┆ Zona      ┆ Cerrado ┆ … ┆ 2022-06-0 ┆ 2022-06-0 ┆ CANTO     ┆ 191096    │\n",
       "│ 22741      ┆ GRANDE -  ┆ Centro    ┆         ┆   ┆ 8         ┆ 8         ┆ GRANDE    ┆           │\n",
       "│            ┆ 191096    ┆           ┆         ┆   ┆           ┆           ┆           ┆           │\n",
       "└────────────┴───────────┴───────────┴─────────┴───┴───────────┴───────────┴───────────┴───────────┘"
      ]
     },
     "execution_count": 19,
     "metadata": {},
     "output_type": "execute_result"
    }
   ],
   "source": [
    "tickets.head()"
   ]
  },
  {
   "cell_type": "code",
   "execution_count": 20,
   "metadata": {},
   "outputs": [],
   "source": [
    "tickets = tickets.cast({'AgenciaID': pl.Int64})"
   ]
  },
  {
   "cell_type": "markdown",
   "metadata": {},
   "source": [
    "### Viendo valores duplicados"
   ]
  },
  {
   "cell_type": "code",
   "execution_count": 21,
   "metadata": {},
   "outputs": [
    {
     "data": {
      "text/plain": [
       "(22228, 9)"
      ]
     },
     "execution_count": 21,
     "metadata": {},
     "output_type": "execute_result"
    }
   ],
   "source": [
    "tickets.shape"
   ]
  },
  {
   "cell_type": "code",
   "execution_count": 22,
   "metadata": {},
   "outputs": [
    {
     "data": {
      "text/plain": [
       "(22215, 9)"
      ]
     },
     "execution_count": 22,
     "metadata": {},
     "output_type": "execute_result"
    }
   ],
   "source": [
    "tickets.unique(subset='TicketID').shape"
   ]
  },
  {
   "cell_type": "code",
   "execution_count": 23,
   "metadata": {},
   "outputs": [
    {
     "data": {
      "text/html": [
       "<div><style>\n",
       ".dataframe > thead > tr,\n",
       ".dataframe > tbody > tr {\n",
       "  text-align: right;\n",
       "  white-space: pre-wrap;\n",
       "}\n",
       "</style>\n",
       "<small>shape: (26, 9)</small><table border=\"1\" class=\"dataframe\"><thead><tr><th>TicketID</th><th>Ubicacion</th><th>Service Desk</th><th>Estado</th><th>Fecha Creacion</th><th>Fecha Termino</th><th>Fecha Cierre</th><th>Agencia</th><th>AgenciaID</th></tr><tr><td>str</td><td>str</td><td>str</td><td>str</td><td>date</td><td>date</td><td>date</td><td>str</td><td>i64</td></tr></thead><tbody><tr><td>&quot;WO0000004848619&quot;</td><td>&quot;ILO - 385000&quot;</td><td>&quot;Zona Norte&quot;</td><td>&quot;Cerrado&quot;</td><td>2022-12-31</td><td>2023-01-09</td><td>2023-01-12</td><td>&quot;ILO&quot;</td><td>385000</td></tr><tr><td>&quot;WO0000004848619&quot;</td><td>&quot;ILO - 385000&quot;</td><td>&quot;Zona Norte&quot;</td><td>&quot;Cerrado&quot;</td><td>2022-12-31</td><td>2023-01-09</td><td>2023-01-12</td><td>&quot;ILO&quot;</td><td>385000</td></tr><tr><td>&quot;WO0000004848638&quot;</td><td>&quot;VILLA SOL - 191059&quot;</td><td>&quot;Zona Centro&quot;</td><td>&quot;Cerrado&quot;</td><td>2022-12-31</td><td>2022-12-31</td><td>2023-01-03</td><td>&quot;VILLA SOL&quot;</td><td>191059</td></tr><tr><td>&quot;WO0000004848638&quot;</td><td>&quot;VILLA SOL - 191059&quot;</td><td>&quot;Zona Centro&quot;</td><td>&quot;Cerrado&quot;</td><td>2022-12-31</td><td>2022-12-31</td><td>2023-01-03</td><td>&quot;VILLA SOL&quot;</td><td>191059</td></tr><tr><td>&quot;WO0000004848654&quot;</td><td>&quot;MERCADO DE FRUTAS - 191064&quot;</td><td>&quot;Zona Centro&quot;</td><td>&quot;Cerrado&quot;</td><td>2022-12-31</td><td>2023-01-13</td><td>2023-01-16</td><td>&quot;MERCADO DE FRUTAS&quot;</td><td>191064</td></tr><tr><td>&quot;WO0000004848654&quot;</td><td>&quot;MERCADO DE FRUTAS - 191064&quot;</td><td>&quot;Zona Centro&quot;</td><td>&quot;Cerrado&quot;</td><td>2022-12-31</td><td>2023-01-13</td><td>2023-01-16</td><td>&quot;MERCADO DE FRUTAS&quot;</td><td>191064</td></tr><tr><td>&quot;WO0000004848666&quot;</td><td>&quot;QUILCA - 191160&quot;</td><td>&quot;Zona Centro&quot;</td><td>&quot;Cerrado&quot;</td><td>2022-12-31</td><td>2023-01-04</td><td>2023-01-07</td><td>&quot;QUILCA&quot;</td><td>191160</td></tr><tr><td>&quot;WO0000004848666&quot;</td><td>&quot;QUILCA - 191160&quot;</td><td>&quot;Zona Centro&quot;</td><td>&quot;Cerrado&quot;</td><td>2022-12-31</td><td>2023-01-04</td><td>2023-01-07</td><td>&quot;QUILCA&quot;</td><td>191160</td></tr><tr><td>&quot;WO0000004849307&quot;</td><td>&quot;TUSILAGOS - 191108&quot;</td><td>&quot;Zona Centro&quot;</td><td>&quot;Rechazado&quot;</td><td>2022-12-31</td><td>null</td><td>null</td><td>&quot;TUSILAGOS&quot;</td><td>191108</td></tr><tr><td>&quot;WO0000004849307&quot;</td><td>&quot;TUSILAGOS - 191108&quot;</td><td>&quot;Zona Centro&quot;</td><td>&quot;Rechazado&quot;</td><td>2022-12-31</td><td>null</td><td>null</td><td>&quot;TUSILAGOS&quot;</td><td>191108</td></tr><tr><td>&quot;WO0000004849330&quot;</td><td>&quot;IMPERIAL - 255001&quot;</td><td>&quot;Zona Centro&quot;</td><td>&quot;Cerrado&quot;</td><td>2022-12-31</td><td>2023-01-14</td><td>2023-01-17</td><td>&quot;IMPERIAL&quot;</td><td>255001</td></tr><tr><td>&quot;WO0000004849330&quot;</td><td>&quot;IMPERIAL - 255001&quot;</td><td>&quot;Zona Centro&quot;</td><td>&quot;Cerrado&quot;</td><td>2022-12-31</td><td>2023-01-14</td><td>2023-01-17</td><td>&quot;IMPERIAL&quot;</td><td>255001</td></tr><tr><td>&hellip;</td><td>&hellip;</td><td>&hellip;</td><td>&hellip;</td><td>&hellip;</td><td>&hellip;</td><td>&hellip;</td><td>&hellip;</td><td>&hellip;</td></tr><tr><td>&quot;WO0000004849379&quot;</td><td>&quot;NAYLAMP - 191143&quot;</td><td>&quot;Zona Centro&quot;</td><td>&quot;Cerrado&quot;</td><td>2022-12-31</td><td>2023-01-25</td><td>2023-01-28</td><td>&quot;NAYLAMP&quot;</td><td>191143</td></tr><tr><td>&quot;WO0000004849379&quot;</td><td>&quot;NAYLAMP - 191143&quot;</td><td>&quot;Zona Centro&quot;</td><td>&quot;Cerrado&quot;</td><td>2022-12-31</td><td>2023-01-25</td><td>2023-01-28</td><td>&quot;NAYLAMP&quot;</td><td>191143</td></tr><tr><td>&quot;WO0000004849382&quot;</td><td>&quot;LOS DAMASCOS - 193038&quot;</td><td>&quot;Zona Sur&quot;</td><td>&quot;Cerrado&quot;</td><td>2022-12-31</td><td>2023-01-04</td><td>2023-01-07</td><td>&quot;LOS DAMASCOS&quot;</td><td>193038</td></tr><tr><td>&quot;WO0000004849382&quot;</td><td>&quot;LOS DAMASCOS - 193038&quot;</td><td>&quot;Zona Sur&quot;</td><td>&quot;Cerrado&quot;</td><td>2022-12-31</td><td>2023-01-04</td><td>2023-01-07</td><td>&quot;LOS DAMASCOS&quot;</td><td>193038</td></tr><tr><td>&quot;WO0000004849718&quot;</td><td>&quot;AREQUIPA - 215000&quot;</td><td>&quot;Zona Norte&quot;</td><td>&quot;Rechazado&quot;</td><td>2022-12-31</td><td>null</td><td>null</td><td>&quot;AREQUIPA&quot;</td><td>215000</td></tr><tr><td>&quot;WO0000004849718&quot;</td><td>&quot;AREQUIPA - 215000&quot;</td><td>&quot;Zona Norte&quot;</td><td>&quot;Rechazado&quot;</td><td>2022-12-31</td><td>null</td><td>null</td><td>&quot;AREQUIPA&quot;</td><td>215000</td></tr><tr><td>&quot;WO0000004849721&quot;</td><td>&quot;LUREN - 380004&quot;</td><td>&quot;Zona Sur&quot;</td><td>&quot;Cerrado&quot;</td><td>2022-12-31</td><td>2023-01-02</td><td>2023-01-05</td><td>&quot;LUREN&quot;</td><td>380004</td></tr><tr><td>&quot;WO0000004849721&quot;</td><td>&quot;LUREN - 380004&quot;</td><td>&quot;Zona Sur&quot;</td><td>&quot;Cerrado&quot;</td><td>2022-12-31</td><td>2023-01-02</td><td>2023-01-05</td><td>&quot;LUREN&quot;</td><td>380004</td></tr><tr><td>&quot;WO0000004849726&quot;</td><td>&quot;LUREN - 380004&quot;</td><td>&quot;Zona Sur&quot;</td><td>&quot;Cerrado&quot;</td><td>2022-12-31</td><td>2023-01-02</td><td>2023-01-05</td><td>&quot;LUREN&quot;</td><td>380004</td></tr><tr><td>&quot;WO0000004849726&quot;</td><td>&quot;LUREN - 380004&quot;</td><td>&quot;Zona Sur&quot;</td><td>&quot;Cerrado&quot;</td><td>2022-12-31</td><td>2023-01-02</td><td>2023-01-05</td><td>&quot;LUREN&quot;</td><td>380004</td></tr><tr><td>&quot;WO0000004849732&quot;</td><td>&quot;EL PINO - 191087&quot;</td><td>&quot;Zona Centro&quot;</td><td>&quot;Cerrado&quot;</td><td>2022-12-31</td><td>2023-01-06</td><td>2023-01-09</td><td>&quot;EL PINO&quot;</td><td>191087</td></tr><tr><td>&quot;WO0000004849732&quot;</td><td>&quot;EL PINO - 191087&quot;</td><td>&quot;Zona Centro&quot;</td><td>&quot;Cerrado&quot;</td><td>2022-12-31</td><td>2023-01-06</td><td>2023-01-09</td><td>&quot;EL PINO&quot;</td><td>191087</td></tr></tbody></table></div>"
      ],
      "text/plain": [
       "shape: (26, 9)\n",
       "┌────────────┬───────────┬───────────┬─────────┬───┬───────────┬───────────┬───────────┬───────────┐\n",
       "│ TicketID   ┆ Ubicacion ┆ Service   ┆ Estado  ┆ … ┆ Fecha     ┆ Fecha     ┆ Agencia   ┆ AgenciaID │\n",
       "│ ---        ┆ ---       ┆ Desk      ┆ ---     ┆   ┆ Termino   ┆ Cierre    ┆ ---       ┆ ---       │\n",
       "│ str        ┆ str       ┆ ---       ┆ str     ┆   ┆ ---       ┆ ---       ┆ str       ┆ i64       │\n",
       "│            ┆           ┆ str       ┆         ┆   ┆ date      ┆ date      ┆           ┆           │\n",
       "╞════════════╪═══════════╪═══════════╪═════════╪═══╪═══════════╪═══════════╪═══════════╪═══════════╡\n",
       "│ WO00000048 ┆ ILO -     ┆ Zona      ┆ Cerrado ┆ … ┆ 2023-01-0 ┆ 2023-01-1 ┆ ILO       ┆ 385000    │\n",
       "│ 48619      ┆ 385000    ┆ Norte     ┆         ┆   ┆ 9         ┆ 2         ┆           ┆           │\n",
       "│ WO00000048 ┆ ILO -     ┆ Zona      ┆ Cerrado ┆ … ┆ 2023-01-0 ┆ 2023-01-1 ┆ ILO       ┆ 385000    │\n",
       "│ 48619      ┆ 385000    ┆ Norte     ┆         ┆   ┆ 9         ┆ 2         ┆           ┆           │\n",
       "│ WO00000048 ┆ VILLA SOL ┆ Zona      ┆ Cerrado ┆ … ┆ 2022-12-3 ┆ 2023-01-0 ┆ VILLA SOL ┆ 191059    │\n",
       "│ 48638      ┆ - 191059  ┆ Centro    ┆         ┆   ┆ 1         ┆ 3         ┆           ┆           │\n",
       "│ WO00000048 ┆ VILLA SOL ┆ Zona      ┆ Cerrado ┆ … ┆ 2022-12-3 ┆ 2023-01-0 ┆ VILLA SOL ┆ 191059    │\n",
       "│ 48638      ┆ - 191059  ┆ Centro    ┆         ┆   ┆ 1         ┆ 3         ┆           ┆           │\n",
       "│ WO00000048 ┆ MERCADO   ┆ Zona      ┆ Cerrado ┆ … ┆ 2023-01-1 ┆ 2023-01-1 ┆ MERCADO   ┆ 191064    │\n",
       "│ 48654      ┆ DE FRUTAS ┆ Centro    ┆         ┆   ┆ 3         ┆ 6         ┆ DE FRUTAS ┆           │\n",
       "│            ┆ - 191064  ┆           ┆         ┆   ┆           ┆           ┆           ┆           │\n",
       "│ …          ┆ …         ┆ …         ┆ …       ┆ … ┆ …         ┆ …         ┆ …         ┆ …         │\n",
       "│ WO00000048 ┆ LUREN -   ┆ Zona Sur  ┆ Cerrado ┆ … ┆ 2023-01-0 ┆ 2023-01-0 ┆ LUREN     ┆ 380004    │\n",
       "│ 49721      ┆ 380004    ┆           ┆         ┆   ┆ 2         ┆ 5         ┆           ┆           │\n",
       "│ WO00000048 ┆ LUREN -   ┆ Zona Sur  ┆ Cerrado ┆ … ┆ 2023-01-0 ┆ 2023-01-0 ┆ LUREN     ┆ 380004    │\n",
       "│ 49726      ┆ 380004    ┆           ┆         ┆   ┆ 2         ┆ 5         ┆           ┆           │\n",
       "│ WO00000048 ┆ LUREN -   ┆ Zona Sur  ┆ Cerrado ┆ … ┆ 2023-01-0 ┆ 2023-01-0 ┆ LUREN     ┆ 380004    │\n",
       "│ 49726      ┆ 380004    ┆           ┆         ┆   ┆ 2         ┆ 5         ┆           ┆           │\n",
       "│ WO00000048 ┆ EL PINO - ┆ Zona      ┆ Cerrado ┆ … ┆ 2023-01-0 ┆ 2023-01-0 ┆ EL PINO   ┆ 191087    │\n",
       "│ 49732      ┆ 191087    ┆ Centro    ┆         ┆   ┆ 6         ┆ 9         ┆           ┆           │\n",
       "│ WO00000048 ┆ EL PINO - ┆ Zona      ┆ Cerrado ┆ … ┆ 2023-01-0 ┆ 2023-01-0 ┆ EL PINO   ┆ 191087    │\n",
       "│ 49732      ┆ 191087    ┆ Centro    ┆         ┆   ┆ 6         ┆ 9         ┆           ┆           │\n",
       "└────────────┴───────────┴───────────┴─────────┴───┴───────────┴───────────┴───────────┴───────────┘"
      ]
     },
     "execution_count": 23,
     "metadata": {},
     "output_type": "execute_result"
    }
   ],
   "source": [
    "tickets.filter(\n",
    "    pl.col('TicketID').is_duplicated()\n",
    ").sort(by = 'TicketID')"
   ]
  },
  {
   "cell_type": "code",
   "execution_count": 24,
   "metadata": {},
   "outputs": [
    {
     "data": {
      "text/plain": [
       "(22215, 9)"
      ]
     },
     "execution_count": 24,
     "metadata": {},
     "output_type": "execute_result"
    }
   ],
   "source": [
    "tickets.unique(\n",
    "    subset='TicketID',\n",
    "    keep='last',\n",
    "    maintain_order=True\n",
    ").shape "
   ]
  },
  {
   "cell_type": "code",
   "execution_count": 25,
   "metadata": {},
   "outputs": [],
   "source": [
    "tickets = tickets.sort(\n",
    "    by=['TicketID', 'Fecha Creacion']\n",
    ").unique(\n",
    "    subset='TicketID',\n",
    "    keep='last',\n",
    "    maintain_order=True\n",
    ")"
   ]
  },
  {
   "cell_type": "code",
   "execution_count": 26,
   "metadata": {},
   "outputs": [
    {
     "data": {
      "text/html": [
       "<div><style>\n",
       ".dataframe > thead > tr,\n",
       ".dataframe > tbody > tr {\n",
       "  text-align: right;\n",
       "  white-space: pre-wrap;\n",
       "}\n",
       "</style>\n",
       "<small>shape: (5, 9)</small><table border=\"1\" class=\"dataframe\"><thead><tr><th>TicketID</th><th>Ubicacion</th><th>Service Desk</th><th>Estado</th><th>Fecha Creacion</th><th>Fecha Termino</th><th>Fecha Cierre</th><th>Agencia</th><th>AgenciaID</th></tr><tr><td>str</td><td>str</td><td>str</td><td>str</td><td>date</td><td>date</td><td>date</td><td>str</td><td>i64</td></tr></thead><tbody><tr><td>&quot;OT0000004849379&quot;</td><td>&quot;NAYLAMP - 191143&quot;</td><td>&quot;Zona Centro&quot;</td><td>&quot;Cerrado&quot;</td><td>2022-12-31</td><td>2023-01-25</td><td>2023-01-28</td><td>&quot;NAYLAMP&quot;</td><td>191143</td></tr><tr><td>&quot;OT0000004849382&quot;</td><td>&quot;LOS DAMASCOS - 193038&quot;</td><td>&quot;Zona Sur&quot;</td><td>&quot;Cerrado&quot;</td><td>2022-12-31</td><td>2023-01-04</td><td>2023-01-07</td><td>&quot;LOS DAMASCOS&quot;</td><td>193038</td></tr><tr><td>&quot;OT0000004849726&quot;</td><td>&quot;LUREN - 380004&quot;</td><td>&quot;Zona Sur&quot;</td><td>&quot;Cerrado&quot;</td><td>2022-12-31</td><td>2023-01-02</td><td>2023-01-05</td><td>&quot;LUREN&quot;</td><td>380004</td></tr><tr><td>&quot;OT0000004849732&quot;</td><td>&quot;EL PINO - 191087&quot;</td><td>&quot;Zona Centro&quot;</td><td>&quot;Cerrado&quot;</td><td>2022-12-31</td><td>2023-01-06</td><td>2023-01-09</td><td>&quot;EL PINO&quot;</td><td>191087</td></tr><tr><td>&quot;SA0000004849307&quot;</td><td>&quot;TUSILAGOS - 191108&quot;</td><td>&quot;Zona Centro&quot;</td><td>&quot;Rechazado&quot;</td><td>2022-12-31</td><td>null</td><td>null</td><td>&quot;TUSILAGOS&quot;</td><td>191108</td></tr></tbody></table></div>"
      ],
      "text/plain": [
       "shape: (5, 9)\n",
       "┌───────────┬───────────┬───────────┬───────────┬───┬───────────┬───────────┬───────────┬──────────┐\n",
       "│ TicketID  ┆ Ubicacion ┆ Service   ┆ Estado    ┆ … ┆ Fecha     ┆ Fecha     ┆ Agencia   ┆ AgenciaI │\n",
       "│ ---       ┆ ---       ┆ Desk      ┆ ---       ┆   ┆ Termino   ┆ Cierre    ┆ ---       ┆ D        │\n",
       "│ str       ┆ str       ┆ ---       ┆ str       ┆   ┆ ---       ┆ ---       ┆ str       ┆ ---      │\n",
       "│           ┆           ┆ str       ┆           ┆   ┆ date      ┆ date      ┆           ┆ i64      │\n",
       "╞═══════════╪═══════════╪═══════════╪═══════════╪═══╪═══════════╪═══════════╪═══════════╪══════════╡\n",
       "│ OT0000004 ┆ NAYLAMP - ┆ Zona      ┆ Cerrado   ┆ … ┆ 2023-01-2 ┆ 2023-01-2 ┆ NAYLAMP   ┆ 191143   │\n",
       "│ 849379    ┆ 191143    ┆ Centro    ┆           ┆   ┆ 5         ┆ 8         ┆           ┆          │\n",
       "│ OT0000004 ┆ LOS       ┆ Zona Sur  ┆ Cerrado   ┆ … ┆ 2023-01-0 ┆ 2023-01-0 ┆ LOS       ┆ 193038   │\n",
       "│ 849382    ┆ DAMASCOS  ┆           ┆           ┆   ┆ 4         ┆ 7         ┆ DAMASCOS  ┆          │\n",
       "│           ┆ - 193038  ┆           ┆           ┆   ┆           ┆           ┆           ┆          │\n",
       "│ OT0000004 ┆ LUREN -   ┆ Zona Sur  ┆ Cerrado   ┆ … ┆ 2023-01-0 ┆ 2023-01-0 ┆ LUREN     ┆ 380004   │\n",
       "│ 849726    ┆ 380004    ┆           ┆           ┆   ┆ 2         ┆ 5         ┆           ┆          │\n",
       "│ OT0000004 ┆ EL PINO - ┆ Zona      ┆ Cerrado   ┆ … ┆ 2023-01-0 ┆ 2023-01-0 ┆ EL PINO   ┆ 191087   │\n",
       "│ 849732    ┆ 191087    ┆ Centro    ┆           ┆   ┆ 6         ┆ 9         ┆           ┆          │\n",
       "│ SA0000004 ┆ TUSILAGOS ┆ Zona      ┆ Rechazado ┆ … ┆ null      ┆ null      ┆ TUSILAGOS ┆ 191108   │\n",
       "│ 849307    ┆ - 191108  ┆ Centro    ┆           ┆   ┆           ┆           ┆           ┆          │\n",
       "└───────────┴───────────┴───────────┴───────────┴───┴───────────┴───────────┴───────────┴──────────┘"
      ]
     },
     "execution_count": 26,
     "metadata": {},
     "output_type": "execute_result"
    }
   ],
   "source": [
    "tickets.head(5)"
   ]
  },
  {
   "cell_type": "markdown",
   "metadata": {},
   "source": [
    "### Creando una nueva columna\n",
    "\n",
    "Si la fecha Termino es nulo, colocar la fecha de Cierre, si no colocar la fecha Termino"
   ]
  },
  {
   "cell_type": "code",
   "execution_count": 27,
   "metadata": {},
   "outputs": [],
   "source": [
    "tickets = tickets.with_columns(\n",
    "    pl.when(pl.col('Fecha Termino').is_null())\n",
    "    .then(pl.col('Fecha Cierre'))\n",
    "    .otherwise(pl.col('Fecha Termino'))\n",
    "    .alias('Fecha Real Fin')\n",
    ")"
   ]
  },
  {
   "cell_type": "code",
   "execution_count": 28,
   "metadata": {},
   "outputs": [],
   "source": [
    "# Restando Fechas Fecha Real Fin - Fecha Creacion\n",
    "\n",
    "tickets = tickets.with_columns(\n",
    "    (pl.col('Fecha Real Fin') - pl.col('Fecha Creacion'))\n",
    "    .dt.total_days()\n",
    "    .alias('Dias Cierre')\n",
    ")"
   ]
  },
  {
   "cell_type": "code",
   "execution_count": 29,
   "metadata": {},
   "outputs": [
    {
     "data": {
      "text/html": [
       "<div><style>\n",
       ".dataframe > thead > tr,\n",
       ".dataframe > tbody > tr {\n",
       "  text-align: right;\n",
       "  white-space: pre-wrap;\n",
       "}\n",
       "</style>\n",
       "<small>shape: (5, 11)</small><table border=\"1\" class=\"dataframe\"><thead><tr><th>TicketID</th><th>Ubicacion</th><th>Service Desk</th><th>Estado</th><th>Fecha Creacion</th><th>Fecha Termino</th><th>Fecha Cierre</th><th>Agencia</th><th>AgenciaID</th><th>Fecha Real Fin</th><th>Dias Cierre</th></tr><tr><td>str</td><td>str</td><td>str</td><td>str</td><td>date</td><td>date</td><td>date</td><td>str</td><td>i64</td><td>date</td><td>i64</td></tr></thead><tbody><tr><td>&quot;OT0000004849379&quot;</td><td>&quot;NAYLAMP - 191143&quot;</td><td>&quot;Zona Centro&quot;</td><td>&quot;Cerrado&quot;</td><td>2022-12-31</td><td>2023-01-25</td><td>2023-01-28</td><td>&quot;NAYLAMP&quot;</td><td>191143</td><td>2023-01-25</td><td>25</td></tr><tr><td>&quot;OT0000004849382&quot;</td><td>&quot;LOS DAMASCOS - 193038&quot;</td><td>&quot;Zona Sur&quot;</td><td>&quot;Cerrado&quot;</td><td>2022-12-31</td><td>2023-01-04</td><td>2023-01-07</td><td>&quot;LOS DAMASCOS&quot;</td><td>193038</td><td>2023-01-04</td><td>4</td></tr><tr><td>&quot;OT0000004849726&quot;</td><td>&quot;LUREN - 380004&quot;</td><td>&quot;Zona Sur&quot;</td><td>&quot;Cerrado&quot;</td><td>2022-12-31</td><td>2023-01-02</td><td>2023-01-05</td><td>&quot;LUREN&quot;</td><td>380004</td><td>2023-01-02</td><td>2</td></tr><tr><td>&quot;OT0000004849732&quot;</td><td>&quot;EL PINO - 191087&quot;</td><td>&quot;Zona Centro&quot;</td><td>&quot;Cerrado&quot;</td><td>2022-12-31</td><td>2023-01-06</td><td>2023-01-09</td><td>&quot;EL PINO&quot;</td><td>191087</td><td>2023-01-06</td><td>6</td></tr><tr><td>&quot;SA0000004849307&quot;</td><td>&quot;TUSILAGOS - 191108&quot;</td><td>&quot;Zona Centro&quot;</td><td>&quot;Rechazado&quot;</td><td>2022-12-31</td><td>null</td><td>null</td><td>&quot;TUSILAGOS&quot;</td><td>191108</td><td>null</td><td>null</td></tr></tbody></table></div>"
      ],
      "text/plain": [
       "shape: (5, 11)\n",
       "┌───────────┬───────────┬───────────┬───────────┬───┬───────────┬───────────┬───────────┬──────────┐\n",
       "│ TicketID  ┆ Ubicacion ┆ Service   ┆ Estado    ┆ … ┆ Agencia   ┆ AgenciaID ┆ Fecha     ┆ Dias     │\n",
       "│ ---       ┆ ---       ┆ Desk      ┆ ---       ┆   ┆ ---       ┆ ---       ┆ Real Fin  ┆ Cierre   │\n",
       "│ str       ┆ str       ┆ ---       ┆ str       ┆   ┆ str       ┆ i64       ┆ ---       ┆ ---      │\n",
       "│           ┆           ┆ str       ┆           ┆   ┆           ┆           ┆ date      ┆ i64      │\n",
       "╞═══════════╪═══════════╪═══════════╪═══════════╪═══╪═══════════╪═══════════╪═══════════╪══════════╡\n",
       "│ OT0000004 ┆ NAYLAMP - ┆ Zona      ┆ Cerrado   ┆ … ┆ NAYLAMP   ┆ 191143    ┆ 2023-01-2 ┆ 25       │\n",
       "│ 849379    ┆ 191143    ┆ Centro    ┆           ┆   ┆           ┆           ┆ 5         ┆          │\n",
       "│ OT0000004 ┆ LOS       ┆ Zona Sur  ┆ Cerrado   ┆ … ┆ LOS       ┆ 193038    ┆ 2023-01-0 ┆ 4        │\n",
       "│ 849382    ┆ DAMASCOS  ┆           ┆           ┆   ┆ DAMASCOS  ┆           ┆ 4         ┆          │\n",
       "│           ┆ - 193038  ┆           ┆           ┆   ┆           ┆           ┆           ┆          │\n",
       "│ OT0000004 ┆ LUREN -   ┆ Zona Sur  ┆ Cerrado   ┆ … ┆ LUREN     ┆ 380004    ┆ 2023-01-0 ┆ 2        │\n",
       "│ 849726    ┆ 380004    ┆           ┆           ┆   ┆           ┆           ┆ 2         ┆          │\n",
       "│ OT0000004 ┆ EL PINO - ┆ Zona      ┆ Cerrado   ┆ … ┆ EL PINO   ┆ 191087    ┆ 2023-01-0 ┆ 6        │\n",
       "│ 849732    ┆ 191087    ┆ Centro    ┆           ┆   ┆           ┆           ┆ 6         ┆          │\n",
       "│ SA0000004 ┆ TUSILAGOS ┆ Zona      ┆ Rechazado ┆ … ┆ TUSILAGOS ┆ 191108    ┆ null      ┆ null     │\n",
       "│ 849307    ┆ - 191108  ┆ Centro    ┆           ┆   ┆           ┆           ┆           ┆          │\n",
       "└───────────┴───────────┴───────────┴───────────┴───┴───────────┴───────────┴───────────┴──────────┘"
      ]
     },
     "execution_count": 29,
     "metadata": {},
     "output_type": "execute_result"
    }
   ],
   "source": [
    "tickets.head()"
   ]
  },
  {
   "cell_type": "markdown",
   "metadata": {},
   "source": [
    "Crear la columna [Grupo Dias], opcional: <br>\n",
    "\t[Grupo Dias] = \t<br>\n",
    "\tSi [Dias Cierre] < 3 ENTONCES \"0 a 3 días\"<br>\n",
    "\t\t\tSi [Dias Cierre] < 7 ENTONCES \"3 a 7 días\"<br>\n",
    "\t\t\tSi [Dias Cierre] < 15 ENTONCES \"7 a 15 días\"<br>\n",
    "\t\t\tSi [Dias Cierre] >= 15 ENTONCES \"+ 15 días\""
   ]
  },
  {
   "cell_type": "code",
   "execution_count": 30,
   "metadata": {},
   "outputs": [],
   "source": [
    "Tickets = tickets.with_columns(\n",
    "                                pl.when(pl.col('Dias Cierre').is_null()).then(None)\n",
    "                                .when(pl.col('Dias Cierre') < 3).then(pl.lit('0 a 3 días'))\n",
    "                                .when(pl.col('Dias Cierre') < 7).then(pl.lit('3 a 7 días'))\n",
    "                                .when(pl.col('Dias Cierre') < 15).then(pl.lit('7 a 15 días'))\n",
    "                                .otherwise(pl.lit('+ de 15 días'))\n",
    "                                .alias('Grupo Dias')\n",
    "                            )"
   ]
  },
  {
   "cell_type": "markdown",
   "metadata": {},
   "source": [
    "## Base Atenciones"
   ]
  },
  {
   "cell_type": "markdown",
   "metadata": {},
   "source": [
    "Utilizando las propiedades del read_csv_options"
   ]
  },
  {
   "cell_type": "code",
   "execution_count": 33,
   "metadata": {},
   "outputs": [
    {
     "data": {
      "text/html": [
       "<div><style>\n",
       ".dataframe > thead > tr,\n",
       ".dataframe > tbody > tr {\n",
       "  text-align: right;\n",
       "  white-space: pre-wrap;\n",
       "}\n",
       "</style>\n",
       "<small>shape: (10, 19)</small><table border=\"1\" class=\"dataframe\"><thead><tr><th>Numero Ticket</th><th>Semana de Visita</th><th>Fecha programada</th><th>Fecha Creacion</th><th>Fecha Cierre</th><th>Estado</th><th>Agencia</th><th>Descripción del servicio</th><th>Tipo de Ticket</th><th>Fecha Aprobacion de Cotizacion</th><th>Precio Venta con IGV (con IGV)</th><th>Monto Registrado en Planilla</th><th>Fecha de Registro en Planilla</th><th>Número de SOLPED</th><th>Proveedor</th><th>Costo Atencion</th><th>Unidades</th><th>Número de OS / OC</th><th>Codigo de Conformidad</th></tr><tr><td>str</td><td>str</td><td>str</td><td>str</td><td>str</td><td>str</td><td>str</td><td>str</td><td>str</td><td>str</td><td>str</td><td>str</td><td>str</td><td>str</td><td>str</td><td>str</td><td>str</td><td>str</td><td>str</td></tr></thead><tbody><tr><td>&quot;WO0000004122353&quot;</td><td>&quot;S1&quot;</td><td>&quot;04/06/2022&quot;</td><td>&quot;01/06/2022&quot;</td><td>null</td><td>&quot;Cerrado&quot;</td><td>null</td><td>null</td><td>&quot;Flat&quot;</td><td>null</td><td>null</td><td>null</td><td>null</td><td>null</td><td>&quot;ACCENTURE&quot;</td><td>null</td><td>null</td><td>null</td><td>null</td></tr><tr><td>&quot;WO0000004122387&quot;</td><td>null</td><td>null</td><td>&quot;01/06/2022&quot;</td><td>null</td><td>&quot;Rechazado&quot;</td><td>null</td><td>null</td><td>&quot;Rechazado&quot;</td><td>null</td><td>null</td><td>null</td><td>null</td><td>null</td><td>null</td><td>null</td><td>null</td><td>null</td><td>null</td></tr><tr><td>&quot;WO0000004122401&quot;</td><td>&quot;S1&quot;</td><td>&quot;05/06/2022&quot;</td><td>&quot;01/06/2022&quot;</td><td>null</td><td>&quot;Cerrado&quot;</td><td>null</td><td>null</td><td>&quot;Flat&quot;</td><td>null</td><td>null</td><td>null</td><td>null</td><td>null</td><td>&quot;ACCENTURE&quot;</td><td>null</td><td>null</td><td>null</td><td>null</td></tr><tr><td>&quot;WO0000004122423&quot;</td><td>null</td><td>null</td><td>&quot;01/06/2022&quot;</td><td>null</td><td>&quot;Terminado&quot;</td><td>null</td><td>null</td><td>&quot;Variable&quot;</td><td>null</td><td>&quot;0&quot;</td><td>null</td><td>null</td><td>null</td><td>&quot;PROSEGUR&quot;</td><td>null</td><td>null</td><td>null</td><td>null</td></tr><tr><td>&quot;WO0000004122459&quot;</td><td>null</td><td>null</td><td>&quot;01/06/2022&quot;</td><td>null</td><td>&quot;Terminado&quot;</td><td>null</td><td>null</td><td>&quot;Variable&quot;</td><td>null</td><td>&quot;0&quot;</td><td>null</td><td>null</td><td>null</td><td>&quot;PROSEGUR&quot;</td><td>null</td><td>null</td><td>null</td><td>null</td></tr><tr><td>&quot;WO0000004122502&quot;</td><td>&quot;S2&quot;</td><td>&quot;07/06/2022&quot;</td><td>&quot;01/06/2022&quot;</td><td>null</td><td>&quot;Cerrado&quot;</td><td>null</td><td>null</td><td>&quot;Flat&quot;</td><td>null</td><td>null</td><td>null</td><td>null</td><td>null</td><td>&quot;ACCENTURE&quot;</td><td>null</td><td>null</td><td>null</td><td>null</td></tr><tr><td>&quot;WO0000004122511&quot;</td><td>null</td><td>null</td><td>&quot;01/06/2022&quot;</td><td>null</td><td>&quot;Cerrado&quot;</td><td>null</td><td>null</td><td>&quot;Variable&quot;</td><td>null</td><td>&quot;0&quot;</td><td>null</td><td>null</td><td>null</td><td>&quot;PROSEGUR&quot;</td><td>null</td><td>null</td><td>null</td><td>null</td></tr><tr><td>&quot;WO0000004122522&quot;</td><td>null</td><td>null</td><td>&quot;01/06/2022&quot;</td><td>null</td><td>&quot;Cerrado&quot;</td><td>null</td><td>null</td><td>&quot;Variable&quot;</td><td>null</td><td>&quot;938.1&quot;</td><td>null</td><td>null</td><td>null</td><td>&quot;JGM IMPORT&quot;</td><td>null</td><td>null</td><td>null</td><td>null</td></tr><tr><td>&quot;WO0000004122649&quot;</td><td>null</td><td>null</td><td>&quot;01/06/2022&quot;</td><td>null</td><td>&quot;Cerrado&quot;</td><td>null</td><td>null</td><td>&quot;Variable&quot;</td><td>null</td><td>&quot;0&quot;</td><td>null</td><td>null</td><td>null</td><td>&quot;CECHRIZA&quot;</td><td>null</td><td>null</td><td>null</td><td>null</td></tr><tr><td>&quot;WO0000004122689&quot;</td><td>&quot;S1&quot;</td><td>&quot;02/06/2022&quot;</td><td>&quot;01/06/2022&quot;</td><td>null</td><td>&quot;Cerrado&quot;</td><td>null</td><td>null</td><td>&quot;Flat&quot;</td><td>null</td><td>null</td><td>null</td><td>null</td><td>null</td><td>&quot;ACCENTURE&quot;</td><td>null</td><td>null</td><td>null</td><td>null</td></tr></tbody></table></div>"
      ],
      "text/plain": [
       "shape: (10, 19)\n",
       "┌───────────┬───────────┬───────────┬───────────┬───┬───────────┬──────────┬───────────┬───────────┐\n",
       "│ Numero    ┆ Semana de ┆ Fecha pro ┆ Fecha     ┆ … ┆ Costo     ┆ Unidades ┆ Número de ┆ Codigo de │\n",
       "│ Ticket    ┆ Visita    ┆ gramada   ┆ Creacion  ┆   ┆ Atencion  ┆ ---      ┆ OS / OC   ┆ Conformid │\n",
       "│ ---       ┆ ---       ┆ ---       ┆ ---       ┆   ┆ ---       ┆ str      ┆ ---       ┆ ad        │\n",
       "│ str       ┆ str       ┆ str       ┆ str       ┆   ┆ str       ┆          ┆ str       ┆ ---       │\n",
       "│           ┆           ┆           ┆           ┆   ┆           ┆          ┆           ┆ str       │\n",
       "╞═══════════╪═══════════╪═══════════╪═══════════╪═══╪═══════════╪══════════╪═══════════╪═══════════╡\n",
       "│ WO0000004 ┆ S1        ┆ 04/06/202 ┆ 01/06/202 ┆ … ┆ null      ┆ null     ┆ null      ┆ null      │\n",
       "│ 122353    ┆           ┆ 2         ┆ 2         ┆   ┆           ┆          ┆           ┆           │\n",
       "│ WO0000004 ┆ null      ┆ null      ┆ 01/06/202 ┆ … ┆ null      ┆ null     ┆ null      ┆ null      │\n",
       "│ 122387    ┆           ┆           ┆ 2         ┆   ┆           ┆          ┆           ┆           │\n",
       "│ WO0000004 ┆ S1        ┆ 05/06/202 ┆ 01/06/202 ┆ … ┆ null      ┆ null     ┆ null      ┆ null      │\n",
       "│ 122401    ┆           ┆ 2         ┆ 2         ┆   ┆           ┆          ┆           ┆           │\n",
       "│ WO0000004 ┆ null      ┆ null      ┆ 01/06/202 ┆ … ┆ null      ┆ null     ┆ null      ┆ null      │\n",
       "│ 122423    ┆           ┆           ┆ 2         ┆   ┆           ┆          ┆           ┆           │\n",
       "│ WO0000004 ┆ null      ┆ null      ┆ 01/06/202 ┆ … ┆ null      ┆ null     ┆ null      ┆ null      │\n",
       "│ 122459    ┆           ┆           ┆ 2         ┆   ┆           ┆          ┆           ┆           │\n",
       "│ WO0000004 ┆ S2        ┆ 07/06/202 ┆ 01/06/202 ┆ … ┆ null      ┆ null     ┆ null      ┆ null      │\n",
       "│ 122502    ┆           ┆ 2         ┆ 2         ┆   ┆           ┆          ┆           ┆           │\n",
       "│ WO0000004 ┆ null      ┆ null      ┆ 01/06/202 ┆ … ┆ null      ┆ null     ┆ null      ┆ null      │\n",
       "│ 122511    ┆           ┆           ┆ 2         ┆   ┆           ┆          ┆           ┆           │\n",
       "│ WO0000004 ┆ null      ┆ null      ┆ 01/06/202 ┆ … ┆ null      ┆ null     ┆ null      ┆ null      │\n",
       "│ 122522    ┆           ┆           ┆ 2         ┆   ┆           ┆          ┆           ┆           │\n",
       "│ WO0000004 ┆ null      ┆ null      ┆ 01/06/202 ┆ … ┆ null      ┆ null     ┆ null      ┆ null      │\n",
       "│ 122649    ┆           ┆           ┆ 2         ┆   ┆           ┆          ┆           ┆           │\n",
       "│ WO0000004 ┆ S1        ┆ 02/06/202 ┆ 01/06/202 ┆ … ┆ null      ┆ null     ┆ null      ┆ null      │\n",
       "│ 122689    ┆           ┆ 2         ┆ 2         ┆   ┆           ┆          ┆           ┆           │\n",
       "└───────────┴───────────┴───────────┴───────────┴───┴───────────┴──────────┴───────────┴───────────┘"
      ]
     },
     "execution_count": 33,
     "metadata": {},
     "output_type": "execute_result"
    }
   ],
   "source": [
    "pl.read_excel(\n",
    "    source= './Atenciones/Atenciones Centro.xlsx',\n",
    "    sheet_name='Hoja1',\n",
    "    engine='xlsx2csv',\n",
    "    read_csv_options={\n",
    "        \"infer_schema_length\": 0\n",
    "    }\n",
    ").head(10)"
   ]
  },
  {
   "cell_type": "code",
   "execution_count": 35,
   "metadata": {},
   "outputs": [
    {
     "data": {
      "text/html": [
       "<div><style>\n",
       ".dataframe > thead > tr,\n",
       ".dataframe > tbody > tr {\n",
       "  text-align: right;\n",
       "  white-space: pre-wrap;\n",
       "}\n",
       "</style>\n",
       "<small>shape: (10, 4)</small><table border=\"1\" class=\"dataframe\"><thead><tr><th>Numero Ticket</th><th>Fecha Creacion</th><th>Estado</th><th>Tipo de Ticket</th></tr><tr><td>str</td><td>date</td><td>str</td><td>str</td></tr></thead><tbody><tr><td>&quot;WO0000004122353&quot;</td><td>2022-06-01</td><td>&quot;Cerrado&quot;</td><td>&quot;Flat&quot;</td></tr><tr><td>&quot;WO0000004122387&quot;</td><td>2022-06-01</td><td>&quot;Rechazado&quot;</td><td>&quot;Rechazado&quot;</td></tr><tr><td>&quot;WO0000004122401&quot;</td><td>2022-06-01</td><td>&quot;Cerrado&quot;</td><td>&quot;Flat&quot;</td></tr><tr><td>&quot;WO0000004122423&quot;</td><td>2022-06-01</td><td>&quot;Terminado&quot;</td><td>&quot;Variable&quot;</td></tr><tr><td>&quot;WO0000004122459&quot;</td><td>2022-06-01</td><td>&quot;Terminado&quot;</td><td>&quot;Variable&quot;</td></tr><tr><td>&quot;WO0000004122502&quot;</td><td>2022-06-01</td><td>&quot;Cerrado&quot;</td><td>&quot;Flat&quot;</td></tr><tr><td>&quot;WO0000004122511&quot;</td><td>2022-06-01</td><td>&quot;Cerrado&quot;</td><td>&quot;Variable&quot;</td></tr><tr><td>&quot;WO0000004122522&quot;</td><td>2022-06-01</td><td>&quot;Cerrado&quot;</td><td>&quot;Variable&quot;</td></tr><tr><td>&quot;WO0000004122649&quot;</td><td>2022-06-01</td><td>&quot;Cerrado&quot;</td><td>&quot;Variable&quot;</td></tr><tr><td>&quot;WO0000004122689&quot;</td><td>2022-06-01</td><td>&quot;Cerrado&quot;</td><td>&quot;Flat&quot;</td></tr></tbody></table></div>"
      ],
      "text/plain": [
       "shape: (10, 4)\n",
       "┌─────────────────┬────────────────┬───────────┬────────────────┐\n",
       "│ Numero Ticket   ┆ Fecha Creacion ┆ Estado    ┆ Tipo de Ticket │\n",
       "│ ---             ┆ ---            ┆ ---       ┆ ---            │\n",
       "│ str             ┆ date           ┆ str       ┆ str            │\n",
       "╞═════════════════╪════════════════╪═══════════╪════════════════╡\n",
       "│ WO0000004122353 ┆ 2022-06-01     ┆ Cerrado   ┆ Flat           │\n",
       "│ WO0000004122387 ┆ 2022-06-01     ┆ Rechazado ┆ Rechazado      │\n",
       "│ WO0000004122401 ┆ 2022-06-01     ┆ Cerrado   ┆ Flat           │\n",
       "│ WO0000004122423 ┆ 2022-06-01     ┆ Terminado ┆ Variable       │\n",
       "│ WO0000004122459 ┆ 2022-06-01     ┆ Terminado ┆ Variable       │\n",
       "│ WO0000004122502 ┆ 2022-06-01     ┆ Cerrado   ┆ Flat           │\n",
       "│ WO0000004122511 ┆ 2022-06-01     ┆ Cerrado   ┆ Variable       │\n",
       "│ WO0000004122522 ┆ 2022-06-01     ┆ Cerrado   ┆ Variable       │\n",
       "│ WO0000004122649 ┆ 2022-06-01     ┆ Cerrado   ┆ Variable       │\n",
       "│ WO0000004122689 ┆ 2022-06-01     ┆ Cerrado   ┆ Flat           │\n",
       "└─────────────────┴────────────────┴───────────┴────────────────┘"
      ]
     },
     "execution_count": 35,
     "metadata": {},
     "output_type": "execute_result"
    }
   ],
   "source": [
    "pl.read_excel(\n",
    "    source= './Atenciones/Atenciones Centro.xlsx',\n",
    "    sheet_name='Hoja1',\n",
    "    engine='xlsx2csv',\n",
    "    read_csv_options={\n",
    "        \"columns\": [\"Numero Ticket\", \"Fecha Creacion\", \"Estado\", \"Tipo de Ticket\"],\n",
    "        \"dtypes\": {\"Fecha Creacion\": pl.Date}\n",
    "    }\n",
    ").head(10)"
   ]
  },
  {
   "cell_type": "markdown",
   "metadata": {},
   "source": [
    "Transformando el Archivo de Centros.xlsx"
   ]
  },
  {
   "cell_type": "code",
   "execution_count": 63,
   "metadata": {},
   "outputs": [],
   "source": [
    "dataAtenciones = pl.read_excel(\n",
    "    source= './Atenciones/Atenciones Sur.xlsx',\n",
    "    sheet_name='Hoja1',\n",
    "    engine='xlsx2csv',\n",
    "    read_csv_options={\n",
    "        \"columns\": [\"Numero Ticket\", \"Tipo de Ticket\", \"Proveedor\", \"Costo Atencion\"]\n",
    "    }\n",
    ")"
   ]
  },
  {
   "cell_type": "code",
   "execution_count": 64,
   "metadata": {},
   "outputs": [
    {
     "data": {
      "text/html": [
       "<div><style>\n",
       ".dataframe > thead > tr,\n",
       ".dataframe > tbody > tr {\n",
       "  text-align: right;\n",
       "  white-space: pre-wrap;\n",
       "}\n",
       "</style>\n",
       "<small>shape: (5, 4)</small><table border=\"1\" class=\"dataframe\"><thead><tr><th>Numero Ticket</th><th>Tipo de Ticket</th><th>Proveedor</th><th>Costo Atencion</th></tr><tr><td>str</td><td>str</td><td>str</td><td>str</td></tr></thead><tbody><tr><td>&quot;WO0000004149361&quot;</td><td>&quot;Rechazado&quot;</td><td>null</td><td>null</td></tr><tr><td>&quot;WO0000004849382&quot;</td><td>&quot;Variable&quot;</td><td>&quot;CIME COMERCIAL&quot;</td><td>null</td></tr><tr><td>&quot;WO0000004849382&quot;</td><td>&quot;Variable&quot;</td><td>&quot;CIME COMERCIAL&quot;</td><td>null</td></tr><tr><td>&quot;WO0000004849382&quot;</td><td>&quot;Variable&quot;</td><td>&quot;CIME COMERCIAL&quot;</td><td>null</td></tr><tr><td>&quot;WO0000004849382&quot;</td><td>&quot;Variable&quot;</td><td>&quot;CIME COMERCIAL&quot;</td><td>null</td></tr></tbody></table></div>"
      ],
      "text/plain": [
       "shape: (5, 4)\n",
       "┌─────────────────┬────────────────┬────────────────┬────────────────┐\n",
       "│ Numero Ticket   ┆ Tipo de Ticket ┆ Proveedor      ┆ Costo Atencion │\n",
       "│ ---             ┆ ---            ┆ ---            ┆ ---            │\n",
       "│ str             ┆ str            ┆ str            ┆ str            │\n",
       "╞═════════════════╪════════════════╪════════════════╪════════════════╡\n",
       "│ WO0000004149361 ┆ Rechazado      ┆ null           ┆ null           │\n",
       "│ WO0000004849382 ┆ Variable       ┆ CIME COMERCIAL ┆ null           │\n",
       "│ WO0000004849382 ┆ Variable       ┆ CIME COMERCIAL ┆ null           │\n",
       "│ WO0000004849382 ┆ Variable       ┆ CIME COMERCIAL ┆ null           │\n",
       "│ WO0000004849382 ┆ Variable       ┆ CIME COMERCIAL ┆ null           │\n",
       "└─────────────────┴────────────────┴────────────────┴────────────────┘"
      ]
     },
     "execution_count": 64,
     "metadata": {},
     "output_type": "execute_result"
    }
   ],
   "source": [
    "dataAtenciones.head()"
   ]
  },
  {
   "cell_type": "markdown",
   "metadata": {},
   "source": [
    "- Los numeros flotantes o decimales se escriben con \".\"\n",
    "- Reemplazar los valores de \"COSTO CERO\" Y \"SIN COSTO\" POR EL VALOR DE \"0\"\n",
    "- Los otros valores que no aparezcan o no digan \"COSTO CERO\" O \"SIN COSTO\" REEMPLAZARLOS POR EL VALOR NULO."
   ]
  },
  {
   "cell_type": "code",
   "execution_count": 58,
   "metadata": {},
   "outputs": [
    {
     "data": {
      "text/plain": [
       "['Numero Ticket', 'Tipo de Ticket', 'Proveedor', 'Costo Atencion']"
      ]
     },
     "execution_count": 58,
     "metadata": {},
     "output_type": "execute_result"
    }
   ],
   "source": [
    "dataAtenciones.columns"
   ]
  },
  {
   "cell_type": "code",
   "execution_count": 65,
   "metadata": {},
   "outputs": [],
   "source": [
    "dataAtenciones = dataAtenciones.select(\n",
    "    pl.col('Numero Ticket').alias('TicketID'),\n",
    "    'Tipo de Ticket', 'Proveedor',\n",
    "    pl.col('Costo Atencion').str.strip_chars()\n",
    "    .str.to_uppercase()\n",
    "    .str.replace_many(\n",
    "        ['COSTO CERO', 'SIN COSTO'],\n",
    "        \"0\"\n",
    "    )\n",
    ")"
   ]
  },
  {
   "cell_type": "code",
   "execution_count": 66,
   "metadata": {},
   "outputs": [
    {
     "data": {
      "text/html": [
       "<div><style>\n",
       ".dataframe > thead > tr,\n",
       ".dataframe > tbody > tr {\n",
       "  text-align: right;\n",
       "  white-space: pre-wrap;\n",
       "}\n",
       "</style>\n",
       "<small>shape: (2_172, 4)</small><table border=\"1\" class=\"dataframe\"><thead><tr><th>TicketID</th><th>Tipo de Ticket</th><th>Proveedor</th><th>Costo Atencion</th></tr><tr><td>str</td><td>str</td><td>str</td><td>str</td></tr></thead><tbody><tr><td>&quot;WO0000004851733&quot;</td><td>&quot;Flat&quot;</td><td>&quot;ACCENTURE&quot;</td><td>&quot;10&quot;</td></tr><tr><td>&quot;WO0000004852359&quot;</td><td>&quot;Flat&quot;</td><td>&quot;ACCENTURE&quot;</td><td>&quot;0&quot;</td></tr><tr><td>&quot;WO0000004852982&quot;</td><td>&quot;Flat&quot;</td><td>&quot;ACCENTURE&quot;</td><td>&quot;33.898305084745758&quot;</td></tr><tr><td>&quot;WO0000004853123&quot;</td><td>&quot;Flat&quot;</td><td>&quot;ACCENTURE&quot;</td><td>&quot;0&quot;</td></tr><tr><td>&quot;WO0000004853184&quot;</td><td>&quot;Flat&quot;</td><td>&quot;ACCENTURE&quot;</td><td>&quot;3.389830508474577&quot;</td></tr><tr><td>&quot;WO0000004853307&quot;</td><td>&quot;Variable&quot;</td><td>&quot;ACCENTURE&quot;</td><td>&quot;628&quot;</td></tr><tr><td>&quot;WO0000004854033&quot;</td><td>&quot;Flat&quot;</td><td>&quot;ACCENTURE&quot;</td><td>&quot;0&quot;</td></tr><tr><td>&quot;WO0000004854084&quot;</td><td>&quot;Variable&quot;</td><td>&quot;COORPORACION R&amp;M&quot;</td><td>&quot;424&quot;</td></tr><tr><td>&quot;WO0000004854303&quot;</td><td>&quot;Flat&quot;</td><td>&quot;ACCENTURE&quot;</td><td>&quot;0&quot;</td></tr><tr><td>&quot;WO0000004854309&quot;</td><td>&quot;Flat&quot;</td><td>&quot;ACCENTURE&quot;</td><td>&quot;149&quot;</td></tr><tr><td>&quot;WO0000004854317&quot;</td><td>&quot;Flat&quot;</td><td>&quot;ACCENTURE&quot;</td><td>&quot;0&quot;</td></tr><tr><td>&quot;WO0000004854347&quot;</td><td>&quot;Flat&quot;</td><td>&quot;ACCENTURE&quot;</td><td>&quot;0&quot;</td></tr><tr><td>&hellip;</td><td>&hellip;</td><td>&hellip;</td><td>&hellip;</td></tr><tr><td>&quot;WO0000005730406&quot;</td><td>&quot;Variable&quot;</td><td>&quot;CECHRIZA&quot;</td><td>&quot;0&quot;</td></tr><tr><td>&quot;WO0000005730455&quot;</td><td>&quot;Variable&quot;</td><td>&quot;JGM IMPORT&quot;</td><td>&quot;200.6&quot;</td></tr><tr><td>&quot;WO0000005731335&quot;</td><td>&quot;Variable&quot;</td><td>&quot;CECHRIZA&quot;</td><td>&quot;59&quot;</td></tr><tr><td>&quot;WO0000005731337&quot;</td><td>&quot;Variable&quot;</td><td>&quot;CECHRIZA&quot;</td><td>&quot;59&quot;</td></tr><tr><td>&quot;WO0000005731338&quot;</td><td>&quot;Variable&quot;</td><td>&quot;CECHRIZA&quot;</td><td>&quot;59&quot;</td></tr><tr><td>&quot;WO0000005731349&quot;</td><td>&quot;Flat&quot;</td><td>&quot;ACCENTURE&quot;</td><td>&quot;0&quot;</td></tr><tr><td>&quot;WO0000005731737&quot;</td><td>&quot;Variable&quot;</td><td>&quot;CECHRIZA&quot;</td><td>&quot;901.96&quot;</td></tr><tr><td>&quot;WO0000005731747&quot;</td><td>&quot;Variable&quot;</td><td>&quot;CECHRIZA&quot;</td><td>&quot;2083.4299999999998&quot;</td></tr><tr><td>&quot;WO0000005733751&quot;</td><td>&quot;Variable&quot;</td><td>&quot;CECHRIZA&quot;</td><td>&quot;59&quot;</td></tr><tr><td>&quot;WO0000005734101&quot;</td><td>&quot;Flat&quot;</td><td>&quot;ACCENTURE&quot;</td><td>&quot;0&quot;</td></tr><tr><td>&quot;WO0000005734524&quot;</td><td>&quot;Flat&quot;</td><td>&quot;ACCENTURE&quot;</td><td>&quot;0&quot;</td></tr><tr><td>&quot;WO0000005735276&quot;</td><td>&quot;Variable&quot;</td><td>&quot;TRAZAIDEA&quot;</td><td>&quot;404.74&quot;</td></tr></tbody></table></div>"
      ],
      "text/plain": [
       "shape: (2_172, 4)\n",
       "┌─────────────────┬────────────────┬───────────┬────────────────────┐\n",
       "│ TicketID        ┆ Tipo de Ticket ┆ Proveedor ┆ Costo Atencion     │\n",
       "│ ---             ┆ ---            ┆ ---       ┆ ---                │\n",
       "│ str             ┆ str            ┆ str       ┆ str                │\n",
       "╞═════════════════╪════════════════╪═══════════╪════════════════════╡\n",
       "│ WO0000004851733 ┆ Flat           ┆ ACCENTURE ┆ 10                 │\n",
       "│ WO0000004852359 ┆ Flat           ┆ ACCENTURE ┆ 0                  │\n",
       "│ WO0000004852982 ┆ Flat           ┆ ACCENTURE ┆ 33.898305084745758 │\n",
       "│ WO0000004853123 ┆ Flat           ┆ ACCENTURE ┆ 0                  │\n",
       "│ WO0000004853184 ┆ Flat           ┆ ACCENTURE ┆ 3.389830508474577  │\n",
       "│ …               ┆ …              ┆ …         ┆ …                  │\n",
       "│ WO0000005731747 ┆ Variable       ┆ CECHRIZA  ┆ 2083.4299999999998 │\n",
       "│ WO0000005733751 ┆ Variable       ┆ CECHRIZA  ┆ 59                 │\n",
       "│ WO0000005734101 ┆ Flat           ┆ ACCENTURE ┆ 0                  │\n",
       "│ WO0000005734524 ┆ Flat           ┆ ACCENTURE ┆ 0                  │\n",
       "│ WO0000005735276 ┆ Variable       ┆ TRAZAIDEA ┆ 404.74             │\n",
       "└─────────────────┴────────────────┴───────────┴────────────────────┘"
      ]
     },
     "execution_count": 66,
     "metadata": {},
     "output_type": "execute_result"
    }
   ],
   "source": [
    "dataAtenciones.filter(\n",
    "    ~pl.col('Costo Atencion').is_null()\n",
    ")"
   ]
  },
  {
   "cell_type": "code",
   "execution_count": 43,
   "metadata": {},
   "outputs": [],
   "source": [
    "def texto_a_decimal(valor):\n",
    "    try:\n",
    "        return round(float(valor), 2)\n",
    "    except:\n",
    "        return None"
   ]
  },
  {
   "cell_type": "code",
   "execution_count": 49,
   "metadata": {},
   "outputs": [
    {
     "data": {
      "text/plain": [
       "'\\n\\nPara aplicar una función a más de 2 columnas\\n\\ndataAtenciones.select(\\n    pl.col([\"Costo Atencion\", \"TicketID\"]).map_elements()\\n)\\n\\n'"
      ]
     },
     "execution_count": 49,
     "metadata": {},
     "output_type": "execute_result"
    }
   ],
   "source": [
    "\"\"\"\n",
    "\n",
    "Para aplicar una función a más de 2 columnas\n",
    "\n",
    "dataAtenciones.select(\n",
    "    pl.col([\"Costo Atencion\", \"TicketID\"]).map_elements()\n",
    ")\n",
    "\n",
    "\"\"\""
   ]
  },
  {
   "cell_type": "code",
   "execution_count": 67,
   "metadata": {},
   "outputs": [],
   "source": [
    "dataAtenciones = dataAtenciones.with_columns(\n",
    "    pl.col('Costo Atencion').map_elements(texto_a_decimal).alias('Costo Atencion')\n",
    ")"
   ]
  },
  {
   "cell_type": "code",
   "execution_count": 68,
   "metadata": {},
   "outputs": [
    {
     "data": {
      "text/html": [
       "<div><style>\n",
       ".dataframe > thead > tr,\n",
       ".dataframe > tbody > tr {\n",
       "  text-align: right;\n",
       "  white-space: pre-wrap;\n",
       "}\n",
       "</style>\n",
       "<small>shape: (4_425, 4)</small><table border=\"1\" class=\"dataframe\"><thead><tr><th>TicketID</th><th>Tipo de Ticket</th><th>Proveedor</th><th>Costo Atencion</th></tr><tr><td>str</td><td>str</td><td>str</td><td>f64</td></tr></thead><tbody><tr><td>&quot;WO0000004149361&quot;</td><td>&quot;Rechazado&quot;</td><td>null</td><td>null</td></tr><tr><td>&quot;WO0000004849382&quot;</td><td>&quot;Variable&quot;</td><td>&quot;CIME COMERCIAL&quot;</td><td>null</td></tr><tr><td>&quot;WO0000004849382&quot;</td><td>&quot;Variable&quot;</td><td>&quot;CIME COMERCIAL&quot;</td><td>null</td></tr><tr><td>&quot;WO0000004849382&quot;</td><td>&quot;Variable&quot;</td><td>&quot;CIME COMERCIAL&quot;</td><td>null</td></tr><tr><td>&quot;WO0000004849382&quot;</td><td>&quot;Variable&quot;</td><td>&quot;CIME COMERCIAL&quot;</td><td>null</td></tr><tr><td>&quot;WO0000004849721&quot;</td><td>&quot;Variable&quot;</td><td>&quot;JGM IMPORT&quot;</td><td>null</td></tr><tr><td>&quot;WO0000004849721&quot;</td><td>&quot;Variable&quot;</td><td>&quot;JGM IMPORT&quot;</td><td>null</td></tr><tr><td>&quot;WO0000004849721&quot;</td><td>&quot;Variable&quot;</td><td>&quot;JGM IMPORT&quot;</td><td>null</td></tr><tr><td>&quot;WO0000004849721&quot;</td><td>&quot;Variable&quot;</td><td>&quot;JGM IMPORT&quot;</td><td>null</td></tr><tr><td>&quot;WO0000004849726&quot;</td><td>&quot;Variable&quot;</td><td>&quot;JGM IMPORT&quot;</td><td>null</td></tr><tr><td>&quot;WO0000004849726&quot;</td><td>&quot;Variable&quot;</td><td>&quot;JGM IMPORT&quot;</td><td>null</td></tr><tr><td>&quot;WO0000004849726&quot;</td><td>&quot;Variable&quot;</td><td>&quot;JGM IMPORT&quot;</td><td>null</td></tr><tr><td>&hellip;</td><td>&hellip;</td><td>&hellip;</td><td>&hellip;</td></tr><tr><td>&quot;WO0000005737163&quot;</td><td>&quot;Flat&quot;</td><td>&quot;ACCENTURE&quot;</td><td>null</td></tr><tr><td>&quot;WO0000005737503&quot;</td><td>&quot;Variable&quot;</td><td>&quot;COORPORACION R&amp;M&quot;</td><td>null</td></tr><tr><td>&quot;WO0000005737560&quot;</td><td>&quot;Variable&quot;</td><td>null</td><td>null</td></tr><tr><td>&quot;WO0000005737581&quot;</td><td>&quot;Rechazado&quot;</td><td>&quot;OTROS&quot;</td><td>null</td></tr><tr><td>&quot;WO0000005738320&quot;</td><td>&quot;Variable&quot;</td><td>&quot;TRAZAIDEA&quot;</td><td>null</td></tr><tr><td>&quot;WO0000005738335&quot;</td><td>&quot;Variable&quot;</td><td>&quot;PROSEGUR&quot;</td><td>null</td></tr><tr><td>&quot;WO0000005738345&quot;</td><td>&quot;Rechazado&quot;</td><td>&quot;OTROS&quot;</td><td>null</td></tr><tr><td>&quot;WO0000005738348&quot;</td><td>&quot;Rechazado&quot;</td><td>&quot;OTROS&quot;</td><td>null</td></tr><tr><td>&quot;WO0000005738704&quot;</td><td>&quot;Variable&quot;</td><td>&quot;PROSEGUR&quot;</td><td>null</td></tr><tr><td>&quot;WO0000005738705&quot;</td><td>&quot;Variable&quot;</td><td>&quot;COORPORACION R&amp;M&quot;</td><td>null</td></tr><tr><td>&quot;WO0000005738715&quot;</td><td>&quot;Variable&quot;</td><td>&quot;PROSEGUR&quot;</td><td>null</td></tr><tr><td>&quot;WO0000005738721&quot;</td><td>&quot;Flat&quot;</td><td>&quot;ACCENTURE&quot;</td><td>null</td></tr></tbody></table></div>"
      ],
      "text/plain": [
       "shape: (4_425, 4)\n",
       "┌─────────────────┬────────────────┬──────────────────┬────────────────┐\n",
       "│ TicketID        ┆ Tipo de Ticket ┆ Proveedor        ┆ Costo Atencion │\n",
       "│ ---             ┆ ---            ┆ ---              ┆ ---            │\n",
       "│ str             ┆ str            ┆ str              ┆ f64            │\n",
       "╞═════════════════╪════════════════╪══════════════════╪════════════════╡\n",
       "│ WO0000004149361 ┆ Rechazado      ┆ null             ┆ null           │\n",
       "│ WO0000004849382 ┆ Variable       ┆ CIME COMERCIAL   ┆ null           │\n",
       "│ WO0000004849382 ┆ Variable       ┆ CIME COMERCIAL   ┆ null           │\n",
       "│ WO0000004849382 ┆ Variable       ┆ CIME COMERCIAL   ┆ null           │\n",
       "│ WO0000004849382 ┆ Variable       ┆ CIME COMERCIAL   ┆ null           │\n",
       "│ …               ┆ …              ┆ …                ┆ …              │\n",
       "│ WO0000005738348 ┆ Rechazado      ┆ OTROS            ┆ null           │\n",
       "│ WO0000005738704 ┆ Variable       ┆ PROSEGUR         ┆ null           │\n",
       "│ WO0000005738705 ┆ Variable       ┆ COORPORACION R&M ┆ null           │\n",
       "│ WO0000005738715 ┆ Variable       ┆ PROSEGUR         ┆ null           │\n",
       "│ WO0000005738721 ┆ Flat           ┆ ACCENTURE        ┆ null           │\n",
       "└─────────────────┴────────────────┴──────────────────┴────────────────┘"
      ]
     },
     "execution_count": 68,
     "metadata": {},
     "output_type": "execute_result"
    }
   ],
   "source": [
    "dataAtenciones"
   ]
  },
  {
   "cell_type": "markdown",
   "metadata": {},
   "source": [
    "Unificando los 3 archivos"
   ]
  },
  {
   "cell_type": "code",
   "execution_count": 69,
   "metadata": {},
   "outputs": [],
   "source": [
    "# Leer archivos que estan dentro de una carpeta\n",
    "from pathlib import Path"
   ]
  },
  {
   "cell_type": "code",
   "execution_count": 70,
   "metadata": {},
   "outputs": [
    {
     "data": {
      "text/plain": [
       "WindowsPath('Atenciones')"
      ]
     },
     "execution_count": 70,
     "metadata": {},
     "output_type": "execute_result"
    }
   ],
   "source": [
    "rutaCarpeta = Path('./Atenciones/')\n",
    "\n",
    "rutaCarpeta"
   ]
  },
  {
   "cell_type": "code",
   "execution_count": 73,
   "metadata": {},
   "outputs": [],
   "source": [
    "archivosExcel = list(rutaCarpeta.glob('*.xlsx'))"
   ]
  },
  {
   "cell_type": "code",
   "execution_count": 84,
   "metadata": {},
   "outputs": [
    {
     "name": "stdout",
     "output_type": "stream",
     "text": [
      "Atenciones Centro.xlsx\n",
      "Atenciones Norte.xlsx\n",
      "Atenciones Sur.xlsx\n"
     ]
    }
   ],
   "source": [
    "for archivo in archivosExcel:\n",
    "    print(str(archivo).split(\"\\\\\")[1])"
   ]
  },
  {
   "cell_type": "code",
   "execution_count": 93,
   "metadata": {},
   "outputs": [],
   "source": [
    "dataAtenciones = pl.DataFrame()\n",
    "\n",
    "\n",
    "for archivo in archivosExcel:\n",
    "    \n",
    "    file = str(archivo).split(\"\\\\\")[1]\n",
    "    \n",
    "    aux_DF = pl.read_excel(\n",
    "        source = './Atenciones/' + file ,\n",
    "        sheet_name='Hoja1',\n",
    "        engine='xlsx2csv',\n",
    "        read_csv_options={\n",
    "            \"columns\": [\"Numero Ticket\", \"Tipo de Ticket\", \"Proveedor\", \"Costo Atencion\"]\n",
    "        }\n",
    "    )\n",
    "\n",
    "    aux_DF = aux_DF.with_columns(pl.lit(file).alias('Nombre Archivo'))\n",
    "\n",
    "    dataAtenciones = pl.concat([dataAtenciones, aux_DF], how= 'vertical')\n",
    "\n"
   ]
  },
  {
   "cell_type": "code",
   "execution_count": 95,
   "metadata": {},
   "outputs": [
    {
     "data": {
      "text/html": [
       "<div><style>\n",
       ".dataframe > thead > tr,\n",
       ".dataframe > tbody > tr {\n",
       "  text-align: right;\n",
       "  white-space: pre-wrap;\n",
       "}\n",
       "</style>\n",
       "<small>shape: (3, 1)</small><table border=\"1\" class=\"dataframe\"><thead><tr><th>Nombre Archivo</th></tr><tr><td>str</td></tr></thead><tbody><tr><td>&quot;Atenciones Norte.xlsx&quot;</td></tr><tr><td>&quot;Atenciones Centro.xlsx&quot;</td></tr><tr><td>&quot;Atenciones Sur.xlsx&quot;</td></tr></tbody></table></div>"
      ],
      "text/plain": [
       "shape: (3, 1)\n",
       "┌────────────────────────┐\n",
       "│ Nombre Archivo         │\n",
       "│ ---                    │\n",
       "│ str                    │\n",
       "╞════════════════════════╡\n",
       "│ Atenciones Norte.xlsx  │\n",
       "│ Atenciones Centro.xlsx │\n",
       "│ Atenciones Sur.xlsx    │\n",
       "└────────────────────────┘"
      ]
     },
     "execution_count": 95,
     "metadata": {},
     "output_type": "execute_result"
    }
   ],
   "source": [
    "dataAtenciones.select(pl.col('Nombre Archivo')).unique()"
   ]
  },
  {
   "cell_type": "code",
   "execution_count": 96,
   "metadata": {},
   "outputs": [],
   "source": [
    "dataAtenciones = dataAtenciones.select(\n",
    "    pl.col('Numero Ticket').alias('TicketID'),\n",
    "    'Tipo de Ticket', 'Proveedor',\n",
    "    pl.col('Costo Atencion').str.strip_chars()\n",
    "    .str.to_uppercase()\n",
    "    .str.replace_many(\n",
    "        ['COSTO CERO', 'SIN COSTO'],\n",
    "        \"0\"\n",
    "    )\n",
    ")"
   ]
  },
  {
   "cell_type": "code",
   "execution_count": 97,
   "metadata": {},
   "outputs": [],
   "source": [
    "dataAtenciones = dataAtenciones.with_columns(\n",
    "    pl.col('Costo Atencion').map_elements(texto_a_decimal).alias('Costo Atencion')\n",
    ")"
   ]
  },
  {
   "cell_type": "code",
   "execution_count": 98,
   "metadata": {},
   "outputs": [
    {
     "data": {
      "text/html": [
       "<div><style>\n",
       ".dataframe > thead > tr,\n",
       ".dataframe > tbody > tr {\n",
       "  text-align: right;\n",
       "  white-space: pre-wrap;\n",
       "}\n",
       "</style>\n",
       "<small>shape: (22_717, 4)</small><table border=\"1\" class=\"dataframe\"><thead><tr><th>TicketID</th><th>Tipo de Ticket</th><th>Proveedor</th><th>Costo Atencion</th></tr><tr><td>str</td><td>str</td><td>str</td><td>f64</td></tr></thead><tbody><tr><td>&quot;WO0000004122353&quot;</td><td>&quot;Flat&quot;</td><td>&quot;ACCENTURE&quot;</td><td>null</td></tr><tr><td>&quot;WO0000004122387&quot;</td><td>&quot;Rechazado&quot;</td><td>null</td><td>null</td></tr><tr><td>&quot;WO0000004122401&quot;</td><td>&quot;Flat&quot;</td><td>&quot;ACCENTURE&quot;</td><td>null</td></tr><tr><td>&quot;WO0000004122423&quot;</td><td>&quot;Variable&quot;</td><td>&quot;PROSEGUR&quot;</td><td>null</td></tr><tr><td>&quot;WO0000004122459&quot;</td><td>&quot;Variable&quot;</td><td>&quot;PROSEGUR&quot;</td><td>null</td></tr><tr><td>&quot;WO0000004122502&quot;</td><td>&quot;Flat&quot;</td><td>&quot;ACCENTURE&quot;</td><td>null</td></tr><tr><td>&quot;WO0000004122511&quot;</td><td>&quot;Variable&quot;</td><td>&quot;PROSEGUR&quot;</td><td>null</td></tr><tr><td>&quot;WO0000004122522&quot;</td><td>&quot;Variable&quot;</td><td>&quot;JGM IMPORT&quot;</td><td>null</td></tr><tr><td>&quot;WO0000004122649&quot;</td><td>&quot;Variable&quot;</td><td>&quot;CECHRIZA&quot;</td><td>null</td></tr><tr><td>&quot;WO0000004122689&quot;</td><td>&quot;Flat&quot;</td><td>&quot;ACCENTURE&quot;</td><td>null</td></tr><tr><td>&quot;WO0000004122715&quot;</td><td>&quot;Flat&quot;</td><td>&quot;ACCENTURE&quot;</td><td>null</td></tr><tr><td>&quot;WO0000004122726&quot;</td><td>&quot;Flat&quot;</td><td>&quot;ACCENTURE&quot;</td><td>null</td></tr><tr><td>&hellip;</td><td>&hellip;</td><td>&hellip;</td><td>&hellip;</td></tr><tr><td>&quot;WO0000005737163&quot;</td><td>&quot;Flat&quot;</td><td>&quot;ACCENTURE&quot;</td><td>null</td></tr><tr><td>&quot;WO0000005737503&quot;</td><td>&quot;Variable&quot;</td><td>&quot;COORPORACION R&amp;M&quot;</td><td>null</td></tr><tr><td>&quot;WO0000005737560&quot;</td><td>&quot;Variable&quot;</td><td>null</td><td>null</td></tr><tr><td>&quot;WO0000005737581&quot;</td><td>&quot;Rechazado&quot;</td><td>&quot;OTROS&quot;</td><td>null</td></tr><tr><td>&quot;WO0000005738320&quot;</td><td>&quot;Variable&quot;</td><td>&quot;TRAZAIDEA&quot;</td><td>null</td></tr><tr><td>&quot;WO0000005738335&quot;</td><td>&quot;Variable&quot;</td><td>&quot;PROSEGUR&quot;</td><td>null</td></tr><tr><td>&quot;WO0000005738345&quot;</td><td>&quot;Rechazado&quot;</td><td>&quot;OTROS&quot;</td><td>null</td></tr><tr><td>&quot;WO0000005738348&quot;</td><td>&quot;Rechazado&quot;</td><td>&quot;OTROS&quot;</td><td>null</td></tr><tr><td>&quot;WO0000005738704&quot;</td><td>&quot;Variable&quot;</td><td>&quot;PROSEGUR&quot;</td><td>null</td></tr><tr><td>&quot;WO0000005738705&quot;</td><td>&quot;Variable&quot;</td><td>&quot;COORPORACION R&amp;M&quot;</td><td>null</td></tr><tr><td>&quot;WO0000005738715&quot;</td><td>&quot;Variable&quot;</td><td>&quot;PROSEGUR&quot;</td><td>null</td></tr><tr><td>&quot;WO0000005738721&quot;</td><td>&quot;Flat&quot;</td><td>&quot;ACCENTURE&quot;</td><td>null</td></tr></tbody></table></div>"
      ],
      "text/plain": [
       "shape: (22_717, 4)\n",
       "┌─────────────────┬────────────────┬──────────────────┬────────────────┐\n",
       "│ TicketID        ┆ Tipo de Ticket ┆ Proveedor        ┆ Costo Atencion │\n",
       "│ ---             ┆ ---            ┆ ---              ┆ ---            │\n",
       "│ str             ┆ str            ┆ str              ┆ f64            │\n",
       "╞═════════════════╪════════════════╪══════════════════╪════════════════╡\n",
       "│ WO0000004122353 ┆ Flat           ┆ ACCENTURE        ┆ null           │\n",
       "│ WO0000004122387 ┆ Rechazado      ┆ null             ┆ null           │\n",
       "│ WO0000004122401 ┆ Flat           ┆ ACCENTURE        ┆ null           │\n",
       "│ WO0000004122423 ┆ Variable       ┆ PROSEGUR         ┆ null           │\n",
       "│ WO0000004122459 ┆ Variable       ┆ PROSEGUR         ┆ null           │\n",
       "│ …               ┆ …              ┆ …                ┆ …              │\n",
       "│ WO0000005738348 ┆ Rechazado      ┆ OTROS            ┆ null           │\n",
       "│ WO0000005738704 ┆ Variable       ┆ PROSEGUR         ┆ null           │\n",
       "│ WO0000005738705 ┆ Variable       ┆ COORPORACION R&M ┆ null           │\n",
       "│ WO0000005738715 ┆ Variable       ┆ PROSEGUR         ┆ null           │\n",
       "│ WO0000005738721 ┆ Flat           ┆ ACCENTURE        ┆ null           │\n",
       "└─────────────────┴────────────────┴──────────────────┴────────────────┘"
      ]
     },
     "execution_count": 98,
     "metadata": {},
     "output_type": "execute_result"
    }
   ],
   "source": [
    "dataAtenciones"
   ]
  },
  {
   "cell_type": "markdown",
   "metadata": {},
   "source": [
    "#### Combinar Base Ticket y Atenciones"
   ]
  },
  {
   "cell_type": "code",
   "execution_count": 99,
   "metadata": {},
   "outputs": [
    {
     "data": {
      "text/html": [
       "<div><style>\n",
       ".dataframe > thead > tr,\n",
       ".dataframe > tbody > tr {\n",
       "  text-align: right;\n",
       "  white-space: pre-wrap;\n",
       "}\n",
       "</style>\n",
       "<small>shape: (5, 12)</small><table border=\"1\" class=\"dataframe\"><thead><tr><th>TicketID</th><th>Ubicacion</th><th>Service Desk</th><th>Estado</th><th>Fecha Creacion</th><th>Fecha Termino</th><th>Fecha Cierre</th><th>Agencia</th><th>AgenciaID</th><th>Fecha Real Fin</th><th>Dias Cierre</th><th>Grupo Dias</th></tr><tr><td>str</td><td>str</td><td>str</td><td>str</td><td>date</td><td>date</td><td>date</td><td>str</td><td>i64</td><td>date</td><td>i64</td><td>str</td></tr></thead><tbody><tr><td>&quot;OT0000004849379&quot;</td><td>&quot;NAYLAMP - 191143&quot;</td><td>&quot;Zona Centro&quot;</td><td>&quot;Cerrado&quot;</td><td>2022-12-31</td><td>2023-01-25</td><td>2023-01-28</td><td>&quot;NAYLAMP&quot;</td><td>191143</td><td>2023-01-25</td><td>25</td><td>&quot;+ de 15 días&quot;</td></tr><tr><td>&quot;OT0000004849382&quot;</td><td>&quot;LOS DAMASCOS - 193038&quot;</td><td>&quot;Zona Sur&quot;</td><td>&quot;Cerrado&quot;</td><td>2022-12-31</td><td>2023-01-04</td><td>2023-01-07</td><td>&quot;LOS DAMASCOS&quot;</td><td>193038</td><td>2023-01-04</td><td>4</td><td>&quot;3 a 7 días&quot;</td></tr><tr><td>&quot;OT0000004849726&quot;</td><td>&quot;LUREN - 380004&quot;</td><td>&quot;Zona Sur&quot;</td><td>&quot;Cerrado&quot;</td><td>2022-12-31</td><td>2023-01-02</td><td>2023-01-05</td><td>&quot;LUREN&quot;</td><td>380004</td><td>2023-01-02</td><td>2</td><td>&quot;0 a 3 días&quot;</td></tr><tr><td>&quot;OT0000004849732&quot;</td><td>&quot;EL PINO - 191087&quot;</td><td>&quot;Zona Centro&quot;</td><td>&quot;Cerrado&quot;</td><td>2022-12-31</td><td>2023-01-06</td><td>2023-01-09</td><td>&quot;EL PINO&quot;</td><td>191087</td><td>2023-01-06</td><td>6</td><td>&quot;3 a 7 días&quot;</td></tr><tr><td>&quot;SA0000004849307&quot;</td><td>&quot;TUSILAGOS - 191108&quot;</td><td>&quot;Zona Centro&quot;</td><td>&quot;Rechazado&quot;</td><td>2022-12-31</td><td>null</td><td>null</td><td>&quot;TUSILAGOS&quot;</td><td>191108</td><td>null</td><td>null</td><td>null</td></tr></tbody></table></div>"
      ],
      "text/plain": [
       "shape: (5, 12)\n",
       "┌───────────┬───────────┬───────────┬───────────┬───┬───────────┬───────────┬───────────┬──────────┐\n",
       "│ TicketID  ┆ Ubicacion ┆ Service   ┆ Estado    ┆ … ┆ AgenciaID ┆ Fecha     ┆ Dias      ┆ Grupo    │\n",
       "│ ---       ┆ ---       ┆ Desk      ┆ ---       ┆   ┆ ---       ┆ Real Fin  ┆ Cierre    ┆ Dias     │\n",
       "│ str       ┆ str       ┆ ---       ┆ str       ┆   ┆ i64       ┆ ---       ┆ ---       ┆ ---      │\n",
       "│           ┆           ┆ str       ┆           ┆   ┆           ┆ date      ┆ i64       ┆ str      │\n",
       "╞═══════════╪═══════════╪═══════════╪═══════════╪═══╪═══════════╪═══════════╪═══════════╪══════════╡\n",
       "│ OT0000004 ┆ NAYLAMP - ┆ Zona      ┆ Cerrado   ┆ … ┆ 191143    ┆ 2023-01-2 ┆ 25        ┆ + de 15  │\n",
       "│ 849379    ┆ 191143    ┆ Centro    ┆           ┆   ┆           ┆ 5         ┆           ┆ días     │\n",
       "│ OT0000004 ┆ LOS       ┆ Zona Sur  ┆ Cerrado   ┆ … ┆ 193038    ┆ 2023-01-0 ┆ 4         ┆ 3 a 7    │\n",
       "│ 849382    ┆ DAMASCOS  ┆           ┆           ┆   ┆           ┆ 4         ┆           ┆ días     │\n",
       "│           ┆ - 193038  ┆           ┆           ┆   ┆           ┆           ┆           ┆          │\n",
       "│ OT0000004 ┆ LUREN -   ┆ Zona Sur  ┆ Cerrado   ┆ … ┆ 380004    ┆ 2023-01-0 ┆ 2         ┆ 0 a 3    │\n",
       "│ 849726    ┆ 380004    ┆           ┆           ┆   ┆           ┆ 2         ┆           ┆ días     │\n",
       "│ OT0000004 ┆ EL PINO - ┆ Zona      ┆ Cerrado   ┆ … ┆ 191087    ┆ 2023-01-0 ┆ 6         ┆ 3 a 7    │\n",
       "│ 849732    ┆ 191087    ┆ Centro    ┆           ┆   ┆           ┆ 6         ┆           ┆ días     │\n",
       "│ SA0000004 ┆ TUSILAGOS ┆ Zona      ┆ Rechazado ┆ … ┆ 191108    ┆ null      ┆ null      ┆ null     │\n",
       "│ 849307    ┆ - 191108  ┆ Centro    ┆           ┆   ┆           ┆           ┆           ┆          │\n",
       "└───────────┴───────────┴───────────┴───────────┴───┴───────────┴───────────┴───────────┴──────────┘"
      ]
     },
     "execution_count": 99,
     "metadata": {},
     "output_type": "execute_result"
    }
   ],
   "source": [
    "Tickets.head()"
   ]
  },
  {
   "cell_type": "code",
   "execution_count": 100,
   "metadata": {},
   "outputs": [
    {
     "data": {
      "text/html": [
       "<div><style>\n",
       ".dataframe > thead > tr,\n",
       ".dataframe > tbody > tr {\n",
       "  text-align: right;\n",
       "  white-space: pre-wrap;\n",
       "}\n",
       "</style>\n",
       "<small>shape: (5, 4)</small><table border=\"1\" class=\"dataframe\"><thead><tr><th>TicketID</th><th>Tipo de Ticket</th><th>Proveedor</th><th>Costo Atencion</th></tr><tr><td>str</td><td>str</td><td>str</td><td>f64</td></tr></thead><tbody><tr><td>&quot;WO0000004122353&quot;</td><td>&quot;Flat&quot;</td><td>&quot;ACCENTURE&quot;</td><td>null</td></tr><tr><td>&quot;WO0000004122387&quot;</td><td>&quot;Rechazado&quot;</td><td>null</td><td>null</td></tr><tr><td>&quot;WO0000004122401&quot;</td><td>&quot;Flat&quot;</td><td>&quot;ACCENTURE&quot;</td><td>null</td></tr><tr><td>&quot;WO0000004122423&quot;</td><td>&quot;Variable&quot;</td><td>&quot;PROSEGUR&quot;</td><td>null</td></tr><tr><td>&quot;WO0000004122459&quot;</td><td>&quot;Variable&quot;</td><td>&quot;PROSEGUR&quot;</td><td>null</td></tr></tbody></table></div>"
      ],
      "text/plain": [
       "shape: (5, 4)\n",
       "┌─────────────────┬────────────────┬───────────┬────────────────┐\n",
       "│ TicketID        ┆ Tipo de Ticket ┆ Proveedor ┆ Costo Atencion │\n",
       "│ ---             ┆ ---            ┆ ---       ┆ ---            │\n",
       "│ str             ┆ str            ┆ str       ┆ f64            │\n",
       "╞═════════════════╪════════════════╪═══════════╪════════════════╡\n",
       "│ WO0000004122353 ┆ Flat           ┆ ACCENTURE ┆ null           │\n",
       "│ WO0000004122387 ┆ Rechazado      ┆ null      ┆ null           │\n",
       "│ WO0000004122401 ┆ Flat           ┆ ACCENTURE ┆ null           │\n",
       "│ WO0000004122423 ┆ Variable       ┆ PROSEGUR  ┆ null           │\n",
       "│ WO0000004122459 ┆ Variable       ┆ PROSEGUR  ┆ null           │\n",
       "└─────────────────┴────────────────┴───────────┴────────────────┘"
      ]
     },
     "execution_count": 100,
     "metadata": {},
     "output_type": "execute_result"
    }
   ],
   "source": [
    "dataAtenciones.head()"
   ]
  },
  {
   "cell_type": "code",
   "execution_count": 106,
   "metadata": {},
   "outputs": [
    {
     "data": {
      "text/plain": [
       "(22717, 15)"
      ]
     },
     "execution_count": 106,
     "metadata": {},
     "output_type": "execute_result"
    }
   ],
   "source": [
    "Tickets.join(\n",
    "    dataAtenciones,\n",
    "    on = 'TicketID',\n",
    "    how = 'inner'\n",
    ").shape"
   ]
  },
  {
   "cell_type": "code",
   "execution_count": 108,
   "metadata": {},
   "outputs": [],
   "source": [
    "# Para unir dos DF usamos el join\n",
    "Resultado = Tickets.join(\n",
    "    dataAtenciones,\n",
    "    on = 'TicketID',\n",
    "    how = 'inner'\n",
    ").select(\n",
    "    'TicketID',\n",
    "    'AgenciaID',\n",
    "    'Agencia',\n",
    "    'Service Desk',\n",
    "    'Estado',\n",
    "    'Fecha Creacion',\n",
    "    'Fecha Cierre',\n",
    "    'Grupo Dias',\n",
    "    pl.col('Tipo de Ticket').alias('Tipo Ticket'),\n",
    "    pl.col('Costo Atencion').alias('Costo')\n",
    ")\n"
   ]
  },
  {
   "cell_type": "code",
   "execution_count": 109,
   "metadata": {},
   "outputs": [
    {
     "data": {
      "text/html": [
       "<div><style>\n",
       ".dataframe > thead > tr,\n",
       ".dataframe > tbody > tr {\n",
       "  text-align: right;\n",
       "  white-space: pre-wrap;\n",
       "}\n",
       "</style>\n",
       "<small>shape: (5, 10)</small><table border=\"1\" class=\"dataframe\"><thead><tr><th>TicketID</th><th>AgenciaID</th><th>Agencia</th><th>Service Desk</th><th>Estado</th><th>Fecha Creacion</th><th>Fecha Cierre</th><th>Grupo Dias</th><th>Tipo Ticket</th><th>Costo</th></tr><tr><td>str</td><td>i64</td><td>str</td><td>str</td><td>str</td><td>date</td><td>date</td><td>str</td><td>str</td><td>f64</td></tr></thead><tbody><tr><td>&quot;WO0000004122353&quot;</td><td>191062</td><td>&quot;PLAZA UNION&quot;</td><td>&quot;Zona Centro&quot;</td><td>&quot;Cerrado&quot;</td><td>2022-06-01</td><td>2022-06-05</td><td>&quot;3 a 7 días&quot;</td><td>&quot;Flat&quot;</td><td>null</td></tr><tr><td>&quot;WO0000004122387&quot;</td><td>191058</td><td>&quot;PLAZA LIMA NORTE&quot;</td><td>&quot;Zona Centro&quot;</td><td>&quot;Rechazado&quot;</td><td>2022-06-01</td><td>null</td><td>&quot;3 a 7 días&quot;</td><td>&quot;Rechazado&quot;</td><td>null</td></tr><tr><td>&quot;WO0000004122401&quot;</td><td>191038</td><td>&quot;TUPAC AMARU&quot;</td><td>&quot;Zona Centro&quot;</td><td>&quot;Cerrado&quot;</td><td>2022-06-01</td><td>2022-06-07</td><td>&quot;3 a 7 días&quot;</td><td>&quot;Flat&quot;</td><td>null</td></tr><tr><td>&quot;WO0000004122423&quot;</td><td>191076</td><td>&quot;LAS MALVINAS&quot;</td><td>&quot;Zona Centro&quot;</td><td>&quot;Terminado&quot;</td><td>2022-06-01</td><td>2022-06-06</td><td>&quot;3 a 7 días&quot;</td><td>&quot;Variable&quot;</td><td>null</td></tr><tr><td>&quot;WO0000004122459&quot;</td><td>191038</td><td>&quot;TUPAC AMARU&quot;</td><td>&quot;Zona Centro&quot;</td><td>&quot;Terminado&quot;</td><td>2022-06-01</td><td>null</td><td>&quot;7 a 15 días&quot;</td><td>&quot;Variable&quot;</td><td>null</td></tr></tbody></table></div>"
      ],
      "text/plain": [
       "shape: (5, 10)\n",
       "┌─────────────┬───────────┬─────────────┬─────────┬───┬─────────────┬────────┬─────────────┬───────┐\n",
       "│ TicketID    ┆ AgenciaID ┆ Agencia     ┆ Service ┆ … ┆ Fecha       ┆ Grupo  ┆ Tipo Ticket ┆ Costo │\n",
       "│ ---         ┆ ---       ┆ ---         ┆ Desk    ┆   ┆ Cierre      ┆ Dias   ┆ ---         ┆ ---   │\n",
       "│ str         ┆ i64       ┆ str         ┆ ---     ┆   ┆ ---         ┆ ---    ┆ str         ┆ f64   │\n",
       "│             ┆           ┆             ┆ str     ┆   ┆ date        ┆ str    ┆             ┆       │\n",
       "╞═════════════╪═══════════╪═════════════╪═════════╪═══╪═════════════╪════════╪═════════════╪═══════╡\n",
       "│ WO000000412 ┆ 191062    ┆ PLAZA UNION ┆ Zona    ┆ … ┆ 2022-06-05  ┆ 3 a 7  ┆ Flat        ┆ null  │\n",
       "│ 2353        ┆           ┆             ┆ Centro  ┆   ┆             ┆ días   ┆             ┆       │\n",
       "│ WO000000412 ┆ 191058    ┆ PLAZA LIMA  ┆ Zona    ┆ … ┆ null        ┆ 3 a 7  ┆ Rechazado   ┆ null  │\n",
       "│ 2387        ┆           ┆ NORTE       ┆ Centro  ┆   ┆             ┆ días   ┆             ┆       │\n",
       "│ WO000000412 ┆ 191038    ┆ TUPAC AMARU ┆ Zona    ┆ … ┆ 2022-06-07  ┆ 3 a 7  ┆ Flat        ┆ null  │\n",
       "│ 2401        ┆           ┆             ┆ Centro  ┆   ┆             ┆ días   ┆             ┆       │\n",
       "│ WO000000412 ┆ 191076    ┆ LAS         ┆ Zona    ┆ … ┆ 2022-06-06  ┆ 3 a 7  ┆ Variable    ┆ null  │\n",
       "│ 2423        ┆           ┆ MALVINAS    ┆ Centro  ┆   ┆             ┆ días   ┆             ┆       │\n",
       "│ WO000000412 ┆ 191038    ┆ TUPAC AMARU ┆ Zona    ┆ … ┆ null        ┆ 7 a 15 ┆ Variable    ┆ null  │\n",
       "│ 2459        ┆           ┆             ┆ Centro  ┆   ┆             ┆ días   ┆             ┆       │\n",
       "└─────────────┴───────────┴─────────────┴─────────┴───┴─────────────┴────────┴─────────────┴───────┘"
      ]
     },
     "execution_count": 109,
     "metadata": {},
     "output_type": "execute_result"
    }
   ],
   "source": [
    "Resultado.head()"
   ]
  },
  {
   "cell_type": "markdown",
   "metadata": {},
   "source": [
    "#### Exportando a un Excel"
   ]
  },
  {
   "cell_type": "code",
   "execution_count": 111,
   "metadata": {},
   "outputs": [
    {
     "data": {
      "text/plain": [
       "<xlsxwriter.workbook.Workbook at 0x1873b5b6690>"
      ]
     },
     "execution_count": 111,
     "metadata": {},
     "output_type": "execute_result"
    }
   ],
   "source": [
    "Resultado.write_excel(\n",
    "    workbook='Resultado Final.xlsx',\n",
    "    worksheet='Informe',\n",
    "    table_style=\"Table Style Light 16\",\n",
    "    dtype_formats = {pl.Date: \"dd/mm/yyyy\"},\n",
    "    float_precision=2,\n",
    "    autofit=True\n",
    ")"
   ]
  }
 ],
 "metadata": {
  "kernelspec": {
   "display_name": "vEdicion1",
   "language": "python",
   "name": "python3"
  },
  "language_info": {
   "codemirror_mode": {
    "name": "ipython",
    "version": 3
   },
   "file_extension": ".py",
   "mimetype": "text/x-python",
   "name": "python",
   "nbconvert_exporter": "python",
   "pygments_lexer": "ipython3",
   "version": "3.11.7"
  }
 },
 "nbformat": 4,
 "nbformat_minor": 2
}
