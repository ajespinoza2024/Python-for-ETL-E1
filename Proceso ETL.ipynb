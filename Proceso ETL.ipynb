{
 "cells": [
  {
   "cell_type": "code",
   "execution_count": 1,
   "metadata": {},
   "outputs": [],
   "source": [
    "import polars as pl\n",
    "from polars import Config"
   ]
  },
  {
   "cell_type": "code",
   "execution_count": 2,
   "metadata": {},
   "outputs": [
    {
     "data": {
      "text/plain": [
       "polars.config.Config"
      ]
     },
     "execution_count": 2,
     "metadata": {},
     "output_type": "execute_result"
    }
   ],
   "source": [
    "# Configurar el tamaño de los string\n",
    "Config.set_fmt_str_lengths(100)"
   ]
  },
  {
   "cell_type": "markdown",
   "metadata": {},
   "source": [
    "##### Leyendo un archivo txt sin encabezados"
   ]
  },
  {
   "cell_type": "code",
   "execution_count": 5,
   "metadata": {},
   "outputs": [
    {
     "data": {
      "text/html": [
       "<div><style>\n",
       ".dataframe > thead > tr,\n",
       ".dataframe > tbody > tr {\n",
       "  text-align: right;\n",
       "  white-space: pre-wrap;\n",
       "}\n",
       "</style>\n",
       "<small>shape: (10, 4)</small><table border=\"1\" class=\"dataframe\"><thead><tr><th>Numero Ticket</th><th>Estado</th><th>Fecha Creacion</th><th>Clasificacion</th></tr><tr><td>str</td><td>str</td><td>date</td><td>i64</td></tr></thead><tbody><tr><td>&quot;WO0000004122687&quot;</td><td>&quot;Cerrado&quot;</td><td>2022-06-01</td><td>3</td></tr><tr><td>&quot;WO0000004122649&quot;</td><td>&quot;Cerrado&quot;</td><td>2022-06-01</td><td>3</td></tr><tr><td>&quot;WO0000004122502&quot;</td><td>&quot;Cerrado&quot;</td><td>2022-06-01</td><td>3</td></tr><tr><td>&quot;WO0000004122513&quot;</td><td>&quot;Cerrado&quot;</td><td>2022-06-01</td><td>3</td></tr><tr><td>&quot;WO0000004122741&quot;</td><td>&quot;Cerrado&quot;</td><td>2022-06-01</td><td>3</td></tr><tr><td>&quot;WO0000004122511&quot;</td><td>&quot;Cerrado&quot;</td><td>2022-06-01</td><td>3</td></tr><tr><td>&quot;WO0000004122522&quot;</td><td>&quot;Cerrado&quot;</td><td>2022-06-01</td><td>3</td></tr><tr><td>&quot;WO0000004122302&quot;</td><td>&quot;Cerrado&quot;</td><td>2022-06-01</td><td>3</td></tr><tr><td>&quot;WO0000004122360&quot;</td><td>&quot;Cerrado&quot;</td><td>2022-06-01</td><td>3</td></tr><tr><td>&quot;WO0000004122688&quot;</td><td>&quot;Cerrado&quot;</td><td>2022-06-01</td><td>3</td></tr></tbody></table></div>"
      ],
      "text/plain": [
       "shape: (10, 4)\n",
       "┌─────────────────┬─────────┬────────────────┬───────────────┐\n",
       "│ Numero Ticket   ┆ Estado  ┆ Fecha Creacion ┆ Clasificacion │\n",
       "│ ---             ┆ ---     ┆ ---            ┆ ---           │\n",
       "│ str             ┆ str     ┆ date           ┆ i64           │\n",
       "╞═════════════════╪═════════╪════════════════╪═══════════════╡\n",
       "│ WO0000004122687 ┆ Cerrado ┆ 2022-06-01     ┆ 3             │\n",
       "│ WO0000004122649 ┆ Cerrado ┆ 2022-06-01     ┆ 3             │\n",
       "│ WO0000004122502 ┆ Cerrado ┆ 2022-06-01     ┆ 3             │\n",
       "│ WO0000004122513 ┆ Cerrado ┆ 2022-06-01     ┆ 3             │\n",
       "│ WO0000004122741 ┆ Cerrado ┆ 2022-06-01     ┆ 3             │\n",
       "│ WO0000004122511 ┆ Cerrado ┆ 2022-06-01     ┆ 3             │\n",
       "│ WO0000004122522 ┆ Cerrado ┆ 2022-06-01     ┆ 3             │\n",
       "│ WO0000004122302 ┆ Cerrado ┆ 2022-06-01     ┆ 3             │\n",
       "│ WO0000004122360 ┆ Cerrado ┆ 2022-06-01     ┆ 3             │\n",
       "│ WO0000004122688 ┆ Cerrado ┆ 2022-06-01     ┆ 3             │\n",
       "└─────────────────┴─────────┴────────────────┴───────────────┘"
      ]
     },
     "execution_count": 5,
     "metadata": {},
     "output_type": "execute_result"
    }
   ],
   "source": [
    "df = pl.read_csv(\n",
    "    source='./Tickets/SinEncabezado.txt', separator=';', has_header= False,\n",
    "    schema={\n",
    "        \"Numero Ticket\": pl.Utf8,\n",
    "        \"Estado\": pl.Utf8,\n",
    "        \"Fecha Creacion\": pl.Date,\n",
    "        \"Clasificacion\": pl.Int64\n",
    "    },\n",
    "    ignore_errors=True # ayuda a castear los valores errados a valores nulos\n",
    ")\n",
    "\n",
    "df.head(10)"
   ]
  },
  {
   "cell_type": "markdown",
   "metadata": {},
   "source": [
    "##### Leyendo un archivo txt con Encabezados (Histórico)"
   ]
  },
  {
   "cell_type": "code",
   "execution_count": 18,
   "metadata": {},
   "outputs": [
    {
     "data": {
      "text/html": [
       "<div><style>\n",
       ".dataframe > thead > tr,\n",
       ".dataframe > tbody > tr {\n",
       "  text-align: right;\n",
       "  white-space: pre-wrap;\n",
       "}\n",
       "</style>\n",
       "<small>shape: (10, 7)</small><table border=\"1\" class=\"dataframe\"><thead><tr><th>TicketID</th><th>Ubicacion</th><th>Service Desk</th><th>Estado</th><th>Fecha Creacion</th><th>Fecha Termino</th><th>Fecha Cierre</th></tr><tr><td>str</td><td>str</td><td>str</td><td>str</td><td>date</td><td>date</td><td>date</td></tr></thead><tbody><tr><td>&quot;WO0000004122687&quot;</td><td>&quot;AREQUIPA - 215000&quot;</td><td>&quot;Zona Norte&quot;</td><td>&quot;Cerrado&quot;</td><td>2022-06-01</td><td>2022-06-14</td><td>2022-06-14</td></tr><tr><td>&quot;WO0000004122649&quot;</td><td>&quot;METRO AV. WIESSE - 191106&quot;</td><td>&quot;Zona Centro&quot;</td><td>&quot;Cerrado&quot;</td><td>2022-06-01</td><td>2022-06-17</td><td>2022-06-17</td></tr><tr><td>&quot;WO0000004122502&quot;</td><td>&quot;NICOLAS AYLLON - 191027&quot;</td><td>&quot;Zona Centro&quot;</td><td>&quot;Cerrado&quot;</td><td>2022-06-01</td><td>2022-06-08</td><td>2022-06-08</td></tr><tr><td>&quot;WO0000004122513&quot;</td><td>&quot;JAUREGUI - 405005&quot;</td><td>&quot;Zona Norte&quot;</td><td>&quot;Cerrado&quot;</td><td>2022-06-01</td><td>2022-06-18</td><td>2022-06-18</td></tr><tr><td>&quot;WO0000004122741&quot;</td><td>&quot;CANTO GRANDE - 191096&quot;</td><td>&quot;Zona Centro&quot;</td><td>&quot;Cerrado&quot;</td><td>2022-06-01</td><td>2022-06-08</td><td>2022-06-08</td></tr><tr><td>&quot;WO0000004122511&quot;</td><td>&quot;CHIMPU OCLLO - 191113&quot;</td><td>&quot;Zona Centro&quot;</td><td>&quot;Cerrado&quot;</td><td>2022-06-01</td><td>2022-06-03</td><td>2022-06-03</td></tr><tr><td>&quot;WO0000004122522&quot;</td><td>&quot;MINI AGENCIA BCP SALAMANCA - 191090&quot;</td><td>&quot;Zona Centro&quot;</td><td>&quot;Cerrado&quot;</td><td>2022-06-01</td><td>2022-06-07</td><td>2022-06-07</td></tr><tr><td>&quot;WO0000004122302&quot;</td><td>&quot;IMPERIAL - 255001&quot;</td><td>&quot;Zona Norte&quot;</td><td>&quot;Cerrado&quot;</td><td>2022-06-01</td><td>2022-06-10</td><td>2022-06-10</td></tr><tr><td>&quot;WO0000004122360&quot;</td><td>&quot;AREQUIPA - 215000&quot;</td><td>&quot;Zona Norte&quot;</td><td>&quot;Cerrado&quot;</td><td>2022-06-01</td><td>2022-06-13</td><td>2022-06-13</td></tr><tr><td>&quot;WO0000004122688&quot;</td><td>&quot;AREQUIPA - 215000&quot;</td><td>&quot;Zona Norte&quot;</td><td>&quot;Cerrado&quot;</td><td>2022-06-01</td><td>2022-06-17</td><td>2022-06-17</td></tr></tbody></table></div>"
      ],
      "text/plain": [
       "shape: (10, 7)\n",
       "┌──────────────┬──────────────┬──────────────┬─────────┬──────────────┬──────────────┬─────────────┐\n",
       "│ TicketID     ┆ Ubicacion    ┆ Service Desk ┆ Estado  ┆ Fecha        ┆ Fecha        ┆ Fecha       │\n",
       "│ ---          ┆ ---          ┆ ---          ┆ ---     ┆ Creacion     ┆ Termino      ┆ Cierre      │\n",
       "│ str          ┆ str          ┆ str          ┆ str     ┆ ---          ┆ ---          ┆ ---         │\n",
       "│              ┆              ┆              ┆         ┆ date         ┆ date         ┆ date        │\n",
       "╞══════════════╪══════════════╪══════════════╪═════════╪══════════════╪══════════════╪═════════════╡\n",
       "│ WO0000004122 ┆ AREQUIPA -   ┆ Zona Norte   ┆ Cerrado ┆ 2022-06-01   ┆ 2022-06-14   ┆ 2022-06-14  │\n",
       "│ 687          ┆ 215000       ┆              ┆         ┆              ┆              ┆             │\n",
       "│ WO0000004122 ┆ METRO AV.    ┆ Zona Centro  ┆ Cerrado ┆ 2022-06-01   ┆ 2022-06-17   ┆ 2022-06-17  │\n",
       "│ 649          ┆ WIESSE -     ┆              ┆         ┆              ┆              ┆             │\n",
       "│              ┆ 191106       ┆              ┆         ┆              ┆              ┆             │\n",
       "│ WO0000004122 ┆ NICOLAS      ┆ Zona Centro  ┆ Cerrado ┆ 2022-06-01   ┆ 2022-06-08   ┆ 2022-06-08  │\n",
       "│ 502          ┆ AYLLON -     ┆              ┆         ┆              ┆              ┆             │\n",
       "│              ┆ 191027       ┆              ┆         ┆              ┆              ┆             │\n",
       "│ WO0000004122 ┆ JAUREGUI -   ┆ Zona Norte   ┆ Cerrado ┆ 2022-06-01   ┆ 2022-06-18   ┆ 2022-06-18  │\n",
       "│ 513          ┆ 405005       ┆              ┆         ┆              ┆              ┆             │\n",
       "│ WO0000004122 ┆ CANTO GRANDE ┆ Zona Centro  ┆ Cerrado ┆ 2022-06-01   ┆ 2022-06-08   ┆ 2022-06-08  │\n",
       "│ 741          ┆ - 191096     ┆              ┆         ┆              ┆              ┆             │\n",
       "│ WO0000004122 ┆ CHIMPU OCLLO ┆ Zona Centro  ┆ Cerrado ┆ 2022-06-01   ┆ 2022-06-03   ┆ 2022-06-03  │\n",
       "│ 511          ┆ - 191113     ┆              ┆         ┆              ┆              ┆             │\n",
       "│ WO0000004122 ┆ MINI AGENCIA ┆ Zona Centro  ┆ Cerrado ┆ 2022-06-01   ┆ 2022-06-07   ┆ 2022-06-07  │\n",
       "│ 522          ┆ BCP          ┆              ┆         ┆              ┆              ┆             │\n",
       "│              ┆ SALAMANCA -  ┆              ┆         ┆              ┆              ┆             │\n",
       "│              ┆ 191090       ┆              ┆         ┆              ┆              ┆             │\n",
       "│ WO0000004122 ┆ IMPERIAL -   ┆ Zona Norte   ┆ Cerrado ┆ 2022-06-01   ┆ 2022-06-10   ┆ 2022-06-10  │\n",
       "│ 302          ┆ 255001       ┆              ┆         ┆              ┆              ┆             │\n",
       "│ WO0000004122 ┆ AREQUIPA -   ┆ Zona Norte   ┆ Cerrado ┆ 2022-06-01   ┆ 2022-06-13   ┆ 2022-06-13  │\n",
       "│ 360          ┆ 215000       ┆              ┆         ┆              ┆              ┆             │\n",
       "│ WO0000004122 ┆ AREQUIPA -   ┆ Zona Norte   ┆ Cerrado ┆ 2022-06-01   ┆ 2022-06-17   ┆ 2022-06-17  │\n",
       "│ 688          ┆ 215000       ┆              ┆         ┆              ┆              ┆             │\n",
       "└──────────────┴──────────────┴──────────────┴─────────┴──────────────┴──────────────┴─────────────┘"
      ]
     },
     "execution_count": 18,
     "metadata": {},
     "output_type": "execute_result"
    }
   ],
   "source": [
    "historico = pl.read_csv(\n",
    "    source='./Tickets/Tickets Historico.txt',\n",
    "    separator=';',\n",
    "    columns = ['Numero Ticket', 'Ubicacion', 'Service Desk', 'Estado', 'Fecha Creacion', 'Fecha Termino' , 'Fecha Cierre'],\n",
    "    try_parse_dates = True, # yyyy-MM-dd\n",
    "    ignore_errors = True\n",
    ").rename({'Numero Ticket': 'TicketID'})\n",
    "\n",
    "historico.head(10)"
   ]
  },
  {
   "cell_type": "markdown",
   "metadata": {},
   "source": [
    "##### Leyendo un archivo txt con Encabezados (Actual)"
   ]
  },
  {
   "cell_type": "code",
   "execution_count": 34,
   "metadata": {},
   "outputs": [],
   "source": [
    "actual = pl.read_csv(\n",
    "    source='./Tickets/Tickets Actual.csv',\n",
    "    separator='|',\n",
    "    columns=['Numero Ticket', 'Ubicacion', 'Service Desk', 'Estado', 'Fecha Creacion', 'Fecha Termino' , 'Fecha Cierre']\n",
    ")"
   ]
  },
  {
   "cell_type": "code",
   "execution_count": 23,
   "metadata": {},
   "outputs": [
    {
     "data": {
      "text/html": [
       "<div><style>\n",
       ".dataframe > thead > tr,\n",
       ".dataframe > tbody > tr {\n",
       "  text-align: right;\n",
       "  white-space: pre-wrap;\n",
       "}\n",
       "</style>\n",
       "<small>shape: (5, 7)</small><table border=\"1\" class=\"dataframe\"><thead><tr><th>Numero Ticket</th><th>Ubicacion</th><th>Service Desk</th><th>Estado</th><th>Fecha Creacion</th><th>Fecha Termino</th><th>Fecha Cierre</th></tr><tr><td>str</td><td>str</td><td>str</td><td>str</td><td>str</td><td>str</td><td>str</td></tr></thead><tbody><tr><td>&quot;WO0000004853311&quot;</td><td>&quot;TUPAC AMARU - 191038&quot;</td><td>&quot;Zona Centro&quot;</td><td>&quot;Cerrado&quot;</td><td>&quot;2023-01-02&quot;</td><td>&quot;10/01/2023&quot;</td><td>&quot;13/01/2023&quot;</td></tr><tr><td>&quot;WO0000004852942&quot;</td><td>&quot;SAN JUAN DE LURIGANCHO - 191017&quot;</td><td>&quot;Zona Centro&quot;</td><td>&quot;Cerrado&quot;</td><td>&quot;2023-01-02&quot;</td><td>&quot;2/01/2023&quot;</td><td>&quot;5/01/2023&quot;</td></tr><tr><td>&quot;WO0000004852621&quot;</td><td>&quot;MARIANO MELGAR - 215014&quot;</td><td>&quot;Zona Norte&quot;</td><td>&quot;Cerrado&quot;</td><td>&quot;2023-01-02&quot;</td><td>&quot;6/01/2023&quot;</td><td>&quot;9/01/2023&quot;</td></tr><tr><td>&quot;SA0000004853328&quot;</td><td>&quot;ANDAHUAYLAS - 205000&quot;</td><td>&quot;Zona Norte&quot;</td><td>&quot;Cerrado&quot;</td><td>&quot;2023-01-02&quot;</td><td>&quot;7/01/2023&quot;</td><td>&quot;10/01/2023&quot;</td></tr><tr><td>&quot;SA0000004853160&quot;</td><td>&quot;COLLIQUE - 191065&quot;</td><td>&quot;Zona Centro&quot;</td><td>&quot;Cerrado&quot;</td><td>&quot;2023-01-02&quot;</td><td>&quot;4/01/2023&quot;</td><td>&quot;7/01/2023&quot;</td></tr></tbody></table></div>"
      ],
      "text/plain": [
       "shape: (5, 7)\n",
       "┌──────────────┬──────────────┬──────────────┬─────────┬──────────────┬──────────────┬─────────────┐\n",
       "│ Numero       ┆ Ubicacion    ┆ Service Desk ┆ Estado  ┆ Fecha        ┆ Fecha        ┆ Fecha       │\n",
       "│ Ticket       ┆ ---          ┆ ---          ┆ ---     ┆ Creacion     ┆ Termino      ┆ Cierre      │\n",
       "│ ---          ┆ str          ┆ str          ┆ str     ┆ ---          ┆ ---          ┆ ---         │\n",
       "│ str          ┆              ┆              ┆         ┆ str          ┆ str          ┆ str         │\n",
       "╞══════════════╪══════════════╪══════════════╪═════════╪══════════════╪══════════════╪═════════════╡\n",
       "│ WO0000004853 ┆ TUPAC AMARU  ┆ Zona Centro  ┆ Cerrado ┆ 2023-01-02   ┆ 10/01/2023   ┆ 13/01/2023  │\n",
       "│ 311          ┆ - 191038     ┆              ┆         ┆              ┆              ┆             │\n",
       "│ WO0000004852 ┆ SAN JUAN DE  ┆ Zona Centro  ┆ Cerrado ┆ 2023-01-02   ┆ 2/01/2023    ┆ 5/01/2023   │\n",
       "│ 942          ┆ LURIGANCHO - ┆              ┆         ┆              ┆              ┆             │\n",
       "│              ┆ 191017       ┆              ┆         ┆              ┆              ┆             │\n",
       "│ WO0000004852 ┆ MARIANO      ┆ Zona Norte   ┆ Cerrado ┆ 2023-01-02   ┆ 6/01/2023    ┆ 9/01/2023   │\n",
       "│ 621          ┆ MELGAR -     ┆              ┆         ┆              ┆              ┆             │\n",
       "│              ┆ 215014       ┆              ┆         ┆              ┆              ┆             │\n",
       "│ SA0000004853 ┆ ANDAHUAYLAS  ┆ Zona Norte   ┆ Cerrado ┆ 2023-01-02   ┆ 7/01/2023    ┆ 10/01/2023  │\n",
       "│ 328          ┆ - 205000     ┆              ┆         ┆              ┆              ┆             │\n",
       "│ SA0000004853 ┆ COLLIQUE -   ┆ Zona Centro  ┆ Cerrado ┆ 2023-01-02   ┆ 4/01/2023    ┆ 7/01/2023   │\n",
       "│ 160          ┆ 191065       ┆              ┆         ┆              ┆              ┆             │\n",
       "└──────────────┴──────────────┴──────────────┴─────────┴──────────────┴──────────────┴─────────────┘"
      ]
     },
     "execution_count": 23,
     "metadata": {},
     "output_type": "execute_result"
    }
   ],
   "source": [
    "actual.head()"
   ]
  },
  {
   "cell_type": "markdown",
   "metadata": {},
   "source": [
    "##### Proceso de Limpieza y transformacion"
   ]
  },
  {
   "cell_type": "code",
   "execution_count": 26,
   "metadata": {},
   "outputs": [
    {
     "data": {
      "text/html": [
       "<div><style>\n",
       ".dataframe > thead > tr,\n",
       ".dataframe > tbody > tr {\n",
       "  text-align: right;\n",
       "  white-space: pre-wrap;\n",
       "}\n",
       "</style>\n",
       "<small>shape: (13_050, 7)</small><table border=\"1\" class=\"dataframe\"><thead><tr><th>Numero Ticket</th><th>Ubicacion</th><th>Service Desk</th><th>Estado</th><th>Fecha Creacion</th><th>Fecha Termino</th><th>Fecha Cierre</th></tr><tr><td>str</td><td>str</td><td>str</td><td>str</td><td>date</td><td>str</td><td>str</td></tr></thead><tbody><tr><td>&quot;WO0000004853311&quot;</td><td>&quot;TUPAC AMARU - 191038&quot;</td><td>&quot;Zona Centro&quot;</td><td>&quot;Cerrado&quot;</td><td>2023-01-02</td><td>&quot;10/01/2023&quot;</td><td>&quot;13/01/2023&quot;</td></tr><tr><td>&quot;WO0000004852942&quot;</td><td>&quot;SAN JUAN DE LURIGANCHO - 191017&quot;</td><td>&quot;Zona Centro&quot;</td><td>&quot;Cerrado&quot;</td><td>2023-01-02</td><td>&quot;2/01/2023&quot;</td><td>&quot;5/01/2023&quot;</td></tr><tr><td>&quot;WO0000004852621&quot;</td><td>&quot;MARIANO MELGAR - 215014&quot;</td><td>&quot;Zona Norte&quot;</td><td>&quot;Cerrado&quot;</td><td>2023-01-02</td><td>&quot;6/01/2023&quot;</td><td>&quot;9/01/2023&quot;</td></tr><tr><td>&quot;SA0000004853328&quot;</td><td>&quot;ANDAHUAYLAS - 205000&quot;</td><td>&quot;Zona Norte&quot;</td><td>&quot;Cerrado&quot;</td><td>2023-01-02</td><td>&quot;7/01/2023&quot;</td><td>&quot;10/01/2023&quot;</td></tr><tr><td>&quot;SA0000004853160&quot;</td><td>&quot;COLLIQUE - 191065&quot;</td><td>&quot;Zona Centro&quot;</td><td>&quot;Cerrado&quot;</td><td>2023-01-02</td><td>&quot;4/01/2023&quot;</td><td>&quot;7/01/2023&quot;</td></tr><tr><td>&quot;SA0000004853158&quot;</td><td>&quot;COLLIQUE - 191065&quot;</td><td>&quot;Zona Centro&quot;</td><td>&quot;Cerrado&quot;</td><td>2023-01-02</td><td>&quot;6/01/2023&quot;</td><td>&quot;9/01/2023&quot;</td></tr><tr><td>&quot;SA0000004853157&quot;</td><td>&quot;COLLIQUE - 191065&quot;</td><td>&quot;Zona Centro&quot;</td><td>&quot;Cerrado&quot;</td><td>2023-01-02</td><td>&quot;4/01/2023&quot;</td><td>&quot;7/01/2023&quot;</td></tr><tr><td>&quot;SA0000004853156&quot;</td><td>&quot;COLLIQUE - 191065&quot;</td><td>&quot;Zona Centro&quot;</td><td>&quot;Cerrado&quot;</td><td>2023-01-02</td><td>&quot;15/01/2023&quot;</td><td>&quot;18/01/2023&quot;</td></tr><tr><td>&quot;WO0000004853328&quot;</td><td>&quot;ANDAHUAYLAS - 205000&quot;</td><td>&quot;Zona Norte&quot;</td><td>&quot;Cerrado&quot;</td><td>2023-01-02</td><td>&quot;7/01/2023&quot;</td><td>&quot;10/01/2023&quot;</td></tr><tr><td>&quot;WO0000004853160&quot;</td><td>&quot;COLLIQUE - 191065&quot;</td><td>&quot;Zona Centro&quot;</td><td>&quot;Cerrado&quot;</td><td>2023-01-02</td><td>&quot;4/01/2023&quot;</td><td>&quot;7/01/2023&quot;</td></tr><tr><td>&quot;WO0000004853158&quot;</td><td>&quot;COLLIQUE - 191065&quot;</td><td>&quot;Zona Centro&quot;</td><td>&quot;Cerrado&quot;</td><td>2023-01-02</td><td>&quot;6/01/2023&quot;</td><td>&quot;9/01/2023&quot;</td></tr><tr><td>&quot;WO0000004853157&quot;</td><td>&quot;COLLIQUE - 191065&quot;</td><td>&quot;Zona Centro&quot;</td><td>&quot;Cerrado&quot;</td><td>2023-01-02</td><td>&quot;4/01/2023&quot;</td><td>&quot;7/01/2023&quot;</td></tr><tr><td>&hellip;</td><td>&hellip;</td><td>&hellip;</td><td>&hellip;</td><td>&hellip;</td><td>&hellip;</td><td>&hellip;</td></tr><tr><td>&quot;OT0000005737139&quot;</td><td>&quot;CANTO GRANDE - 191096&quot;</td><td>&quot;Zona Centro&quot;</td><td>&quot;En curso&quot;</td><td>2023-10-29</td><td>null</td><td>null</td></tr><tr><td>&quot;OT0000005736853&quot;</td><td>&quot;NARANJAL - 191141&quot;</td><td>&quot;Zona Centro&quot;</td><td>&quot;En curso&quot;</td><td>2023-10-29</td><td>null</td><td>null</td></tr><tr><td>&quot;OT0000005736847&quot;</td><td>&quot;NARANJAL - 191141&quot;</td><td>&quot;Zona Centro&quot;</td><td>&quot;En curso&quot;</td><td>2023-10-29</td><td>null</td><td>null</td></tr><tr><td>&quot;OT0000005736845&quot;</td><td>&quot;NARANJAL - 191141&quot;</td><td>&quot;Zona Centro&quot;</td><td>&quot;En curso&quot;</td><td>2023-10-29</td><td>null</td><td>null</td></tr><tr><td>&quot;OT0000005736387&quot;</td><td>&quot;TARAPACA - 191030&quot;</td><td>&quot;Zona Centro&quot;</td><td>&quot;En curso&quot;</td><td>2023-10-29</td><td>null</td><td>null</td></tr><tr><td>&quot;WO0000005737826&quot;</td><td>&quot;EDUARDO DE HABICH - 191023&quot;</td><td>&quot;Zona Centro&quot;</td><td>&quot;En curso&quot;</td><td>2023-10-29</td><td>null</td><td>null</td></tr><tr><td>&quot;WO0000005736855&quot;</td><td>&quot;NARANJAL - 191141&quot;</td><td>&quot;Zona Centro&quot;</td><td>&quot;En curso&quot;</td><td>2023-10-29</td><td>null</td><td>null</td></tr><tr><td>&quot;WO0000005737139&quot;</td><td>&quot;CANTO GRANDE - 191096&quot;</td><td>&quot;Zona Centro&quot;</td><td>&quot;En curso&quot;</td><td>2023-10-29</td><td>null</td><td>null</td></tr><tr><td>&quot;WO0000005736853&quot;</td><td>&quot;NARANJAL - 191141&quot;</td><td>&quot;Zona Centro&quot;</td><td>&quot;En curso&quot;</td><td>2023-10-29</td><td>null</td><td>null</td></tr><tr><td>&quot;WO0000005736847&quot;</td><td>&quot;NARANJAL - 191141&quot;</td><td>&quot;Zona Centro&quot;</td><td>&quot;En curso&quot;</td><td>2023-10-29</td><td>null</td><td>null</td></tr><tr><td>&quot;WO0000005736845&quot;</td><td>&quot;NARANJAL - 191141&quot;</td><td>&quot;Zona Centro&quot;</td><td>&quot;En curso&quot;</td><td>2023-10-29</td><td>null</td><td>null</td></tr><tr><td>&quot;WO0000005736387&quot;</td><td>&quot;TARAPACA - 191030&quot;</td><td>&quot;Zona Centro&quot;</td><td>&quot;En curso&quot;</td><td>2023-10-29</td><td>null</td><td>null</td></tr></tbody></table></div>"
      ],
      "text/plain": [
       "shape: (13_050, 7)\n",
       "┌──────────────┬──────────────┬──────────────┬──────────┬──────────────┬─────────────┬─────────────┐\n",
       "│ Numero       ┆ Ubicacion    ┆ Service Desk ┆ Estado   ┆ Fecha        ┆ Fecha       ┆ Fecha       │\n",
       "│ Ticket       ┆ ---          ┆ ---          ┆ ---      ┆ Creacion     ┆ Termino     ┆ Cierre      │\n",
       "│ ---          ┆ str          ┆ str          ┆ str      ┆ ---          ┆ ---         ┆ ---         │\n",
       "│ str          ┆              ┆              ┆          ┆ date         ┆ str         ┆ str         │\n",
       "╞══════════════╪══════════════╪══════════════╪══════════╪══════════════╪═════════════╪═════════════╡\n",
       "│ WO0000004853 ┆ TUPAC AMARU  ┆ Zona Centro  ┆ Cerrado  ┆ 2023-01-02   ┆ 10/01/2023  ┆ 13/01/2023  │\n",
       "│ 311          ┆ - 191038     ┆              ┆          ┆              ┆             ┆             │\n",
       "│ WO0000004852 ┆ SAN JUAN DE  ┆ Zona Centro  ┆ Cerrado  ┆ 2023-01-02   ┆ 2/01/2023   ┆ 5/01/2023   │\n",
       "│ 942          ┆ LURIGANCHO - ┆              ┆          ┆              ┆             ┆             │\n",
       "│              ┆ 191017       ┆              ┆          ┆              ┆             ┆             │\n",
       "│ WO0000004852 ┆ MARIANO      ┆ Zona Norte   ┆ Cerrado  ┆ 2023-01-02   ┆ 6/01/2023   ┆ 9/01/2023   │\n",
       "│ 621          ┆ MELGAR -     ┆              ┆          ┆              ┆             ┆             │\n",
       "│              ┆ 215014       ┆              ┆          ┆              ┆             ┆             │\n",
       "│ SA0000004853 ┆ ANDAHUAYLAS  ┆ Zona Norte   ┆ Cerrado  ┆ 2023-01-02   ┆ 7/01/2023   ┆ 10/01/2023  │\n",
       "│ 328          ┆ - 205000     ┆              ┆          ┆              ┆             ┆             │\n",
       "│ SA0000004853 ┆ COLLIQUE -   ┆ Zona Centro  ┆ Cerrado  ┆ 2023-01-02   ┆ 4/01/2023   ┆ 7/01/2023   │\n",
       "│ 160          ┆ 191065       ┆              ┆          ┆              ┆             ┆             │\n",
       "│ …            ┆ …            ┆ …            ┆ …        ┆ …            ┆ …           ┆ …           │\n",
       "│ WO0000005737 ┆ CANTO GRANDE ┆ Zona Centro  ┆ En curso ┆ 2023-10-29   ┆ null        ┆ null        │\n",
       "│ 139          ┆ - 191096     ┆              ┆          ┆              ┆             ┆             │\n",
       "│ WO0000005736 ┆ NARANJAL -   ┆ Zona Centro  ┆ En curso ┆ 2023-10-29   ┆ null        ┆ null        │\n",
       "│ 853          ┆ 191141       ┆              ┆          ┆              ┆             ┆             │\n",
       "│ WO0000005736 ┆ NARANJAL -   ┆ Zona Centro  ┆ En curso ┆ 2023-10-29   ┆ null        ┆ null        │\n",
       "│ 847          ┆ 191141       ┆              ┆          ┆              ┆             ┆             │\n",
       "│ WO0000005736 ┆ NARANJAL -   ┆ Zona Centro  ┆ En curso ┆ 2023-10-29   ┆ null        ┆ null        │\n",
       "│ 845          ┆ 191141       ┆              ┆          ┆              ┆             ┆             │\n",
       "│ WO0000005736 ┆ TARAPACA -   ┆ Zona Centro  ┆ En curso ┆ 2023-10-29   ┆ null        ┆ null        │\n",
       "│ 387          ┆ 191030       ┆              ┆          ┆              ┆             ┆             │\n",
       "└──────────────┴──────────────┴──────────────┴──────────┴──────────────┴─────────────┴─────────────┘"
      ]
     },
     "execution_count": 26,
     "metadata": {},
     "output_type": "execute_result"
    }
   ],
   "source": [
    "actual.cast({'Fecha Creacion': pl.Date})"
   ]
  },
  {
   "cell_type": "code",
   "execution_count": 30,
   "metadata": {},
   "outputs": [
    {
     "data": {
      "text/plain": [
       "['Numero Ticket',\n",
       " 'Ubicacion',\n",
       " 'Service Desk',\n",
       " 'Estado',\n",
       " 'Fecha Creacion',\n",
       " 'Fecha Termino',\n",
       " 'Fecha Cierre']"
      ]
     },
     "execution_count": 30,
     "metadata": {},
     "output_type": "execute_result"
    }
   ],
   "source": [
    "actual.columns"
   ]
  },
  {
   "cell_type": "code",
   "execution_count": 35,
   "metadata": {},
   "outputs": [],
   "source": [
    "actual = actual.select(\n",
    "    'Numero Ticket',\n",
    "    'Ubicacion',\n",
    "    'Service Desk',\n",
    "    'Estado',\n",
    "    pl.col('Fecha Creacion').cast(pl.Date),\n",
    "    pl.col('Fecha Termino').str.to_date(format='%d/%m/%Y'),\n",
    "    pl.col('Fecha Cierre').str.to_date(format='%d/%m/%Y')\n",
    ")"
   ]
  },
  {
   "cell_type": "code",
   "execution_count": 36,
   "metadata": {},
   "outputs": [
    {
     "data": {
      "text/html": [
       "<div><style>\n",
       ".dataframe > thead > tr,\n",
       ".dataframe > tbody > tr {\n",
       "  text-align: right;\n",
       "  white-space: pre-wrap;\n",
       "}\n",
       "</style>\n",
       "<small>shape: (5, 7)</small><table border=\"1\" class=\"dataframe\"><thead><tr><th>Numero Ticket</th><th>Ubicacion</th><th>Service Desk</th><th>Estado</th><th>Fecha Creacion</th><th>Fecha Termino</th><th>Fecha Cierre</th></tr><tr><td>str</td><td>str</td><td>str</td><td>str</td><td>date</td><td>date</td><td>date</td></tr></thead><tbody><tr><td>&quot;WO0000004853311&quot;</td><td>&quot;TUPAC AMARU - 191038&quot;</td><td>&quot;Zona Centro&quot;</td><td>&quot;Cerrado&quot;</td><td>2023-01-02</td><td>2023-01-10</td><td>2023-01-13</td></tr><tr><td>&quot;WO0000004852942&quot;</td><td>&quot;SAN JUAN DE LURIGANCHO - 191017&quot;</td><td>&quot;Zona Centro&quot;</td><td>&quot;Cerrado&quot;</td><td>2023-01-02</td><td>2023-01-02</td><td>2023-01-05</td></tr><tr><td>&quot;WO0000004852621&quot;</td><td>&quot;MARIANO MELGAR - 215014&quot;</td><td>&quot;Zona Norte&quot;</td><td>&quot;Cerrado&quot;</td><td>2023-01-02</td><td>2023-01-06</td><td>2023-01-09</td></tr><tr><td>&quot;SA0000004853328&quot;</td><td>&quot;ANDAHUAYLAS - 205000&quot;</td><td>&quot;Zona Norte&quot;</td><td>&quot;Cerrado&quot;</td><td>2023-01-02</td><td>2023-01-07</td><td>2023-01-10</td></tr><tr><td>&quot;SA0000004853160&quot;</td><td>&quot;COLLIQUE - 191065&quot;</td><td>&quot;Zona Centro&quot;</td><td>&quot;Cerrado&quot;</td><td>2023-01-02</td><td>2023-01-04</td><td>2023-01-07</td></tr></tbody></table></div>"
      ],
      "text/plain": [
       "shape: (5, 7)\n",
       "┌──────────────┬──────────────┬──────────────┬─────────┬──────────────┬──────────────┬─────────────┐\n",
       "│ Numero       ┆ Ubicacion    ┆ Service Desk ┆ Estado  ┆ Fecha        ┆ Fecha        ┆ Fecha       │\n",
       "│ Ticket       ┆ ---          ┆ ---          ┆ ---     ┆ Creacion     ┆ Termino      ┆ Cierre      │\n",
       "│ ---          ┆ str          ┆ str          ┆ str     ┆ ---          ┆ ---          ┆ ---         │\n",
       "│ str          ┆              ┆              ┆         ┆ date         ┆ date         ┆ date        │\n",
       "╞══════════════╪══════════════╪══════════════╪═════════╪══════════════╪══════════════╪═════════════╡\n",
       "│ WO0000004853 ┆ TUPAC AMARU  ┆ Zona Centro  ┆ Cerrado ┆ 2023-01-02   ┆ 2023-01-10   ┆ 2023-01-13  │\n",
       "│ 311          ┆ - 191038     ┆              ┆         ┆              ┆              ┆             │\n",
       "│ WO0000004852 ┆ SAN JUAN DE  ┆ Zona Centro  ┆ Cerrado ┆ 2023-01-02   ┆ 2023-01-02   ┆ 2023-01-05  │\n",
       "│ 942          ┆ LURIGANCHO - ┆              ┆         ┆              ┆              ┆             │\n",
       "│              ┆ 191017       ┆              ┆         ┆              ┆              ┆             │\n",
       "│ WO0000004852 ┆ MARIANO      ┆ Zona Norte   ┆ Cerrado ┆ 2023-01-02   ┆ 2023-01-06   ┆ 2023-01-09  │\n",
       "│ 621          ┆ MELGAR -     ┆              ┆         ┆              ┆              ┆             │\n",
       "│              ┆ 215014       ┆              ┆         ┆              ┆              ┆             │\n",
       "│ SA0000004853 ┆ ANDAHUAYLAS  ┆ Zona Norte   ┆ Cerrado ┆ 2023-01-02   ┆ 2023-01-07   ┆ 2023-01-10  │\n",
       "│ 328          ┆ - 205000     ┆              ┆         ┆              ┆              ┆             │\n",
       "│ SA0000004853 ┆ COLLIQUE -   ┆ Zona Centro  ┆ Cerrado ┆ 2023-01-02   ┆ 2023-01-04   ┆ 2023-01-07  │\n",
       "│ 160          ┆ 191065       ┆              ┆         ┆              ┆              ┆             │\n",
       "└──────────────┴──────────────┴──────────────┴─────────┴──────────────┴──────────────┴─────────────┘"
      ]
     },
     "execution_count": 36,
     "metadata": {},
     "output_type": "execute_result"
    }
   ],
   "source": [
    "actual.head()"
   ]
  },
  {
   "cell_type": "markdown",
   "metadata": {},
   "source": [
    "#### Filtrando aquellos tickets que comiencen con WO"
   ]
  },
  {
   "cell_type": "code",
   "execution_count": 40,
   "metadata": {},
   "outputs": [
    {
     "data": {
      "text/html": [
       "<div><style>\n",
       ".dataframe > thead > tr,\n",
       ".dataframe > tbody > tr {\n",
       "  text-align: right;\n",
       "  white-space: pre-wrap;\n",
       "}\n",
       "</style>\n",
       "<small>shape: (5, 7)</small><table border=\"1\" class=\"dataframe\"><thead><tr><th>Numero Ticket</th><th>Ubicacion</th><th>Service Desk</th><th>Estado</th><th>Fecha Creacion</th><th>Fecha Termino</th><th>Fecha Cierre</th></tr><tr><td>str</td><td>str</td><td>str</td><td>str</td><td>date</td><td>date</td><td>date</td></tr></thead><tbody><tr><td>&quot;WO0000004853311&quot;</td><td>&quot;TUPAC AMARU - 191038&quot;</td><td>&quot;Zona Centro&quot;</td><td>&quot;Cerrado&quot;</td><td>2023-01-02</td><td>2023-01-10</td><td>2023-01-13</td></tr><tr><td>&quot;WO0000004852942&quot;</td><td>&quot;SAN JUAN DE LURIGANCHO - 191017&quot;</td><td>&quot;Zona Centro&quot;</td><td>&quot;Cerrado&quot;</td><td>2023-01-02</td><td>2023-01-02</td><td>2023-01-05</td></tr><tr><td>&quot;WO0000004852621&quot;</td><td>&quot;MARIANO MELGAR - 215014&quot;</td><td>&quot;Zona Norte&quot;</td><td>&quot;Cerrado&quot;</td><td>2023-01-02</td><td>2023-01-06</td><td>2023-01-09</td></tr><tr><td>&quot;WO0000004853328&quot;</td><td>&quot;ANDAHUAYLAS - 205000&quot;</td><td>&quot;Zona Norte&quot;</td><td>&quot;Cerrado&quot;</td><td>2023-01-02</td><td>2023-01-07</td><td>2023-01-10</td></tr><tr><td>&quot;WO0000004853160&quot;</td><td>&quot;COLLIQUE - 191065&quot;</td><td>&quot;Zona Centro&quot;</td><td>&quot;Cerrado&quot;</td><td>2023-01-02</td><td>2023-01-04</td><td>2023-01-07</td></tr></tbody></table></div>"
      ],
      "text/plain": [
       "shape: (5, 7)\n",
       "┌──────────────┬──────────────┬──────────────┬─────────┬──────────────┬──────────────┬─────────────┐\n",
       "│ Numero       ┆ Ubicacion    ┆ Service Desk ┆ Estado  ┆ Fecha        ┆ Fecha        ┆ Fecha       │\n",
       "│ Ticket       ┆ ---          ┆ ---          ┆ ---     ┆ Creacion     ┆ Termino      ┆ Cierre      │\n",
       "│ ---          ┆ str          ┆ str          ┆ str     ┆ ---          ┆ ---          ┆ ---         │\n",
       "│ str          ┆              ┆              ┆         ┆ date         ┆ date         ┆ date        │\n",
       "╞══════════════╪══════════════╪══════════════╪═════════╪══════════════╪══════════════╪═════════════╡\n",
       "│ WO0000004853 ┆ TUPAC AMARU  ┆ Zona Centro  ┆ Cerrado ┆ 2023-01-02   ┆ 2023-01-10   ┆ 2023-01-13  │\n",
       "│ 311          ┆ - 191038     ┆              ┆         ┆              ┆              ┆             │\n",
       "│ WO0000004852 ┆ SAN JUAN DE  ┆ Zona Centro  ┆ Cerrado ┆ 2023-01-02   ┆ 2023-01-02   ┆ 2023-01-05  │\n",
       "│ 942          ┆ LURIGANCHO - ┆              ┆         ┆              ┆              ┆             │\n",
       "│              ┆ 191017       ┆              ┆         ┆              ┆              ┆             │\n",
       "│ WO0000004852 ┆ MARIANO      ┆ Zona Norte   ┆ Cerrado ┆ 2023-01-02   ┆ 2023-01-06   ┆ 2023-01-09  │\n",
       "│ 621          ┆ MELGAR -     ┆              ┆         ┆              ┆              ┆             │\n",
       "│              ┆ 215014       ┆              ┆         ┆              ┆              ┆             │\n",
       "│ WO0000004853 ┆ ANDAHUAYLAS  ┆ Zona Norte   ┆ Cerrado ┆ 2023-01-02   ┆ 2023-01-07   ┆ 2023-01-10  │\n",
       "│ 328          ┆ - 205000     ┆              ┆         ┆              ┆              ┆             │\n",
       "│ WO0000004853 ┆ COLLIQUE -   ┆ Zona Centro  ┆ Cerrado ┆ 2023-01-02   ┆ 2023-01-04   ┆ 2023-01-07  │\n",
       "│ 160          ┆ 191065       ┆              ┆         ┆              ┆              ┆             │\n",
       "└──────────────┴──────────────┴──────────────┴─────────┴──────────────┴──────────────┴─────────────┘"
      ]
     },
     "execution_count": 40,
     "metadata": {},
     "output_type": "execute_result"
    }
   ],
   "source": [
    "actual = actual.filter(\n",
    "    pl.col('Numero Ticket').str.starts_with('WO') \n",
    ")\n",
    "\n",
    "actual.head()"
   ]
  },
  {
   "cell_type": "code",
   "execution_count": 42,
   "metadata": {},
   "outputs": [],
   "source": [
    "actual = actual.rename({'Numero Ticket': 'TicketID'})"
   ]
  },
  {
   "cell_type": "code",
   "execution_count": 46,
   "metadata": {},
   "outputs": [
    {
     "data": {
      "text/html": [
       "<div><style>\n",
       ".dataframe > thead > tr,\n",
       ".dataframe > tbody > tr {\n",
       "  text-align: right;\n",
       "  white-space: pre-wrap;\n",
       "}\n",
       "</style>\n",
       "<small>shape: (5, 7)</small><table border=\"1\" class=\"dataframe\"><thead><tr><th>TicketID</th><th>Ubicacion</th><th>Service Desk</th><th>Estado</th><th>Fecha Creacion</th><th>Fecha Termino</th><th>Fecha Cierre</th></tr><tr><td>str</td><td>str</td><td>str</td><td>str</td><td>date</td><td>date</td><td>date</td></tr></thead><tbody><tr><td>&quot;WO0000004853311&quot;</td><td>&quot;TUPAC AMARU - 191038&quot;</td><td>&quot;Zona Centro&quot;</td><td>&quot;Cerrado&quot;</td><td>2023-01-02</td><td>2023-01-10</td><td>2023-01-13</td></tr><tr><td>&quot;WO0000004852942&quot;</td><td>&quot;SAN JUAN DE LURIGANCHO - 191017&quot;</td><td>&quot;Zona Centro&quot;</td><td>&quot;Cerrado&quot;</td><td>2023-01-02</td><td>2023-01-02</td><td>2023-01-05</td></tr><tr><td>&quot;WO0000004852621&quot;</td><td>&quot;MARIANO MELGAR - 215014&quot;</td><td>&quot;Zona Norte&quot;</td><td>&quot;Cerrado&quot;</td><td>2023-01-02</td><td>2023-01-06</td><td>2023-01-09</td></tr><tr><td>&quot;WO0000004853328&quot;</td><td>&quot;ANDAHUAYLAS - 205000&quot;</td><td>&quot;Zona Norte&quot;</td><td>&quot;Cerrado&quot;</td><td>2023-01-02</td><td>2023-01-07</td><td>2023-01-10</td></tr><tr><td>&quot;WO0000004853160&quot;</td><td>&quot;COLLIQUE - 191065&quot;</td><td>&quot;Zona Centro&quot;</td><td>&quot;Cerrado&quot;</td><td>2023-01-02</td><td>2023-01-04</td><td>2023-01-07</td></tr></tbody></table></div>"
      ],
      "text/plain": [
       "shape: (5, 7)\n",
       "┌──────────────┬──────────────┬──────────────┬─────────┬──────────────┬──────────────┬─────────────┐\n",
       "│ TicketID     ┆ Ubicacion    ┆ Service Desk ┆ Estado  ┆ Fecha        ┆ Fecha        ┆ Fecha       │\n",
       "│ ---          ┆ ---          ┆ ---          ┆ ---     ┆ Creacion     ┆ Termino      ┆ Cierre      │\n",
       "│ str          ┆ str          ┆ str          ┆ str     ┆ ---          ┆ ---          ┆ ---         │\n",
       "│              ┆              ┆              ┆         ┆ date         ┆ date         ┆ date        │\n",
       "╞══════════════╪══════════════╪══════════════╪═════════╪══════════════╪══════════════╪═════════════╡\n",
       "│ WO0000004853 ┆ TUPAC AMARU  ┆ Zona Centro  ┆ Cerrado ┆ 2023-01-02   ┆ 2023-01-10   ┆ 2023-01-13  │\n",
       "│ 311          ┆ - 191038     ┆              ┆         ┆              ┆              ┆             │\n",
       "│ WO0000004852 ┆ SAN JUAN DE  ┆ Zona Centro  ┆ Cerrado ┆ 2023-01-02   ┆ 2023-01-02   ┆ 2023-01-05  │\n",
       "│ 942          ┆ LURIGANCHO - ┆              ┆         ┆              ┆              ┆             │\n",
       "│              ┆ 191017       ┆              ┆         ┆              ┆              ┆             │\n",
       "│ WO0000004852 ┆ MARIANO      ┆ Zona Norte   ┆ Cerrado ┆ 2023-01-02   ┆ 2023-01-06   ┆ 2023-01-09  │\n",
       "│ 621          ┆ MELGAR -     ┆              ┆         ┆              ┆              ┆             │\n",
       "│              ┆ 215014       ┆              ┆         ┆              ┆              ┆             │\n",
       "│ WO0000004853 ┆ ANDAHUAYLAS  ┆ Zona Norte   ┆ Cerrado ┆ 2023-01-02   ┆ 2023-01-07   ┆ 2023-01-10  │\n",
       "│ 328          ┆ - 205000     ┆              ┆         ┆              ┆              ┆             │\n",
       "│ WO0000004853 ┆ COLLIQUE -   ┆ Zona Centro  ┆ Cerrado ┆ 2023-01-02   ┆ 2023-01-04   ┆ 2023-01-07  │\n",
       "│ 160          ┆ 191065       ┆              ┆         ┆              ┆              ┆             │\n",
       "└──────────────┴──────────────┴──────────────┴─────────┴──────────────┴──────────────┴─────────────┘"
      ]
     },
     "execution_count": 46,
     "metadata": {},
     "output_type": "execute_result"
    }
   ],
   "source": [
    "actual.head()"
   ]
  },
  {
   "cell_type": "code",
   "execution_count": 41,
   "metadata": {},
   "outputs": [
    {
     "data": {
      "text/html": [
       "<div><style>\n",
       ".dataframe > thead > tr,\n",
       ".dataframe > tbody > tr {\n",
       "  text-align: right;\n",
       "  white-space: pre-wrap;\n",
       "}\n",
       "</style>\n",
       "<small>shape: (5, 7)</small><table border=\"1\" class=\"dataframe\"><thead><tr><th>TicketID</th><th>Ubicacion</th><th>Service Desk</th><th>Estado</th><th>Fecha Creacion</th><th>Fecha Termino</th><th>Fecha Cierre</th></tr><tr><td>str</td><td>str</td><td>str</td><td>str</td><td>date</td><td>date</td><td>date</td></tr></thead><tbody><tr><td>&quot;WO0000004122687&quot;</td><td>&quot;AREQUIPA - 215000&quot;</td><td>&quot;Zona Norte&quot;</td><td>&quot;Cerrado&quot;</td><td>2022-06-01</td><td>2022-06-14</td><td>2022-06-14</td></tr><tr><td>&quot;WO0000004122649&quot;</td><td>&quot;METRO AV. WIESSE - 191106&quot;</td><td>&quot;Zona Centro&quot;</td><td>&quot;Cerrado&quot;</td><td>2022-06-01</td><td>2022-06-17</td><td>2022-06-17</td></tr><tr><td>&quot;WO0000004122502&quot;</td><td>&quot;NICOLAS AYLLON - 191027&quot;</td><td>&quot;Zona Centro&quot;</td><td>&quot;Cerrado&quot;</td><td>2022-06-01</td><td>2022-06-08</td><td>2022-06-08</td></tr><tr><td>&quot;WO0000004122513&quot;</td><td>&quot;JAUREGUI - 405005&quot;</td><td>&quot;Zona Norte&quot;</td><td>&quot;Cerrado&quot;</td><td>2022-06-01</td><td>2022-06-18</td><td>2022-06-18</td></tr><tr><td>&quot;WO0000004122741&quot;</td><td>&quot;CANTO GRANDE - 191096&quot;</td><td>&quot;Zona Centro&quot;</td><td>&quot;Cerrado&quot;</td><td>2022-06-01</td><td>2022-06-08</td><td>2022-06-08</td></tr></tbody></table></div>"
      ],
      "text/plain": [
       "shape: (5, 7)\n",
       "┌──────────────┬──────────────┬──────────────┬─────────┬──────────────┬──────────────┬─────────────┐\n",
       "│ TicketID     ┆ Ubicacion    ┆ Service Desk ┆ Estado  ┆ Fecha        ┆ Fecha        ┆ Fecha       │\n",
       "│ ---          ┆ ---          ┆ ---          ┆ ---     ┆ Creacion     ┆ Termino      ┆ Cierre      │\n",
       "│ str          ┆ str          ┆ str          ┆ str     ┆ ---          ┆ ---          ┆ ---         │\n",
       "│              ┆              ┆              ┆         ┆ date         ┆ date         ┆ date        │\n",
       "╞══════════════╪══════════════╪══════════════╪═════════╪══════════════╪══════════════╪═════════════╡\n",
       "│ WO0000004122 ┆ AREQUIPA -   ┆ Zona Norte   ┆ Cerrado ┆ 2022-06-01   ┆ 2022-06-14   ┆ 2022-06-14  │\n",
       "│ 687          ┆ 215000       ┆              ┆         ┆              ┆              ┆             │\n",
       "│ WO0000004122 ┆ METRO AV.    ┆ Zona Centro  ┆ Cerrado ┆ 2022-06-01   ┆ 2022-06-17   ┆ 2022-06-17  │\n",
       "│ 649          ┆ WIESSE -     ┆              ┆         ┆              ┆              ┆             │\n",
       "│              ┆ 191106       ┆              ┆         ┆              ┆              ┆             │\n",
       "│ WO0000004122 ┆ NICOLAS      ┆ Zona Centro  ┆ Cerrado ┆ 2022-06-01   ┆ 2022-06-08   ┆ 2022-06-08  │\n",
       "│ 502          ┆ AYLLON -     ┆              ┆         ┆              ┆              ┆             │\n",
       "│              ┆ 191027       ┆              ┆         ┆              ┆              ┆             │\n",
       "│ WO0000004122 ┆ JAUREGUI -   ┆ Zona Norte   ┆ Cerrado ┆ 2022-06-01   ┆ 2022-06-18   ┆ 2022-06-18  │\n",
       "│ 513          ┆ 405005       ┆              ┆         ┆              ┆              ┆             │\n",
       "│ WO0000004122 ┆ CANTO GRANDE ┆ Zona Centro  ┆ Cerrado ┆ 2022-06-01   ┆ 2022-06-08   ┆ 2022-06-08  │\n",
       "│ 741          ┆ - 191096     ┆              ┆         ┆              ┆              ┆             │\n",
       "└──────────────┴──────────────┴──────────────┴─────────┴──────────────┴──────────────┴─────────────┘"
      ]
     },
     "execution_count": 41,
     "metadata": {},
     "output_type": "execute_result"
    }
   ],
   "source": [
    "historico.head()"
   ]
  },
  {
   "cell_type": "code",
   "execution_count": 47,
   "metadata": {},
   "outputs": [
    {
     "data": {
      "text/html": [
       "<div><style>\n",
       ".dataframe > thead > tr,\n",
       ".dataframe > tbody > tr {\n",
       "  text-align: right;\n",
       "  white-space: pre-wrap;\n",
       "}\n",
       "</style>\n",
       "<small>shape: (5, 7)</small><table border=\"1\" class=\"dataframe\"><thead><tr><th>TicketID</th><th>Ubicacion</th><th>Service Desk</th><th>Estado</th><th>Fecha Creacion</th><th>Fecha Termino</th><th>Fecha Cierre</th></tr><tr><td>str</td><td>str</td><td>str</td><td>str</td><td>date</td><td>date</td><td>date</td></tr></thead><tbody><tr><td>&quot;WO0000004122687&quot;</td><td>&quot;AREQUIPA - 215000&quot;</td><td>&quot;Zona Norte&quot;</td><td>&quot;Cerrado&quot;</td><td>2022-06-01</td><td>2022-06-14</td><td>2022-06-14</td></tr><tr><td>&quot;WO0000004122649&quot;</td><td>&quot;METRO AV. WIESSE - 191106&quot;</td><td>&quot;Zona Centro&quot;</td><td>&quot;Cerrado&quot;</td><td>2022-06-01</td><td>2022-06-17</td><td>2022-06-17</td></tr><tr><td>&quot;WO0000004122502&quot;</td><td>&quot;NICOLAS AYLLON - 191027&quot;</td><td>&quot;Zona Centro&quot;</td><td>&quot;Cerrado&quot;</td><td>2022-06-01</td><td>2022-06-08</td><td>2022-06-08</td></tr><tr><td>&quot;WO0000004122513&quot;</td><td>&quot;JAUREGUI - 405005&quot;</td><td>&quot;Zona Norte&quot;</td><td>&quot;Cerrado&quot;</td><td>2022-06-01</td><td>2022-06-18</td><td>2022-06-18</td></tr><tr><td>&quot;WO0000004122741&quot;</td><td>&quot;CANTO GRANDE - 191096&quot;</td><td>&quot;Zona Centro&quot;</td><td>&quot;Cerrado&quot;</td><td>2022-06-01</td><td>2022-06-08</td><td>2022-06-08</td></tr></tbody></table></div>"
      ],
      "text/plain": [
       "shape: (5, 7)\n",
       "┌──────────────┬──────────────┬──────────────┬─────────┬──────────────┬──────────────┬─────────────┐\n",
       "│ TicketID     ┆ Ubicacion    ┆ Service Desk ┆ Estado  ┆ Fecha        ┆ Fecha        ┆ Fecha       │\n",
       "│ ---          ┆ ---          ┆ ---          ┆ ---     ┆ Creacion     ┆ Termino      ┆ Cierre      │\n",
       "│ str          ┆ str          ┆ str          ┆ str     ┆ ---          ┆ ---          ┆ ---         │\n",
       "│              ┆              ┆              ┆         ┆ date         ┆ date         ┆ date        │\n",
       "╞══════════════╪══════════════╪══════════════╪═════════╪══════════════╪══════════════╪═════════════╡\n",
       "│ WO0000004122 ┆ AREQUIPA -   ┆ Zona Norte   ┆ Cerrado ┆ 2022-06-01   ┆ 2022-06-14   ┆ 2022-06-14  │\n",
       "│ 687          ┆ 215000       ┆              ┆         ┆              ┆              ┆             │\n",
       "│ WO0000004122 ┆ METRO AV.    ┆ Zona Centro  ┆ Cerrado ┆ 2022-06-01   ┆ 2022-06-17   ┆ 2022-06-17  │\n",
       "│ 649          ┆ WIESSE -     ┆              ┆         ┆              ┆              ┆             │\n",
       "│              ┆ 191106       ┆              ┆         ┆              ┆              ┆             │\n",
       "│ WO0000004122 ┆ NICOLAS      ┆ Zona Centro  ┆ Cerrado ┆ 2022-06-01   ┆ 2022-06-08   ┆ 2022-06-08  │\n",
       "│ 502          ┆ AYLLON -     ┆              ┆         ┆              ┆              ┆             │\n",
       "│              ┆ 191027       ┆              ┆         ┆              ┆              ┆             │\n",
       "│ WO0000004122 ┆ JAUREGUI -   ┆ Zona Norte   ┆ Cerrado ┆ 2022-06-01   ┆ 2022-06-18   ┆ 2022-06-18  │\n",
       "│ 513          ┆ 405005       ┆              ┆         ┆              ┆              ┆             │\n",
       "│ WO0000004122 ┆ CANTO GRANDE ┆ Zona Centro  ┆ Cerrado ┆ 2022-06-01   ┆ 2022-06-08   ┆ 2022-06-08  │\n",
       "│ 741          ┆ - 191096     ┆              ┆         ┆              ┆              ┆             │\n",
       "└──────────────┴──────────────┴──────────────┴─────────┴──────────────┴──────────────┴─────────────┘"
      ]
     },
     "execution_count": 47,
     "metadata": {},
     "output_type": "execute_result"
    }
   ],
   "source": [
    "# Consolidando dos dataFrames (Historico y Actual)\n",
    "\n",
    "tickets = pl.concat([historico, actual])\n",
    "tickets.head()"
   ]
  },
  {
   "cell_type": "code",
   "execution_count": 58,
   "metadata": {},
   "outputs": [
    {
     "data": {
      "text/plain": [
       "\"\\nOtra Forma\\n\\ntickets.with_columns(\\n    pl.col('Ubicacion')\\n    .str.split_exact(' - ', 1).alias('Agencia')\\n).unnest('Agencia').rename({'field_0': 'Agencia', 'field_1': 'AgenciaID'})\\n\""
      ]
     },
     "execution_count": 58,
     "metadata": {},
     "output_type": "execute_result"
    }
   ],
   "source": [
    "\"\"\"\n",
    "Otra Forma\n",
    "\n",
    "tickets.with_columns(\n",
    "    pl.col('Ubicacion')\n",
    "    .str.split_exact(' - ', 1).alias('Agencia')\n",
    ").unnest('Agencia').rename({'field_0': 'Agencia', 'field_1': 'AgenciaID'})\n",
    "\"\"\""
   ]
  },
  {
   "cell_type": "code",
   "execution_count": 64,
   "metadata": {},
   "outputs": [],
   "source": [
    "tickets = tickets.with_columns(\n",
    "    pl.col('Ubicacion')\n",
    "    .str.split_exact(' - ', 1)\n",
    "    .struct.rename_fields(['Agencia', 'AgenciaID'])\n",
    "    .alias('Agencia')\n",
    ").unnest('Agencia')"
   ]
  },
  {
   "cell_type": "code",
   "execution_count": 65,
   "metadata": {},
   "outputs": [
    {
     "data": {
      "text/html": [
       "<div><style>\n",
       ".dataframe > thead > tr,\n",
       ".dataframe > tbody > tr {\n",
       "  text-align: right;\n",
       "  white-space: pre-wrap;\n",
       "}\n",
       "</style>\n",
       "<small>shape: (5, 9)</small><table border=\"1\" class=\"dataframe\"><thead><tr><th>TicketID</th><th>Ubicacion</th><th>Service Desk</th><th>Estado</th><th>Fecha Creacion</th><th>Fecha Termino</th><th>Fecha Cierre</th><th>Agencia</th><th>AgenciaID</th></tr><tr><td>str</td><td>str</td><td>str</td><td>str</td><td>date</td><td>date</td><td>date</td><td>str</td><td>str</td></tr></thead><tbody><tr><td>&quot;WO0000004122687&quot;</td><td>&quot;AREQUIPA - 215000&quot;</td><td>&quot;Zona Norte&quot;</td><td>&quot;Cerrado&quot;</td><td>2022-06-01</td><td>2022-06-14</td><td>2022-06-14</td><td>&quot;AREQUIPA&quot;</td><td>&quot;215000&quot;</td></tr><tr><td>&quot;WO0000004122649&quot;</td><td>&quot;METRO AV. WIESSE - 191106&quot;</td><td>&quot;Zona Centro&quot;</td><td>&quot;Cerrado&quot;</td><td>2022-06-01</td><td>2022-06-17</td><td>2022-06-17</td><td>&quot;METRO AV. WIESSE&quot;</td><td>&quot;191106&quot;</td></tr><tr><td>&quot;WO0000004122502&quot;</td><td>&quot;NICOLAS AYLLON - 191027&quot;</td><td>&quot;Zona Centro&quot;</td><td>&quot;Cerrado&quot;</td><td>2022-06-01</td><td>2022-06-08</td><td>2022-06-08</td><td>&quot;NICOLAS AYLLON&quot;</td><td>&quot;191027&quot;</td></tr><tr><td>&quot;WO0000004122513&quot;</td><td>&quot;JAUREGUI - 405005&quot;</td><td>&quot;Zona Norte&quot;</td><td>&quot;Cerrado&quot;</td><td>2022-06-01</td><td>2022-06-18</td><td>2022-06-18</td><td>&quot;JAUREGUI&quot;</td><td>&quot;405005&quot;</td></tr><tr><td>&quot;WO0000004122741&quot;</td><td>&quot;CANTO GRANDE - 191096&quot;</td><td>&quot;Zona Centro&quot;</td><td>&quot;Cerrado&quot;</td><td>2022-06-01</td><td>2022-06-08</td><td>2022-06-08</td><td>&quot;CANTO GRANDE&quot;</td><td>&quot;191096&quot;</td></tr></tbody></table></div>"
      ],
      "text/plain": [
       "shape: (5, 9)\n",
       "┌────────────┬───────────┬───────────┬─────────┬───┬───────────┬───────────┬───────────┬───────────┐\n",
       "│ TicketID   ┆ Ubicacion ┆ Service   ┆ Estado  ┆ … ┆ Fecha     ┆ Fecha     ┆ Agencia   ┆ AgenciaID │\n",
       "│ ---        ┆ ---       ┆ Desk      ┆ ---     ┆   ┆ Termino   ┆ Cierre    ┆ ---       ┆ ---       │\n",
       "│ str        ┆ str       ┆ ---       ┆ str     ┆   ┆ ---       ┆ ---       ┆ str       ┆ str       │\n",
       "│            ┆           ┆ str       ┆         ┆   ┆ date      ┆ date      ┆           ┆           │\n",
       "╞════════════╪═══════════╪═══════════╪═════════╪═══╪═══════════╪═══════════╪═══════════╪═══════════╡\n",
       "│ WO00000041 ┆ AREQUIPA  ┆ Zona      ┆ Cerrado ┆ … ┆ 2022-06-1 ┆ 2022-06-1 ┆ AREQUIPA  ┆ 215000    │\n",
       "│ 22687      ┆ - 215000  ┆ Norte     ┆         ┆   ┆ 4         ┆ 4         ┆           ┆           │\n",
       "│ WO00000041 ┆ METRO AV. ┆ Zona      ┆ Cerrado ┆ … ┆ 2022-06-1 ┆ 2022-06-1 ┆ METRO AV. ┆ 191106    │\n",
       "│ 22649      ┆ WIESSE -  ┆ Centro    ┆         ┆   ┆ 7         ┆ 7         ┆ WIESSE    ┆           │\n",
       "│            ┆ 191106    ┆           ┆         ┆   ┆           ┆           ┆           ┆           │\n",
       "│ WO00000041 ┆ NICOLAS   ┆ Zona      ┆ Cerrado ┆ … ┆ 2022-06-0 ┆ 2022-06-0 ┆ NICOLAS   ┆ 191027    │\n",
       "│ 22502      ┆ AYLLON -  ┆ Centro    ┆         ┆   ┆ 8         ┆ 8         ┆ AYLLON    ┆           │\n",
       "│            ┆ 191027    ┆           ┆         ┆   ┆           ┆           ┆           ┆           │\n",
       "│ WO00000041 ┆ JAUREGUI  ┆ Zona      ┆ Cerrado ┆ … ┆ 2022-06-1 ┆ 2022-06-1 ┆ JAUREGUI  ┆ 405005    │\n",
       "│ 22513      ┆ - 405005  ┆ Norte     ┆         ┆   ┆ 8         ┆ 8         ┆           ┆           │\n",
       "│ WO00000041 ┆ CANTO     ┆ Zona      ┆ Cerrado ┆ … ┆ 2022-06-0 ┆ 2022-06-0 ┆ CANTO     ┆ 191096    │\n",
       "│ 22741      ┆ GRANDE -  ┆ Centro    ┆         ┆   ┆ 8         ┆ 8         ┆ GRANDE    ┆           │\n",
       "│            ┆ 191096    ┆           ┆         ┆   ┆           ┆           ┆           ┆           │\n",
       "└────────────┴───────────┴───────────┴─────────┴───┴───────────┴───────────┴───────────┴───────────┘"
      ]
     },
     "execution_count": 65,
     "metadata": {},
     "output_type": "execute_result"
    }
   ],
   "source": [
    "tickets.head()"
   ]
  },
  {
   "cell_type": "code",
   "execution_count": 66,
   "metadata": {},
   "outputs": [],
   "source": [
    "tickets = tickets.cast({'AgenciaID': pl.Int64})"
   ]
  },
  {
   "cell_type": "markdown",
   "metadata": {},
   "source": [
    "### Viendo valores duplicados"
   ]
  },
  {
   "cell_type": "code",
   "execution_count": 67,
   "metadata": {},
   "outputs": [
    {
     "data": {
      "text/plain": [
       "(22228, 9)"
      ]
     },
     "execution_count": 67,
     "metadata": {},
     "output_type": "execute_result"
    }
   ],
   "source": [
    "tickets.shape"
   ]
  },
  {
   "cell_type": "code",
   "execution_count": 70,
   "metadata": {},
   "outputs": [
    {
     "data": {
      "text/plain": [
       "(22215, 9)"
      ]
     },
     "execution_count": 70,
     "metadata": {},
     "output_type": "execute_result"
    }
   ],
   "source": [
    "tickets.unique(subset='TicketID').shape"
   ]
  },
  {
   "cell_type": "code",
   "execution_count": 72,
   "metadata": {},
   "outputs": [
    {
     "data": {
      "text/html": [
       "<div><style>\n",
       ".dataframe > thead > tr,\n",
       ".dataframe > tbody > tr {\n",
       "  text-align: right;\n",
       "  white-space: pre-wrap;\n",
       "}\n",
       "</style>\n",
       "<small>shape: (26, 9)</small><table border=\"1\" class=\"dataframe\"><thead><tr><th>TicketID</th><th>Ubicacion</th><th>Service Desk</th><th>Estado</th><th>Fecha Creacion</th><th>Fecha Termino</th><th>Fecha Cierre</th><th>Agencia</th><th>AgenciaID</th></tr><tr><td>str</td><td>str</td><td>str</td><td>str</td><td>date</td><td>date</td><td>date</td><td>str</td><td>i64</td></tr></thead><tbody><tr><td>&quot;WO0000004848619&quot;</td><td>&quot;ILO - 385000&quot;</td><td>&quot;Zona Norte&quot;</td><td>&quot;Cerrado&quot;</td><td>2022-12-31</td><td>2023-01-09</td><td>2023-01-12</td><td>&quot;ILO&quot;</td><td>385000</td></tr><tr><td>&quot;WO0000004848619&quot;</td><td>&quot;ILO - 385000&quot;</td><td>&quot;Zona Norte&quot;</td><td>&quot;Cerrado&quot;</td><td>2022-12-31</td><td>2023-01-09</td><td>2023-01-12</td><td>&quot;ILO&quot;</td><td>385000</td></tr><tr><td>&quot;WO0000004848638&quot;</td><td>&quot;VILLA SOL - 191059&quot;</td><td>&quot;Zona Centro&quot;</td><td>&quot;Cerrado&quot;</td><td>2022-12-31</td><td>2022-12-31</td><td>2023-01-03</td><td>&quot;VILLA SOL&quot;</td><td>191059</td></tr><tr><td>&quot;WO0000004848638&quot;</td><td>&quot;VILLA SOL - 191059&quot;</td><td>&quot;Zona Centro&quot;</td><td>&quot;Cerrado&quot;</td><td>2022-12-31</td><td>2022-12-31</td><td>2023-01-03</td><td>&quot;VILLA SOL&quot;</td><td>191059</td></tr><tr><td>&quot;WO0000004848654&quot;</td><td>&quot;MERCADO DE FRUTAS - 191064&quot;</td><td>&quot;Zona Centro&quot;</td><td>&quot;Cerrado&quot;</td><td>2022-12-31</td><td>2023-01-13</td><td>2023-01-16</td><td>&quot;MERCADO DE FRUTAS&quot;</td><td>191064</td></tr><tr><td>&quot;WO0000004848654&quot;</td><td>&quot;MERCADO DE FRUTAS - 191064&quot;</td><td>&quot;Zona Centro&quot;</td><td>&quot;Cerrado&quot;</td><td>2022-12-31</td><td>2023-01-13</td><td>2023-01-16</td><td>&quot;MERCADO DE FRUTAS&quot;</td><td>191064</td></tr><tr><td>&quot;WO0000004848666&quot;</td><td>&quot;QUILCA - 191160&quot;</td><td>&quot;Zona Centro&quot;</td><td>&quot;Cerrado&quot;</td><td>2022-12-31</td><td>2023-01-04</td><td>2023-01-07</td><td>&quot;QUILCA&quot;</td><td>191160</td></tr><tr><td>&quot;WO0000004848666&quot;</td><td>&quot;QUILCA - 191160&quot;</td><td>&quot;Zona Centro&quot;</td><td>&quot;Cerrado&quot;</td><td>2022-12-31</td><td>2023-01-04</td><td>2023-01-07</td><td>&quot;QUILCA&quot;</td><td>191160</td></tr><tr><td>&quot;WO0000004849307&quot;</td><td>&quot;TUSILAGOS - 191108&quot;</td><td>&quot;Zona Centro&quot;</td><td>&quot;Rechazado&quot;</td><td>2022-12-31</td><td>null</td><td>null</td><td>&quot;TUSILAGOS&quot;</td><td>191108</td></tr><tr><td>&quot;WO0000004849307&quot;</td><td>&quot;TUSILAGOS - 191108&quot;</td><td>&quot;Zona Centro&quot;</td><td>&quot;Rechazado&quot;</td><td>2022-12-31</td><td>null</td><td>null</td><td>&quot;TUSILAGOS&quot;</td><td>191108</td></tr><tr><td>&quot;WO0000004849330&quot;</td><td>&quot;IMPERIAL - 255001&quot;</td><td>&quot;Zona Centro&quot;</td><td>&quot;Cerrado&quot;</td><td>2022-12-31</td><td>2023-01-14</td><td>2023-01-17</td><td>&quot;IMPERIAL&quot;</td><td>255001</td></tr><tr><td>&quot;WO0000004849330&quot;</td><td>&quot;IMPERIAL - 255001&quot;</td><td>&quot;Zona Centro&quot;</td><td>&quot;Cerrado&quot;</td><td>2022-12-31</td><td>2023-01-14</td><td>2023-01-17</td><td>&quot;IMPERIAL&quot;</td><td>255001</td></tr><tr><td>&hellip;</td><td>&hellip;</td><td>&hellip;</td><td>&hellip;</td><td>&hellip;</td><td>&hellip;</td><td>&hellip;</td><td>&hellip;</td><td>&hellip;</td></tr><tr><td>&quot;WO0000004849379&quot;</td><td>&quot;NAYLAMP - 191143&quot;</td><td>&quot;Zona Centro&quot;</td><td>&quot;Cerrado&quot;</td><td>2022-12-31</td><td>2023-01-25</td><td>2023-01-28</td><td>&quot;NAYLAMP&quot;</td><td>191143</td></tr><tr><td>&quot;WO0000004849379&quot;</td><td>&quot;NAYLAMP - 191143&quot;</td><td>&quot;Zona Centro&quot;</td><td>&quot;Cerrado&quot;</td><td>2022-12-31</td><td>2023-01-25</td><td>2023-01-28</td><td>&quot;NAYLAMP&quot;</td><td>191143</td></tr><tr><td>&quot;WO0000004849382&quot;</td><td>&quot;LOS DAMASCOS - 193038&quot;</td><td>&quot;Zona Sur&quot;</td><td>&quot;Cerrado&quot;</td><td>2022-12-31</td><td>2023-01-04</td><td>2023-01-07</td><td>&quot;LOS DAMASCOS&quot;</td><td>193038</td></tr><tr><td>&quot;WO0000004849382&quot;</td><td>&quot;LOS DAMASCOS - 193038&quot;</td><td>&quot;Zona Sur&quot;</td><td>&quot;Cerrado&quot;</td><td>2022-12-31</td><td>2023-01-04</td><td>2023-01-07</td><td>&quot;LOS DAMASCOS&quot;</td><td>193038</td></tr><tr><td>&quot;WO0000004849718&quot;</td><td>&quot;AREQUIPA - 215000&quot;</td><td>&quot;Zona Norte&quot;</td><td>&quot;Rechazado&quot;</td><td>2022-12-31</td><td>null</td><td>null</td><td>&quot;AREQUIPA&quot;</td><td>215000</td></tr><tr><td>&quot;WO0000004849718&quot;</td><td>&quot;AREQUIPA - 215000&quot;</td><td>&quot;Zona Norte&quot;</td><td>&quot;Rechazado&quot;</td><td>2022-12-31</td><td>null</td><td>null</td><td>&quot;AREQUIPA&quot;</td><td>215000</td></tr><tr><td>&quot;WO0000004849721&quot;</td><td>&quot;LUREN - 380004&quot;</td><td>&quot;Zona Sur&quot;</td><td>&quot;Cerrado&quot;</td><td>2022-12-31</td><td>2023-01-02</td><td>2023-01-05</td><td>&quot;LUREN&quot;</td><td>380004</td></tr><tr><td>&quot;WO0000004849721&quot;</td><td>&quot;LUREN - 380004&quot;</td><td>&quot;Zona Sur&quot;</td><td>&quot;Cerrado&quot;</td><td>2022-12-31</td><td>2023-01-02</td><td>2023-01-05</td><td>&quot;LUREN&quot;</td><td>380004</td></tr><tr><td>&quot;WO0000004849726&quot;</td><td>&quot;LUREN - 380004&quot;</td><td>&quot;Zona Sur&quot;</td><td>&quot;Cerrado&quot;</td><td>2022-12-31</td><td>2023-01-02</td><td>2023-01-05</td><td>&quot;LUREN&quot;</td><td>380004</td></tr><tr><td>&quot;WO0000004849726&quot;</td><td>&quot;LUREN - 380004&quot;</td><td>&quot;Zona Sur&quot;</td><td>&quot;Cerrado&quot;</td><td>2022-12-31</td><td>2023-01-02</td><td>2023-01-05</td><td>&quot;LUREN&quot;</td><td>380004</td></tr><tr><td>&quot;WO0000004849732&quot;</td><td>&quot;EL PINO - 191087&quot;</td><td>&quot;Zona Centro&quot;</td><td>&quot;Cerrado&quot;</td><td>2022-12-31</td><td>2023-01-06</td><td>2023-01-09</td><td>&quot;EL PINO&quot;</td><td>191087</td></tr><tr><td>&quot;WO0000004849732&quot;</td><td>&quot;EL PINO - 191087&quot;</td><td>&quot;Zona Centro&quot;</td><td>&quot;Cerrado&quot;</td><td>2022-12-31</td><td>2023-01-06</td><td>2023-01-09</td><td>&quot;EL PINO&quot;</td><td>191087</td></tr></tbody></table></div>"
      ],
      "text/plain": [
       "shape: (26, 9)\n",
       "┌────────────┬───────────┬───────────┬─────────┬───┬───────────┬───────────┬───────────┬───────────┐\n",
       "│ TicketID   ┆ Ubicacion ┆ Service   ┆ Estado  ┆ … ┆ Fecha     ┆ Fecha     ┆ Agencia   ┆ AgenciaID │\n",
       "│ ---        ┆ ---       ┆ Desk      ┆ ---     ┆   ┆ Termino   ┆ Cierre    ┆ ---       ┆ ---       │\n",
       "│ str        ┆ str       ┆ ---       ┆ str     ┆   ┆ ---       ┆ ---       ┆ str       ┆ i64       │\n",
       "│            ┆           ┆ str       ┆         ┆   ┆ date      ┆ date      ┆           ┆           │\n",
       "╞════════════╪═══════════╪═══════════╪═════════╪═══╪═══════════╪═══════════╪═══════════╪═══════════╡\n",
       "│ WO00000048 ┆ ILO -     ┆ Zona      ┆ Cerrado ┆ … ┆ 2023-01-0 ┆ 2023-01-1 ┆ ILO       ┆ 385000    │\n",
       "│ 48619      ┆ 385000    ┆ Norte     ┆         ┆   ┆ 9         ┆ 2         ┆           ┆           │\n",
       "│ WO00000048 ┆ ILO -     ┆ Zona      ┆ Cerrado ┆ … ┆ 2023-01-0 ┆ 2023-01-1 ┆ ILO       ┆ 385000    │\n",
       "│ 48619      ┆ 385000    ┆ Norte     ┆         ┆   ┆ 9         ┆ 2         ┆           ┆           │\n",
       "│ WO00000048 ┆ VILLA SOL ┆ Zona      ┆ Cerrado ┆ … ┆ 2022-12-3 ┆ 2023-01-0 ┆ VILLA SOL ┆ 191059    │\n",
       "│ 48638      ┆ - 191059  ┆ Centro    ┆         ┆   ┆ 1         ┆ 3         ┆           ┆           │\n",
       "│ WO00000048 ┆ VILLA SOL ┆ Zona      ┆ Cerrado ┆ … ┆ 2022-12-3 ┆ 2023-01-0 ┆ VILLA SOL ┆ 191059    │\n",
       "│ 48638      ┆ - 191059  ┆ Centro    ┆         ┆   ┆ 1         ┆ 3         ┆           ┆           │\n",
       "│ WO00000048 ┆ MERCADO   ┆ Zona      ┆ Cerrado ┆ … ┆ 2023-01-1 ┆ 2023-01-1 ┆ MERCADO   ┆ 191064    │\n",
       "│ 48654      ┆ DE FRUTAS ┆ Centro    ┆         ┆   ┆ 3         ┆ 6         ┆ DE FRUTAS ┆           │\n",
       "│            ┆ - 191064  ┆           ┆         ┆   ┆           ┆           ┆           ┆           │\n",
       "│ …          ┆ …         ┆ …         ┆ …       ┆ … ┆ …         ┆ …         ┆ …         ┆ …         │\n",
       "│ WO00000048 ┆ LUREN -   ┆ Zona Sur  ┆ Cerrado ┆ … ┆ 2023-01-0 ┆ 2023-01-0 ┆ LUREN     ┆ 380004    │\n",
       "│ 49721      ┆ 380004    ┆           ┆         ┆   ┆ 2         ┆ 5         ┆           ┆           │\n",
       "│ WO00000048 ┆ LUREN -   ┆ Zona Sur  ┆ Cerrado ┆ … ┆ 2023-01-0 ┆ 2023-01-0 ┆ LUREN     ┆ 380004    │\n",
       "│ 49726      ┆ 380004    ┆           ┆         ┆   ┆ 2         ┆ 5         ┆           ┆           │\n",
       "│ WO00000048 ┆ LUREN -   ┆ Zona Sur  ┆ Cerrado ┆ … ┆ 2023-01-0 ┆ 2023-01-0 ┆ LUREN     ┆ 380004    │\n",
       "│ 49726      ┆ 380004    ┆           ┆         ┆   ┆ 2         ┆ 5         ┆           ┆           │\n",
       "│ WO00000048 ┆ EL PINO - ┆ Zona      ┆ Cerrado ┆ … ┆ 2023-01-0 ┆ 2023-01-0 ┆ EL PINO   ┆ 191087    │\n",
       "│ 49732      ┆ 191087    ┆ Centro    ┆         ┆   ┆ 6         ┆ 9         ┆           ┆           │\n",
       "│ WO00000048 ┆ EL PINO - ┆ Zona      ┆ Cerrado ┆ … ┆ 2023-01-0 ┆ 2023-01-0 ┆ EL PINO   ┆ 191087    │\n",
       "│ 49732      ┆ 191087    ┆ Centro    ┆         ┆   ┆ 6         ┆ 9         ┆           ┆           │\n",
       "└────────────┴───────────┴───────────┴─────────┴───┴───────────┴───────────┴───────────┴───────────┘"
      ]
     },
     "execution_count": 72,
     "metadata": {},
     "output_type": "execute_result"
    }
   ],
   "source": [
    "tickets.filter(\n",
    "    pl.col('TicketID').is_duplicated()\n",
    ").sort(by = 'TicketID')"
   ]
  },
  {
   "cell_type": "code",
   "execution_count": 74,
   "metadata": {},
   "outputs": [
    {
     "data": {
      "text/plain": [
       "(22215, 9)"
      ]
     },
     "execution_count": 74,
     "metadata": {},
     "output_type": "execute_result"
    }
   ],
   "source": [
    "tickets.unique(\n",
    "    subset='TicketID',\n",
    "    keep='last',\n",
    "    maintain_order=True\n",
    ").shape "
   ]
  },
  {
   "cell_type": "code",
   "execution_count": 76,
   "metadata": {},
   "outputs": [],
   "source": [
    "tickets = tickets.sort(\n",
    "    by=['TicketID', 'Fecha Creacion']\n",
    ").unique(\n",
    "    subset='TicketID',\n",
    "    keep='last',\n",
    "    maintain_order=True\n",
    ")"
   ]
  },
  {
   "cell_type": "code",
   "execution_count": 77,
   "metadata": {},
   "outputs": [
    {
     "data": {
      "text/html": [
       "<div><style>\n",
       ".dataframe > thead > tr,\n",
       ".dataframe > tbody > tr {\n",
       "  text-align: right;\n",
       "  white-space: pre-wrap;\n",
       "}\n",
       "</style>\n",
       "<small>shape: (5, 9)</small><table border=\"1\" class=\"dataframe\"><thead><tr><th>TicketID</th><th>Ubicacion</th><th>Service Desk</th><th>Estado</th><th>Fecha Creacion</th><th>Fecha Termino</th><th>Fecha Cierre</th><th>Agencia</th><th>AgenciaID</th></tr><tr><td>str</td><td>str</td><td>str</td><td>str</td><td>date</td><td>date</td><td>date</td><td>str</td><td>i64</td></tr></thead><tbody><tr><td>&quot;OT0000004849379&quot;</td><td>&quot;NAYLAMP - 191143&quot;</td><td>&quot;Zona Centro&quot;</td><td>&quot;Cerrado&quot;</td><td>2022-12-31</td><td>2023-01-25</td><td>2023-01-28</td><td>&quot;NAYLAMP&quot;</td><td>191143</td></tr><tr><td>&quot;OT0000004849382&quot;</td><td>&quot;LOS DAMASCOS - 193038&quot;</td><td>&quot;Zona Sur&quot;</td><td>&quot;Cerrado&quot;</td><td>2022-12-31</td><td>2023-01-04</td><td>2023-01-07</td><td>&quot;LOS DAMASCOS&quot;</td><td>193038</td></tr><tr><td>&quot;OT0000004849726&quot;</td><td>&quot;LUREN - 380004&quot;</td><td>&quot;Zona Sur&quot;</td><td>&quot;Cerrado&quot;</td><td>2022-12-31</td><td>2023-01-02</td><td>2023-01-05</td><td>&quot;LUREN&quot;</td><td>380004</td></tr><tr><td>&quot;OT0000004849732&quot;</td><td>&quot;EL PINO - 191087&quot;</td><td>&quot;Zona Centro&quot;</td><td>&quot;Cerrado&quot;</td><td>2022-12-31</td><td>2023-01-06</td><td>2023-01-09</td><td>&quot;EL PINO&quot;</td><td>191087</td></tr><tr><td>&quot;SA0000004849307&quot;</td><td>&quot;TUSILAGOS - 191108&quot;</td><td>&quot;Zona Centro&quot;</td><td>&quot;Rechazado&quot;</td><td>2022-12-31</td><td>null</td><td>null</td><td>&quot;TUSILAGOS&quot;</td><td>191108</td></tr></tbody></table></div>"
      ],
      "text/plain": [
       "shape: (5, 9)\n",
       "┌───────────┬───────────┬───────────┬───────────┬───┬───────────┬───────────┬───────────┬──────────┐\n",
       "│ TicketID  ┆ Ubicacion ┆ Service   ┆ Estado    ┆ … ┆ Fecha     ┆ Fecha     ┆ Agencia   ┆ AgenciaI │\n",
       "│ ---       ┆ ---       ┆ Desk      ┆ ---       ┆   ┆ Termino   ┆ Cierre    ┆ ---       ┆ D        │\n",
       "│ str       ┆ str       ┆ ---       ┆ str       ┆   ┆ ---       ┆ ---       ┆ str       ┆ ---      │\n",
       "│           ┆           ┆ str       ┆           ┆   ┆ date      ┆ date      ┆           ┆ i64      │\n",
       "╞═══════════╪═══════════╪═══════════╪═══════════╪═══╪═══════════╪═══════════╪═══════════╪══════════╡\n",
       "│ OT0000004 ┆ NAYLAMP - ┆ Zona      ┆ Cerrado   ┆ … ┆ 2023-01-2 ┆ 2023-01-2 ┆ NAYLAMP   ┆ 191143   │\n",
       "│ 849379    ┆ 191143    ┆ Centro    ┆           ┆   ┆ 5         ┆ 8         ┆           ┆          │\n",
       "│ OT0000004 ┆ LOS       ┆ Zona Sur  ┆ Cerrado   ┆ … ┆ 2023-01-0 ┆ 2023-01-0 ┆ LOS       ┆ 193038   │\n",
       "│ 849382    ┆ DAMASCOS  ┆           ┆           ┆   ┆ 4         ┆ 7         ┆ DAMASCOS  ┆          │\n",
       "│           ┆ - 193038  ┆           ┆           ┆   ┆           ┆           ┆           ┆          │\n",
       "│ OT0000004 ┆ LUREN -   ┆ Zona Sur  ┆ Cerrado   ┆ … ┆ 2023-01-0 ┆ 2023-01-0 ┆ LUREN     ┆ 380004   │\n",
       "│ 849726    ┆ 380004    ┆           ┆           ┆   ┆ 2         ┆ 5         ┆           ┆          │\n",
       "│ OT0000004 ┆ EL PINO - ┆ Zona      ┆ Cerrado   ┆ … ┆ 2023-01-0 ┆ 2023-01-0 ┆ EL PINO   ┆ 191087   │\n",
       "│ 849732    ┆ 191087    ┆ Centro    ┆           ┆   ┆ 6         ┆ 9         ┆           ┆          │\n",
       "│ SA0000004 ┆ TUSILAGOS ┆ Zona      ┆ Rechazado ┆ … ┆ null      ┆ null      ┆ TUSILAGOS ┆ 191108   │\n",
       "│ 849307    ┆ - 191108  ┆ Centro    ┆           ┆   ┆           ┆           ┆           ┆          │\n",
       "└───────────┴───────────┴───────────┴───────────┴───┴───────────┴───────────┴───────────┴──────────┘"
      ]
     },
     "execution_count": 77,
     "metadata": {},
     "output_type": "execute_result"
    }
   ],
   "source": [
    "tickets.head(5)"
   ]
  },
  {
   "cell_type": "markdown",
   "metadata": {},
   "source": [
    "### Creando una nueva columna\n",
    "\n",
    "Si la fecha Termino es nulo, colocar la fecha de Cierre, si no colocar la fecha Termino"
   ]
  },
  {
   "cell_type": "code",
   "execution_count": 78,
   "metadata": {},
   "outputs": [],
   "source": [
    "tickets = tickets.with_columns(\n",
    "    pl.when(pl.col('Fecha Termino').is_null())\n",
    "    .then(pl.col('Fecha Cierre'))\n",
    "    .otherwise(pl.col('Fecha Termino'))\n",
    "    .alias('Fecha Real Fin')\n",
    ")"
   ]
  },
  {
   "cell_type": "code",
   "execution_count": 84,
   "metadata": {},
   "outputs": [],
   "source": [
    "# Restando Fechas Fecha Real Fin - Fecha Creacion\n",
    "\n",
    "tickets = tickets.with_columns(\n",
    "    (pl.col('Fecha Real Fin') - pl.col('Fecha Creacion'))\n",
    "    .dt.total_days()\n",
    "    .alias('Dias Cierre')\n",
    ")"
   ]
  },
  {
   "cell_type": "code",
   "execution_count": 85,
   "metadata": {},
   "outputs": [
    {
     "data": {
      "text/html": [
       "<div><style>\n",
       ".dataframe > thead > tr,\n",
       ".dataframe > tbody > tr {\n",
       "  text-align: right;\n",
       "  white-space: pre-wrap;\n",
       "}\n",
       "</style>\n",
       "<small>shape: (5, 11)</small><table border=\"1\" class=\"dataframe\"><thead><tr><th>TicketID</th><th>Ubicacion</th><th>Service Desk</th><th>Estado</th><th>Fecha Creacion</th><th>Fecha Termino</th><th>Fecha Cierre</th><th>Agencia</th><th>AgenciaID</th><th>Fecha Real Fin</th><th>Dias Cierre</th></tr><tr><td>str</td><td>str</td><td>str</td><td>str</td><td>date</td><td>date</td><td>date</td><td>str</td><td>i64</td><td>date</td><td>i64</td></tr></thead><tbody><tr><td>&quot;OT0000004849379&quot;</td><td>&quot;NAYLAMP - 191143&quot;</td><td>&quot;Zona Centro&quot;</td><td>&quot;Cerrado&quot;</td><td>2022-12-31</td><td>2023-01-25</td><td>2023-01-28</td><td>&quot;NAYLAMP&quot;</td><td>191143</td><td>2023-01-25</td><td>25</td></tr><tr><td>&quot;OT0000004849382&quot;</td><td>&quot;LOS DAMASCOS - 193038&quot;</td><td>&quot;Zona Sur&quot;</td><td>&quot;Cerrado&quot;</td><td>2022-12-31</td><td>2023-01-04</td><td>2023-01-07</td><td>&quot;LOS DAMASCOS&quot;</td><td>193038</td><td>2023-01-04</td><td>4</td></tr><tr><td>&quot;OT0000004849726&quot;</td><td>&quot;LUREN - 380004&quot;</td><td>&quot;Zona Sur&quot;</td><td>&quot;Cerrado&quot;</td><td>2022-12-31</td><td>2023-01-02</td><td>2023-01-05</td><td>&quot;LUREN&quot;</td><td>380004</td><td>2023-01-02</td><td>2</td></tr><tr><td>&quot;OT0000004849732&quot;</td><td>&quot;EL PINO - 191087&quot;</td><td>&quot;Zona Centro&quot;</td><td>&quot;Cerrado&quot;</td><td>2022-12-31</td><td>2023-01-06</td><td>2023-01-09</td><td>&quot;EL PINO&quot;</td><td>191087</td><td>2023-01-06</td><td>6</td></tr><tr><td>&quot;SA0000004849307&quot;</td><td>&quot;TUSILAGOS - 191108&quot;</td><td>&quot;Zona Centro&quot;</td><td>&quot;Rechazado&quot;</td><td>2022-12-31</td><td>null</td><td>null</td><td>&quot;TUSILAGOS&quot;</td><td>191108</td><td>null</td><td>null</td></tr></tbody></table></div>"
      ],
      "text/plain": [
       "shape: (5, 11)\n",
       "┌───────────┬───────────┬───────────┬───────────┬───┬───────────┬───────────┬───────────┬──────────┐\n",
       "│ TicketID  ┆ Ubicacion ┆ Service   ┆ Estado    ┆ … ┆ Agencia   ┆ AgenciaID ┆ Fecha     ┆ Dias     │\n",
       "│ ---       ┆ ---       ┆ Desk      ┆ ---       ┆   ┆ ---       ┆ ---       ┆ Real Fin  ┆ Cierre   │\n",
       "│ str       ┆ str       ┆ ---       ┆ str       ┆   ┆ str       ┆ i64       ┆ ---       ┆ ---      │\n",
       "│           ┆           ┆ str       ┆           ┆   ┆           ┆           ┆ date      ┆ i64      │\n",
       "╞═══════════╪═══════════╪═══════════╪═══════════╪═══╪═══════════╪═══════════╪═══════════╪══════════╡\n",
       "│ OT0000004 ┆ NAYLAMP - ┆ Zona      ┆ Cerrado   ┆ … ┆ NAYLAMP   ┆ 191143    ┆ 2023-01-2 ┆ 25       │\n",
       "│ 849379    ┆ 191143    ┆ Centro    ┆           ┆   ┆           ┆           ┆ 5         ┆          │\n",
       "│ OT0000004 ┆ LOS       ┆ Zona Sur  ┆ Cerrado   ┆ … ┆ LOS       ┆ 193038    ┆ 2023-01-0 ┆ 4        │\n",
       "│ 849382    ┆ DAMASCOS  ┆           ┆           ┆   ┆ DAMASCOS  ┆           ┆ 4         ┆          │\n",
       "│           ┆ - 193038  ┆           ┆           ┆   ┆           ┆           ┆           ┆          │\n",
       "│ OT0000004 ┆ LUREN -   ┆ Zona Sur  ┆ Cerrado   ┆ … ┆ LUREN     ┆ 380004    ┆ 2023-01-0 ┆ 2        │\n",
       "│ 849726    ┆ 380004    ┆           ┆           ┆   ┆           ┆           ┆ 2         ┆          │\n",
       "│ OT0000004 ┆ EL PINO - ┆ Zona      ┆ Cerrado   ┆ … ┆ EL PINO   ┆ 191087    ┆ 2023-01-0 ┆ 6        │\n",
       "│ 849732    ┆ 191087    ┆ Centro    ┆           ┆   ┆           ┆           ┆ 6         ┆          │\n",
       "│ SA0000004 ┆ TUSILAGOS ┆ Zona      ┆ Rechazado ┆ … ┆ TUSILAGOS ┆ 191108    ┆ null      ┆ null     │\n",
       "│ 849307    ┆ - 191108  ┆ Centro    ┆           ┆   ┆           ┆           ┆           ┆          │\n",
       "└───────────┴───────────┴───────────┴───────────┴───┴───────────┴───────────┴───────────┴──────────┘"
      ]
     },
     "execution_count": 85,
     "metadata": {},
     "output_type": "execute_result"
    }
   ],
   "source": [
    "tickets.head()"
   ]
  },
  {
   "cell_type": "markdown",
   "metadata": {},
   "source": [
    "Crear la columna [Grupo Dias], opcional: <br>\n",
    "\t[Grupo Dias] = \t<br>\n",
    "\tSi [Dias Cierre] < 3 ENTONCES \"0 a 3 días\"<br>\n",
    "\t\t\tSi [Dias Cierre] < 7 ENTONCES \"3 a 7 días\"<br>\n",
    "\t\t\tSi [Dias Cierre] < 15 ENTONCES \"7 a 15 días\"<br>\n",
    "\t\t\tSi [Dias Cierre] >= 15 ENTONCES \"+ 15 días\""
   ]
  },
  {
   "cell_type": "code",
   "execution_count": null,
   "metadata": {},
   "outputs": [],
   "source": [
    "Tickets = tickets.with_columns(\n",
    "                                pl.when(pl.col('Dias Cierre').is_null()).then(None)\n",
    "                                .when(pl.col('Dias Cierre') < 3).then(pl.lit('0 a 3 días'))\n",
    "                                .when(pl.col('Dias Cierre') < 7).then(pl.lit('3 a 7 días'))\n",
    "                                .when(pl.col('Dias Cierre') < 15).then(pl.lit('7 a 15 días'))\n",
    "                                .otherwise(pl.lit('+ de 15 días'))\n",
    "                                .alias('Grupo Dias')\n",
    "                            )"
   ]
  }
 ],
 "metadata": {
  "kernelspec": {
   "display_name": "vEdicion1",
   "language": "python",
   "name": "python3"
  },
  "language_info": {
   "codemirror_mode": {
    "name": "ipython",
    "version": 3
   },
   "file_extension": ".py",
   "mimetype": "text/x-python",
   "name": "python",
   "nbconvert_exporter": "python",
   "pygments_lexer": "ipython3",
   "version": "3.11.7"
  }
 },
 "nbformat": 4,
 "nbformat_minor": 2
}
